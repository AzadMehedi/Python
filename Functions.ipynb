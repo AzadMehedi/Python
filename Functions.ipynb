{
  "nbformat": 4,
  "nbformat_minor": 0,
  "metadata": {
    "colab": {
      "provenance": [],
      "authorship_tag": "ABX9TyM1eWL6peBYK6/nfwpWob7G",
      "include_colab_link": true
    },
    "kernelspec": {
      "name": "python3",
      "display_name": "Python 3"
    },
    "language_info": {
      "name": "python"
    }
  },
  "cells": [
    {
      "cell_type": "markdown",
      "metadata": {
        "id": "view-in-github",
        "colab_type": "text"
      },
      "source": [
        "<a href=\"https://colab.research.google.com/github/AzadMehedi/Python/blob/main/Functions.ipynb\" target=\"_parent\"><img src=\"https://colab.research.google.com/assets/colab-badge.svg\" alt=\"Open In Colab\"/></a>"
      ]
    },
    {
      "cell_type": "code",
      "execution_count": null,
      "metadata": {
        "id": "UTe-nsSx9ehb"
      },
      "outputs": [],
      "source": []
    },
    {
      "cell_type": "markdown",
      "source": [],
      "metadata": {
        "id": "w6UgKU_H6Up_"
      }
    },
    {
      "cell_type": "markdown",
      "source": [
        "# Let's create a function(with docstring)"
      ],
      "metadata": {
        "id": "wtysHsiw9mNE"
      }
    },
    {
      "cell_type": "code",
      "source": [
        "def is_even(num):\n",
        "  '''\n",
        "  This function is return a number is even or idd.\n",
        "  input: any valid integer.\n",
        "  output: odd / even\n",
        "  created on: 11-01-2023\n",
        "  '''\n",
        "  \n",
        "  if type(num) == int:\n",
        "    if num%2 == 0:\n",
        "      return 'even'\n",
        "    else:\n",
        "      return 'odd'\n",
        "\n",
        "\n",
        "# function calling\n",
        "for i in range(1,11):\n",
        "  x = is_even(i)\n",
        "  print(x)"
      ],
      "metadata": {
        "colab": {
          "base_uri": "https://localhost:8080/"
        },
        "id": "CDr3u6CX9qvf",
        "outputId": "3a2e523c-3408-41b5-eebd-8cd2b6ca54a2"
      },
      "execution_count": null,
      "outputs": [
        {
          "output_type": "stream",
          "name": "stdout",
          "text": [
            "odd\n",
            "even\n",
            "odd\n",
            "even\n",
            "odd\n",
            "even\n",
            "odd\n",
            "even\n",
            "odd\n",
            "even\n"
          ]
        }
      ]
    },
    {
      "cell_type": "code",
      "source": [
        "# to access documentation on code\n",
        "print(is_even.__doc__)  #or\n",
        "is_even.__doc__"
      ],
      "metadata": {
        "colab": {
          "base_uri": "https://localhost:8080/",
          "height": 139
        },
        "id": "Myta9ThKBhcH",
        "outputId": "75dd76ff-07f7-43ae-aaf9-1e87590d40a3"
      },
      "execution_count": null,
      "outputs": [
        {
          "output_type": "stream",
          "name": "stdout",
          "text": [
            "\n",
            "  This function is return a number is even or idd.\n",
            "  input: any valid integer.\n",
            "  output: odd / even\n",
            "  created on: 11-01-2023\n",
            "  \n"
          ]
        },
        {
          "output_type": "execute_result",
          "data": {
            "text/plain": [
              "'\\n  This function is return a number is even or idd.\\n  input: any valid integer.\\n  output: odd / even\\n  created on: 11-01-2023\\n  '"
            ],
            "application/vnd.google.colaboratory.intrinsic+json": {
              "type": "string"
            }
          },
          "metadata": {},
          "execution_count": 23
        }
      ]
    },
    {
      "cell_type": "markdown",
      "source": [
        "To see documentation of any functions "
      ],
      "metadata": {
        "id": "_-L2lp8uB4CC"
      }
    },
    {
      "cell_type": "code",
      "source": [
        "# let's see print() documentation\n",
        "print(print.__doc__)"
      ],
      "metadata": {
        "colab": {
          "base_uri": "https://localhost:8080/"
        },
        "id": "AUdQ1YnOCDlt",
        "outputId": "5e2e4b96-ee30-4c89-8335-5d1ee1b3f6b5"
      },
      "execution_count": null,
      "outputs": [
        {
          "output_type": "stream",
          "name": "stdout",
          "text": [
            "print(value, ..., sep=' ', end='\\n', file=sys.stdout, flush=False)\n",
            "\n",
            "Prints the values to a stream, or to sys.stdout by default.\n",
            "Optional keyword arguments:\n",
            "file:  a file-like object (stream); defaults to the current sys.stdout.\n",
            "sep:   string inserted between values, default a space.\n",
            "end:   string appended after the last value, default a newline.\n",
            "flush: whether to forcibly flush the stream.\n"
          ]
        }
      ]
    },
    {
      "cell_type": "code",
      "source": [
        "print(type.__doc__)\n"
      ],
      "metadata": {
        "colab": {
          "base_uri": "https://localhost:8080/"
        },
        "id": "TTuAaF7xDA7y",
        "outputId": "91260b4f-5daa-4d7c-9134-de57268e784a"
      },
      "execution_count": null,
      "outputs": [
        {
          "output_type": "stream",
          "name": "stdout",
          "text": [
            "type(object_or_name, bases, dict)\n",
            "type(object) -> the object's type\n",
            "type(name, bases, dict) -> a new type\n"
          ]
        }
      ]
    },
    {
      "cell_type": "markdown",
      "source": [
        "# Parameters Vs Arguments"
      ],
      "metadata": {
        "id": "RJez5OfN6W9o"
      }
    },
    {
      "cell_type": "markdown",
      "source": [
        "### Types of Arguments\n",
        "\n",
        "- Default Argument\n",
        "- Positional Argument\n",
        "- Keyword Argument"
      ],
      "metadata": {
        "id": "YzVWNNQT6buX"
      }
    },
    {
      "cell_type": "code",
      "source": [
        "# Default Argument\n",
        "def power(a=1, b=1):        # Default Argument\n",
        "  return a**b\n",
        "\n",
        "power()"
      ],
      "metadata": {
        "id": "ncR8UgaL-2_4",
        "colab": {
          "base_uri": "https://localhost:8080/"
        },
        "outputId": "95486e54-e19c-4922-d295-708e063cde33"
      },
      "execution_count": null,
      "outputs": [
        {
          "output_type": "execute_result",
          "data": {
            "text/plain": [
              "1"
            ]
          },
          "metadata": {},
          "execution_count": 5
        }
      ]
    },
    {
      "cell_type": "code",
      "source": [
        "# positional argument\n",
        "power(2,3)"
      ],
      "metadata": {
        "colab": {
          "base_uri": "https://localhost:8080/"
        },
        "id": "FZct-JGJ6nTe",
        "outputId": "a66539dd-3e48-442b-9a78-e35640c18fb8"
      },
      "execution_count": null,
      "outputs": [
        {
          "output_type": "execute_result",
          "data": {
            "text/plain": [
              "8"
            ]
          },
          "metadata": {},
          "execution_count": 6
        }
      ]
    },
    {
      "cell_type": "code",
      "source": [
        "# keyword argument\n",
        "power(b=3, a=2)"
      ],
      "metadata": {
        "colab": {
          "base_uri": "https://localhost:8080/"
        },
        "id": "nSX6YoUw8Hqh",
        "outputId": "9a408fa8-aa22-4da8-fc75-8a284bc6380d"
      },
      "execution_count": null,
      "outputs": [
        {
          "output_type": "execute_result",
          "data": {
            "text/plain": [
              "8"
            ]
          },
          "metadata": {},
          "execution_count": 7
        }
      ]
    },
    {
      "cell_type": "markdown",
      "source": [
        "# `*args and **kwargs`\n",
        "`*args` and `**kwargs` are special Python keywords that are used to pass the variable length of arguments to a function"
      ],
      "metadata": {
        "id": "31gHYlJa8sus"
      }
    },
    {
      "cell_type": "code",
      "source": [
        "# *args\n",
        "# allows us to pass a variable number of non-keyword arguments to a function.\n",
        "\n",
        "def multiply(*args):  # when we put a * the functions ready to take n number of input\n",
        "  product = 1\n",
        "\n",
        "  for i in args:\n",
        "    product = product*i\n",
        "\n",
        "  print(args)   # args actually creates a tuple\n",
        "  return product\n",
        "\n",
        "multiply(1,2,3,4,5,6,7,8,9)"
      ],
      "metadata": {
        "colab": {
          "base_uri": "https://localhost:8080/"
        },
        "id": "Hb0r-4b-8n3l",
        "outputId": "7065adcf-2427-4f96-e932-542704ef7f5a"
      },
      "execution_count": null,
      "outputs": [
        {
          "output_type": "stream",
          "name": "stdout",
          "text": [
            "(1, 2, 3, 4, 5, 6, 7, 8, 9)\n"
          ]
        },
        {
          "output_type": "execute_result",
          "data": {
            "text/plain": [
              "362880"
            ]
          },
          "metadata": {},
          "execution_count": 18
        }
      ]
    },
    {
      "cell_type": "code",
      "source": [
        "# **kwargs\n",
        "# **kwargs allows us to pass any number of keyword arguments.\n",
        "# Keyword arguments mean that they contain a key-value pair, like a Python dictionary.\n",
        "\n",
        "def display(**kwargs):\n",
        "\n",
        "  for (key,value) in kwargs.items():\n",
        "    print(key,'->',value)\n",
        "\n",
        "display(india='delhi',srilanka='colombo',nepal='kathmandu',pakistan='islamabad',Bangladesh='dhaka')\n"
      ],
      "metadata": {
        "colab": {
          "base_uri": "https://localhost:8080/"
        },
        "id": "i42gWx-zBYjv",
        "outputId": "89bfa139-9968-4d4e-fbaa-5aac27bab261"
      },
      "execution_count": null,
      "outputs": [
        {
          "output_type": "stream",
          "name": "stdout",
          "text": [
            "india -> delhi\n",
            "srilanka -> colombo\n",
            "nepal -> kathmandu\n",
            "pakistan -> islamabad\n",
            "Bangladesh -> dhaka\n"
          ]
        }
      ]
    },
    {
      "cell_type": "markdown",
      "source": [
        "##### Points to remember while using `*args and **kwargs`\n",
        "\n",
        "- order of the arguments matter(normal -> `*args` -> `**kwargs`)\n",
        "- The words “args” and “kwargs” are only a convention, you can use any name of your choice"
      ],
      "metadata": {
        "id": "X8ouhOt9w9CQ"
      }
    },
    {
      "cell_type": "markdown",
      "source": [
        "# without return statement"
      ],
      "metadata": {
        "id": "d-kBdceE0AYS"
      }
    },
    {
      "cell_type": "code",
      "source": [
        "L = [1,2,3]\n",
        "print(L.append(4))\n",
        "print(L)"
      ],
      "metadata": {
        "colab": {
          "base_uri": "https://localhost:8080/"
        },
        "id": "vzIURyBGRDcB",
        "outputId": "d915551d-2bb7-4888-b44b-42716bb80c0b"
      },
      "execution_count": null,
      "outputs": [
        {
          "output_type": "stream",
          "name": "stdout",
          "text": [
            "None\n",
            "[1, 2, 3, 4]\n"
          ]
        }
      ]
    },
    {
      "cell_type": "markdown",
      "source": [
        "# Variable Scope"
      ],
      "metadata": {
        "id": "zLUSlAK-1LXo"
      }
    },
    {
      "cell_type": "code",
      "source": [
        "# global varirable & local variable\n",
        "def g(y):\n",
        "  print(x)\n",
        "  print(x+1)\n",
        "x = 5\n",
        "g(x)\n",
        "print(x)"
      ],
      "metadata": {
        "colab": {
          "base_uri": "https://localhost:8080/"
        },
        "id": "3cMGL5AO0GCX",
        "outputId": "6e0c9408-e715-40e2-f8be-4a70ae3e92de"
      },
      "execution_count": null,
      "outputs": [
        {
          "output_type": "stream",
          "name": "stdout",
          "text": [
            "5\n",
            "6\n",
            "5\n"
          ]
        }
      ]
    },
    {
      "cell_type": "code",
      "source": [
        "# excercise\n",
        "def f(y):\n",
        "    x = 1\n",
        "    x += 1\n",
        "    print(x)\n",
        "x = 5\n",
        "f(x)\n",
        "print(x)"
      ],
      "metadata": {
        "colab": {
          "base_uri": "https://localhost:8080/"
        },
        "id": "j3MhdlPX0HvT",
        "outputId": "05cb7155-592a-445c-a4dd-c0a5f46f7b21"
      },
      "execution_count": null,
      "outputs": [
        {
          "output_type": "stream",
          "name": "stdout",
          "text": [
            "2\n",
            "5\n"
          ]
        }
      ]
    },
    {
      "cell_type": "code",
      "source": [
        "# excercise\n",
        "def h(y):\n",
        "    x += 1   # local varirable can not change global variable. can only use it. \n",
        "x = 5\n",
        "h(x)\n",
        "print(x)"
      ],
      "metadata": {
        "colab": {
          "base_uri": "https://localhost:8080/",
          "height": 340
        },
        "id": "C1CwlF_-CQ_0",
        "outputId": "179f1fb9-e4e8-40d6-b7c7-444028abcd1a"
      },
      "execution_count": null,
      "outputs": [
        {
          "output_type": "error",
          "ename": "UnboundLocalError",
          "evalue": "ignored",
          "traceback": [
            "\u001b[0;31m---------------------------------------------------------------------------\u001b[0m",
            "\u001b[0;31mUnboundLocalError\u001b[0m                         Traceback (most recent call last)",
            "\u001b[0;32m<ipython-input-56-93f1659894bc>\u001b[0m in \u001b[0;36m<module>\u001b[0;34m\u001b[0m\n\u001b[1;32m      3\u001b[0m     \u001b[0mx\u001b[0m \u001b[0;34m+=\u001b[0m \u001b[0;36m1\u001b[0m   \u001b[0;31m# local varirable can not change global variable. can only use it.\u001b[0m\u001b[0;34m\u001b[0m\u001b[0;34m\u001b[0m\u001b[0m\n\u001b[1;32m      4\u001b[0m \u001b[0mx\u001b[0m \u001b[0;34m=\u001b[0m \u001b[0;36m5\u001b[0m\u001b[0;34m\u001b[0m\u001b[0;34m\u001b[0m\u001b[0m\n\u001b[0;32m----> 5\u001b[0;31m \u001b[0mh\u001b[0m\u001b[0;34m(\u001b[0m\u001b[0mx\u001b[0m\u001b[0;34m)\u001b[0m\u001b[0;34m\u001b[0m\u001b[0;34m\u001b[0m\u001b[0m\n\u001b[0m\u001b[1;32m      6\u001b[0m \u001b[0mprint\u001b[0m\u001b[0;34m(\u001b[0m\u001b[0mx\u001b[0m\u001b[0;34m)\u001b[0m\u001b[0;34m\u001b[0m\u001b[0;34m\u001b[0m\u001b[0m\n",
            "\u001b[0;32m<ipython-input-56-93f1659894bc>\u001b[0m in \u001b[0;36mh\u001b[0;34m(y)\u001b[0m\n\u001b[1;32m      1\u001b[0m \u001b[0;31m# excercise\u001b[0m\u001b[0;34m\u001b[0m\u001b[0;34m\u001b[0m\u001b[0;34m\u001b[0m\u001b[0m\n\u001b[1;32m      2\u001b[0m \u001b[0;32mdef\u001b[0m \u001b[0mh\u001b[0m\u001b[0;34m(\u001b[0m\u001b[0my\u001b[0m\u001b[0;34m)\u001b[0m\u001b[0;34m:\u001b[0m\u001b[0;34m\u001b[0m\u001b[0;34m\u001b[0m\u001b[0m\n\u001b[0;32m----> 3\u001b[0;31m     \u001b[0mx\u001b[0m \u001b[0;34m+=\u001b[0m \u001b[0;36m1\u001b[0m   \u001b[0;31m# local varirable can not change global variable. can only use it.\u001b[0m\u001b[0;34m\u001b[0m\u001b[0;34m\u001b[0m\u001b[0m\n\u001b[0m\u001b[1;32m      4\u001b[0m \u001b[0mx\u001b[0m \u001b[0;34m=\u001b[0m \u001b[0;36m5\u001b[0m\u001b[0;34m\u001b[0m\u001b[0;34m\u001b[0m\u001b[0m\n\u001b[1;32m      5\u001b[0m \u001b[0mh\u001b[0m\u001b[0;34m(\u001b[0m\u001b[0mx\u001b[0m\u001b[0;34m)\u001b[0m\u001b[0;34m\u001b[0m\u001b[0;34m\u001b[0m\u001b[0m\n",
            "\u001b[0;31mUnboundLocalError\u001b[0m: local variable 'x' referenced before assignment"
          ]
        }
      ]
    },
    {
      "cell_type": "code",
      "source": [
        "# excercise\n",
        "def h(y):\n",
        "  global x\n",
        "  x += 1   # local varirable can change global variable through 'global' keyword \n",
        "x = 5\n",
        "h(x)\n",
        "print(x)"
      ],
      "metadata": {
        "colab": {
          "base_uri": "https://localhost:8080/"
        },
        "id": "2b7mjAM-Hugd",
        "outputId": "447c6543-f6d0-472b-eb06-884faabee22e"
      },
      "execution_count": null,
      "outputs": [
        {
          "output_type": "stream",
          "name": "stdout",
          "text": [
            "6\n"
          ]
        }
      ]
    },
    {
      "cell_type": "code",
      "source": [
        "# excercise\n",
        "def f(x):\n",
        "   x = x + 1\n",
        "   print('in f(x): x =', x)\n",
        "   return x\n",
        "\n",
        "x = 3\n",
        "z = f(x)\n",
        "print('in main program scope: z =', z)\n",
        "print('in main program scope: x =', x)"
      ],
      "metadata": {
        "colab": {
          "base_uri": "https://localhost:8080/"
        },
        "id": "RKZN6cG4ILSV",
        "outputId": "8d87f3a5-e95a-4b65-aa96-124a5e00ef9e"
      },
      "execution_count": null,
      "outputs": [
        {
          "output_type": "stream",
          "name": "stdout",
          "text": [
            "in f(x): x = 4\n",
            "in main program scope: z = 4\n",
            "in main program scope: x = 3\n"
          ]
        }
      ]
    },
    {
      "cell_type": "markdown",
      "source": [
        "#  Nested Functions"
      ],
      "metadata": {
        "id": "1OePbQjZXUDY"
      }
    },
    {
      "cell_type": "code",
      "source": [
        "def f():\n",
        "  def g():\n",
        "    print('Inside function g')\n",
        "  g()\n",
        "  print('Inside function f')\n",
        "f( )"
      ],
      "metadata": {
        "colab": {
          "base_uri": "https://localhost:8080/"
        },
        "id": "Xz38zzEKXVI3",
        "outputId": "195259cb-3cd8-4b8f-db37-18ebda8cd96c"
      },
      "execution_count": null,
      "outputs": [
        {
          "output_type": "stream",
          "name": "stdout",
          "text": [
            "Inside function g\n",
            "Inside function f\n"
          ]
        }
      ]
    },
    {
      "cell_type": "code",
      "source": [
        "def g(x):\n",
        "    def h():\n",
        "        x = 'abc'\n",
        "    x = x + 1\n",
        "    print('in g(x): x =', x)\n",
        "    h()\n",
        "    return x\n",
        "\n",
        "x = 3\n",
        "z = g(x)"
      ],
      "metadata": {
        "colab": {
          "base_uri": "https://localhost:8080/"
        },
        "id": "C42zJ3eucx2g",
        "outputId": "6844be04-870b-46e6-bc18-c1f832ced566"
      },
      "execution_count": null,
      "outputs": [
        {
          "output_type": "stream",
          "name": "stdout",
          "text": [
            "in g(x): x = 4\n"
          ]
        }
      ]
    },
    {
      "cell_type": "code",
      "source": [
        "# excercise\n",
        "def g(x):\n",
        "    def h(x):\n",
        "        x = x+1\n",
        "        print(\"in h(x): x = \", x)\n",
        "    x = x + 1\n",
        "    print('in g(x): x = ', x)\n",
        "    h(x)\n",
        "    return x\n",
        "\n",
        "x = 3\n",
        "z = g(x)\n",
        "print('in main program scope: x = ', x)\n",
        "print('in main program scope: z = ', z)"
      ],
      "metadata": {
        "colab": {
          "base_uri": "https://localhost:8080/"
        },
        "id": "iRmYp8Rcdm5U",
        "outputId": "ca556f3f-8105-4de9-fcee-cd8ddb69687c"
      },
      "execution_count": 1,
      "outputs": [
        {
          "output_type": "stream",
          "name": "stdout",
          "text": [
            "in g(x): x =  4\n",
            "in h(x): x =  5\n",
            "in main program scope: x =  3\n",
            "in main program scope: z =  4\n"
          ]
        }
      ]
    },
    {
      "cell_type": "markdown",
      "source": [
        "# Functions are 1st class citizens"
      ],
      "metadata": {
        "id": "4cXWre179P6s"
      }
    },
    {
      "cell_type": "code",
      "source": [
        "# type & id\n",
        "def square(num):\n",
        "  return num**2\n",
        "\n",
        "type(square)\n",
        "id(square)"
      ],
      "metadata": {
        "id": "T-BKKfwJ9Qr7",
        "outputId": "1c028aa7-f9d0-4ee9-e370-3361ffb90fab",
        "colab": {
          "base_uri": "https://localhost:8080/"
        }
      },
      "execution_count": 13,
      "outputs": [
        {
          "output_type": "execute_result",
          "data": {
            "text/plain": [
              "139976185566400"
            ]
          },
          "metadata": {},
          "execution_count": 13
        }
      ]
    },
    {
      "cell_type": "code",
      "source": [
        "# reassign\n",
        "x = square\n",
        "id(x)\n",
        "x(3)"
      ],
      "metadata": {
        "id": "FlSqWumg-ZSz",
        "outputId": "b8b6ada0-084d-4f03-f1bb-92b379baacb3",
        "colab": {
          "base_uri": "https://localhost:8080/"
        }
      },
      "execution_count": 14,
      "outputs": [
        {
          "output_type": "execute_result",
          "data": {
            "text/plain": [
              "9"
            ]
          },
          "metadata": {},
          "execution_count": 14
        }
      ]
    },
    {
      "cell_type": "code",
      "source": [
        "# deleting a function\n",
        "del square"
      ],
      "metadata": {
        "id": "VUI1JaLS_fk-"
      },
      "execution_count": 9,
      "outputs": []
    },
    {
      "cell_type": "code",
      "source": [
        "square(3)"
      ],
      "metadata": {
        "id": "i5Eowm_nAIMv",
        "outputId": "b8236015-22df-4a15-af06-ff3f29c53628",
        "colab": {
          "base_uri": "https://localhost:8080/",
          "height": 167
        }
      },
      "execution_count": 12,
      "outputs": [
        {
          "output_type": "error",
          "ename": "NameError",
          "evalue": "ignored",
          "traceback": [
            "\u001b[0;31m---------------------------------------------------------------------------\u001b[0m",
            "\u001b[0;31mNameError\u001b[0m                                 Traceback (most recent call last)",
            "\u001b[0;32m<ipython-input-12-2cfd8bba3a88>\u001b[0m in \u001b[0;36m<module>\u001b[0;34m\u001b[0m\n\u001b[0;32m----> 1\u001b[0;31m \u001b[0msquare\u001b[0m\u001b[0;34m(\u001b[0m\u001b[0;36m3\u001b[0m\u001b[0;34m)\u001b[0m\u001b[0;34m\u001b[0m\u001b[0;34m\u001b[0m\u001b[0m\n\u001b[0m",
            "\u001b[0;31mNameError\u001b[0m: name 'square' is not defined"
          ]
        }
      ]
    },
    {
      "cell_type": "code",
      "source": [
        "# storing\n",
        "L = [1,2,3,4,square]\n",
        "L"
      ],
      "metadata": {
        "id": "5sR-9SXBAJgx",
        "outputId": "ee433a6a-84c8-4203-a0d7-7875c9c710ab",
        "colab": {
          "base_uri": "https://localhost:8080/"
        }
      },
      "execution_count": 15,
      "outputs": [
        {
          "output_type": "execute_result",
          "data": {
            "text/plain": [
              "[1, 2, 3, 4, <function __main__.square(num)>]"
            ]
          },
          "metadata": {},
          "execution_count": 15
        }
      ]
    },
    {
      "cell_type": "code",
      "source": [
        "L[-1](3)"
      ],
      "metadata": {
        "id": "Vgg4AEhcAgYv",
        "outputId": "e01beed3-82b3-4984-d734-7c48ab706d3e",
        "colab": {
          "base_uri": "https://localhost:8080/"
        }
      },
      "execution_count": 17,
      "outputs": [
        {
          "output_type": "execute_result",
          "data": {
            "text/plain": [
              "9"
            ]
          },
          "metadata": {},
          "execution_count": 17
        }
      ]
    },
    {
      "cell_type": "code",
      "source": [
        "s = {square}\n",
        "s"
      ],
      "metadata": {
        "id": "rwSS9fGfAlpX",
        "outputId": "35afe68d-6f8d-4a86-f594-0b1b33f82578",
        "colab": {
          "base_uri": "https://localhost:8080/"
        }
      },
      "execution_count": 19,
      "outputs": [
        {
          "output_type": "execute_result",
          "data": {
            "text/plain": [
              "{<function __main__.square(num)>}"
            ]
          },
          "metadata": {},
          "execution_count": 19
        }
      ]
    },
    {
      "cell_type": "code",
      "source": [],
      "metadata": {
        "id": "800i349EAs0e"
      },
      "execution_count": null,
      "outputs": []
    }
  ]
}