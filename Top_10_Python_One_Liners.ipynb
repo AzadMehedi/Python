{
  "nbformat": 4,
  "nbformat_minor": 0,
  "metadata": {
    "colab": {
      "provenance": [],
      "authorship_tag": "ABX9TyOAapsdZyGqsbsKRfydjH77",
      "include_colab_link": true
    },
    "kernelspec": {
      "name": "python3",
      "display_name": "Python 3"
    },
    "language_info": {
      "name": "python"
    }
  },
  "cells": [
    {
      "cell_type": "markdown",
      "metadata": {
        "id": "view-in-github",
        "colab_type": "text"
      },
      "source": [
        "<a href=\"https://colab.research.google.com/github/AzadMehedi/Python/blob/main/Top_10_Python_One_Liners.ipynb\" target=\"_parent\"><img src=\"https://colab.research.google.com/assets/colab-badge.svg\" alt=\"Open In Colab\"/></a>"
      ]
    },
    {
      "cell_type": "markdown",
      "source": [
        "1. Swap variables\n"
      ],
      "metadata": {
        "id": "pMc7_mCxPoH0"
      }
    },
    {
      "cell_type": "code",
      "source": [
        "a =10\n",
        "b=20"
      ],
      "metadata": {
        "id": "LidXiMkfPqNi"
      },
      "execution_count": null,
      "outputs": []
    },
    {
      "cell_type": "code",
      "source": [
        "b,a = a,b"
      ],
      "metadata": {
        "id": "As6Y95HVP84E"
      },
      "execution_count": null,
      "outputs": []
    },
    {
      "cell_type": "code",
      "source": [
        "print(a, b)"
      ],
      "metadata": {
        "colab": {
          "base_uri": "https://localhost:8080/"
        },
        "id": "srkNeE7HP_O6",
        "outputId": "9466e1ba-516d-48ac-80a0-b94f6851403a"
      },
      "execution_count": null,
      "outputs": [
        {
          "output_type": "stream",
          "name": "stdout",
          "text": [
            "20 10\n"
          ]
        }
      ]
    },
    {
      "cell_type": "markdown",
      "source": [
        "2. List Comprehension\n"
      ],
      "metadata": {
        "id": "Gc7RW94tQMq0"
      }
    },
    {
      "cell_type": "code",
      "source": [
        "squares = []\n",
        "for i in range(10):\n",
        "  if i % 2 == 0:\n",
        "    squares.append(i*i)\n",
        "print(squares)\n"
      ],
      "metadata": {
        "colab": {
          "base_uri": "https://localhost:8080/"
        },
        "id": "L85HD_z-QZUN",
        "outputId": "db508438-6b11-49be-edfc-c9aebf40d54e"
      },
      "execution_count": null,
      "outputs": [
        {
          "output_type": "stream",
          "name": "stdout",
          "text": [
            "[0, 4, 16, 36, 64]\n"
          ]
        }
      ]
    },
    {
      "cell_type": "code",
      "source": [
        "squares = [i*i for i in range(10) if i%2 == 0]\n",
        "squares"
      ],
      "metadata": {
        "colab": {
          "base_uri": "https://localhost:8080/"
        },
        "id": "ciE4L1YFQo5o",
        "outputId": "c94fbfa3-0c55-4145-ce8a-f7876ec5c355"
      },
      "execution_count": null,
      "outputs": [
        {
          "output_type": "execute_result",
          "data": {
            "text/plain": [
              "[0, 4, 16, 36, 64]"
            ]
          },
          "metadata": {},
          "execution_count": 14
        }
      ]
    },
    {
      "cell_type": "markdown",
      "source": [
        "3. if else (ternary operator)\n"
      ],
      "metadata": {
        "id": "OdUEc6sARokc"
      }
    },
    {
      "cell_type": "code",
      "source": [
        "if 3>2:\n",
        "  var = 42\n",
        "else:\n",
        "  var = 99\n",
        "print(var)"
      ],
      "metadata": {
        "colab": {
          "base_uri": "https://localhost:8080/"
        },
        "id": "oJKrIrOoQ9A5",
        "outputId": "36accdd4-1b5d-4afc-e657-03e753aaf620"
      },
      "execution_count": null,
      "outputs": [
        {
          "output_type": "stream",
          "name": "stdout",
          "text": [
            "42\n"
          ]
        }
      ]
    },
    {
      "cell_type": "code",
      "source": [
        "var = 42 if 3>2 else 99\n",
        "var "
      ],
      "metadata": {
        "colab": {
          "base_uri": "https://localhost:8080/"
        },
        "id": "gLzkylvfSAxr",
        "outputId": "5fbe8fa0-01dd-494d-ea11-34fe545a65ce"
      },
      "execution_count": null,
      "outputs": [
        {
          "output_type": "execute_result",
          "data": {
            "text/plain": [
              "42"
            ]
          },
          "metadata": {},
          "execution_count": 17
        }
      ]
    },
    {
      "cell_type": "markdown",
      "source": [
        "4. Print without new line"
      ],
      "metadata": {
        "id": "doYzdp6nSTcs"
      }
    },
    {
      "cell_type": "code",
      "source": [
        "data = [0,1,2,3,4,5]\n",
        "data"
      ],
      "metadata": {
        "colab": {
          "base_uri": "https://localhost:8080/"
        },
        "id": "gU5JlDhWSQgO",
        "outputId": "73c10171-0d50-4d51-94b6-9f6051945afd"
      },
      "execution_count": null,
      "outputs": [
        {
          "output_type": "execute_result",
          "data": {
            "text/plain": [
              "[0, 1, 2, 3, 4, 5]"
            ]
          },
          "metadata": {},
          "execution_count": 20
        }
      ]
    },
    {
      "cell_type": "code",
      "source": [
        "for i in data:\n",
        "  print(i, end=' ')"
      ],
      "metadata": {
        "colab": {
          "base_uri": "https://localhost:8080/"
        },
        "id": "jJNcFjdPSv-C",
        "outputId": "ea77254e-0baa-46aa-d8eb-7998557747f7"
      },
      "execution_count": null,
      "outputs": [
        {
          "output_type": "stream",
          "name": "stdout",
          "text": [
            "0 1 2 3 4 5 "
          ]
        }
      ]
    },
    {
      "cell_type": "code",
      "source": [
        "print(*data)\n",
        "print('done')"
      ],
      "metadata": {
        "colab": {
          "base_uri": "https://localhost:8080/"
        },
        "id": "inwNFwmySzXI",
        "outputId": "23e8f19c-eb3f-4c95-8462-6b704ca21ba8"
      },
      "execution_count": null,
      "outputs": [
        {
          "output_type": "stream",
          "name": "stdout",
          "text": [
            "0 1 2 3 4 5\n",
            "done\n"
          ]
        }
      ]
    },
    {
      "cell_type": "markdown",
      "source": [
        "5. days left in year"
      ],
      "metadata": {
        "id": "JraMRDoIce9f"
      }
    },
    {
      "cell_type": "code",
      "source": [
        "import datetime\n",
        "print((datetime.date(2022,12,31)-datetime.date.today()).days)"
      ],
      "metadata": {
        "id": "ZIC6PW_PTBNX",
        "colab": {
          "base_uri": "https://localhost:8080/"
        },
        "outputId": "eea7b172-5383-4fdb-ff15-05b51a3d3e6e"
      },
      "execution_count": null,
      "outputs": [
        {
          "output_type": "stream",
          "name": "stdout",
          "text": [
            "38\n"
          ]
        }
      ]
    },
    {
      "cell_type": "markdown",
      "source": [
        "6. Reversing a list"
      ],
      "metadata": {
        "id": "ER5AeKVaekBC"
      }
    },
    {
      "cell_type": "code",
      "source": [
        "a = [1,2,3,4,5,6]\n"
      ],
      "metadata": {
        "id": "fAaoyZuecuml"
      },
      "execution_count": null,
      "outputs": []
    },
    {
      "cell_type": "code",
      "source": [
        "a = a[::-1]\n",
        "a"
      ],
      "metadata": {
        "colab": {
          "base_uri": "https://localhost:8080/"
        },
        "id": "dVRsdSxNeq6B",
        "outputId": "a39ae632-f3dd-4f12-e10f-7940a193c7a4"
      },
      "execution_count": null,
      "outputs": [
        {
          "output_type": "execute_result",
          "data": {
            "text/plain": [
              "[6, 5, 4, 3, 2, 1]"
            ]
          },
          "metadata": {},
          "execution_count": 35
        }
      ]
    },
    {
      "cell_type": "code",
      "source": [
        "b = 'level'\n",
        "b = b[::-1]\n",
        "b"
      ],
      "metadata": {
        "colab": {
          "base_uri": "https://localhost:8080/",
          "height": 36
        },
        "id": "pBCJMJOietwb",
        "outputId": "4b70869c-0aa6-425d-8ee0-8825b2137c9e"
      },
      "execution_count": null,
      "outputs": [
        {
          "output_type": "execute_result",
          "data": {
            "text/plain": [
              "'level'"
            ],
            "application/vnd.google.colaboratory.intrinsic+json": {
              "type": "string"
            }
          },
          "metadata": {},
          "execution_count": 36
        }
      ]
    },
    {
      "cell_type": "code",
      "source": [
        "print(a == a[::-1])"
      ],
      "metadata": {
        "colab": {
          "base_uri": "https://localhost:8080/"
        },
        "id": "fh-PgJurfKRd",
        "outputId": "fa19740a-a750-4201-aec5-a4de1eaf2f90"
      },
      "execution_count": null,
      "outputs": [
        {
          "output_type": "stream",
          "name": "stdout",
          "text": [
            "False\n"
          ]
        }
      ]
    },
    {
      "cell_type": "code",
      "source": [
        "print(b == b[::-1]) # its a palindrome"
      ],
      "metadata": {
        "colab": {
          "base_uri": "https://localhost:8080/"
        },
        "id": "bxYHDnEvfRZ5",
        "outputId": "32311c80-8690-4e26-ca4b-87e9992f19d2"
      },
      "execution_count": null,
      "outputs": [
        {
          "output_type": "stream",
          "name": "stdout",
          "text": [
            "True\n"
          ]
        }
      ]
    },
    {
      "cell_type": "markdown",
      "source": [
        "7. Multiple variable assignment"
      ],
      "metadata": {
        "id": "UgUSkLKEfZc5"
      }
    },
    {
      "cell_type": "code",
      "source": [],
      "metadata": {
        "id": "sTXdm2DBfUWp"
      },
      "execution_count": null,
      "outputs": []
    }
  ]
}