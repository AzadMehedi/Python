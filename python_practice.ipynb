{
  "cells": [
    {
      "cell_type": "markdown",
      "metadata": {
        "id": "view-in-github",
        "colab_type": "text"
      },
      "source": [
        "<a href=\"https://colab.research.google.com/github/AzadMehedi/Python/blob/main/python_practice.ipynb\" target=\"_parent\"><img src=\"https://colab.research.google.com/assets/colab-badge.svg\" alt=\"Open In Colab\"/></a>"
      ]
    },
    {
      "cell_type": "code",
      "execution_count": null,
      "id": "8d0e543f",
      "metadata": {
        "colab": {
          "base_uri": "https://localhost:8080/"
        },
        "id": "8d0e543f",
        "outputId": "f2540b01-9a45-40ba-838b-25ed262a366b"
      },
      "outputs": [
        {
          "output_type": "execute_result",
          "data": {
            "text/plain": [
              "10"
            ]
          },
          "metadata": {},
          "execution_count": 1
        }
      ],
      "source": [
        "a=10\n",
        "a"
      ]
    },
    {
      "cell_type": "code",
      "execution_count": null,
      "id": "78f51e43",
      "metadata": {
        "colab": {
          "base_uri": "https://localhost:8080/"
        },
        "id": "78f51e43",
        "outputId": "90bfe0fe-60db-4fa5-9bf6-2f26f69cf762"
      },
      "outputs": [
        {
          "output_type": "execute_result",
          "data": {
            "text/plain": [
              "int"
            ]
          },
          "metadata": {},
          "execution_count": 2
        }
      ],
      "source": [
        "type(a)"
      ]
    },
    {
      "cell_type": "code",
      "execution_count": null,
      "id": "c7edeb95",
      "metadata": {
        "colab": {
          "base_uri": "https://localhost:8080/"
        },
        "id": "c7edeb95",
        "outputId": "40875cbc-fd85-4630-9b68-2571bfc16687"
      },
      "outputs": [
        {
          "output_type": "execute_result",
          "data": {
            "text/plain": [
              "2.134"
            ]
          },
          "metadata": {},
          "execution_count": 3
        }
      ],
      "source": [
        "a=2.134\n",
        "a"
      ]
    },
    {
      "cell_type": "code",
      "execution_count": null,
      "id": "f79dd1ef",
      "metadata": {
        "colab": {
          "base_uri": "https://localhost:8080/"
        },
        "id": "f79dd1ef",
        "outputId": "bf37e2c7-db94-4794-8c8e-698698925f6a"
      },
      "outputs": [
        {
          "output_type": "execute_result",
          "data": {
            "text/plain": [
              "float"
            ]
          },
          "metadata": {},
          "execution_count": 4
        }
      ],
      "source": [
        "type(a)"
      ]
    },
    {
      "cell_type": "code",
      "execution_count": null,
      "id": "f98ad69d",
      "metadata": {
        "id": "f98ad69d"
      },
      "outputs": [],
      "source": [
        "b=True"
      ]
    },
    {
      "cell_type": "code",
      "execution_count": null,
      "id": "26324f8d",
      "metadata": {
        "colab": {
          "base_uri": "https://localhost:8080/"
        },
        "id": "26324f8d",
        "outputId": "cd293bc0-16ca-4c82-d956-6a92e87d7e45"
      },
      "outputs": [
        {
          "output_type": "execute_result",
          "data": {
            "text/plain": [
              "bool"
            ]
          },
          "metadata": {},
          "execution_count": 6
        }
      ],
      "source": [
        "type(b)"
      ]
    },
    {
      "cell_type": "code",
      "execution_count": null,
      "id": "20b8b919",
      "metadata": {
        "colab": {
          "base_uri": "https://localhost:8080/"
        },
        "id": "20b8b919",
        "outputId": "82a10540-0165-4542-a4f9-899ae32d16da"
      },
      "outputs": [
        {
          "output_type": "execute_result",
          "data": {
            "text/plain": [
              "str"
            ]
          },
          "metadata": {},
          "execution_count": 7
        }
      ],
      "source": [
        "c='mehedi'\n",
        "type(c)"
      ]
    },
    {
      "cell_type": "code",
      "execution_count": null,
      "id": "eab4f216",
      "metadata": {
        "colab": {
          "base_uri": "https://localhost:8080/",
          "height": 35
        },
        "id": "eab4f216",
        "outputId": "bf84a58d-6300-46f0-aff1-ad072c2750a2"
      },
      "outputs": [
        {
          "output_type": "execute_result",
          "data": {
            "text/plain": [
              "'mehedi'"
            ],
            "application/vnd.google.colaboratory.intrinsic+json": {
              "type": "string"
            }
          },
          "metadata": {},
          "execution_count": 8
        }
      ],
      "source": [
        "c"
      ]
    },
    {
      "cell_type": "code",
      "execution_count": null,
      "id": "e283cbdb",
      "metadata": {
        "colab": {
          "base_uri": "https://localhost:8080/"
        },
        "id": "e283cbdb",
        "outputId": "8434c6ec-58ba-4bda-88bc-445343a1cf7d"
      },
      "outputs": [
        {
          "output_type": "execute_result",
          "data": {
            "text/plain": [
              "(3+4j)"
            ]
          },
          "metadata": {},
          "execution_count": 9
        }
      ],
      "source": [
        "a1=3+4j\n",
        "a1"
      ]
    },
    {
      "cell_type": "code",
      "execution_count": null,
      "id": "cc9e1e23",
      "metadata": {
        "colab": {
          "base_uri": "https://localhost:8080/"
        },
        "id": "cc9e1e23",
        "outputId": "6f0f2b91-6cb8-407d-f8d4-ac3bf8419137"
      },
      "outputs": [
        {
          "output_type": "execute_result",
          "data": {
            "text/plain": [
              "complex"
            ]
          },
          "metadata": {},
          "execution_count": 10
        }
      ],
      "source": [
        "type(a1)"
      ]
    },
    {
      "cell_type": "code",
      "execution_count": null,
      "id": "618cf957",
      "metadata": {
        "id": "618cf957"
      },
      "outputs": [],
      "source": [
        "#Arithmatic Operator\n",
        "#+,-,*,/,%"
      ]
    },
    {
      "cell_type": "code",
      "execution_count": null,
      "id": "ed912ee7",
      "metadata": {
        "id": "ed912ee7"
      },
      "outputs": [],
      "source": [
        "a=20\n",
        "b=10"
      ]
    },
    {
      "cell_type": "code",
      "execution_count": null,
      "id": "c786282b",
      "metadata": {
        "colab": {
          "base_uri": "https://localhost:8080/"
        },
        "id": "c786282b",
        "outputId": "db0640e7-d4f2-4378-9dbb-de14a36b8160"
      },
      "outputs": [
        {
          "output_type": "execute_result",
          "data": {
            "text/plain": [
              "(20, 10)"
            ]
          },
          "metadata": {},
          "execution_count": 83
        }
      ],
      "source": [
        "a,b"
      ]
    },
    {
      "cell_type": "code",
      "execution_count": null,
      "id": "effec750",
      "metadata": {
        "colab": {
          "base_uri": "https://localhost:8080/"
        },
        "id": "effec750",
        "outputId": "d1d16719-9b52-4905-8282-c5d71aff8c70"
      },
      "outputs": [
        {
          "output_type": "execute_result",
          "data": {
            "text/plain": [
              "30"
            ]
          },
          "metadata": {},
          "execution_count": 14
        }
      ],
      "source": [
        "a+b"
      ]
    },
    {
      "cell_type": "code",
      "execution_count": null,
      "id": "8e9d6c0f",
      "metadata": {
        "colab": {
          "base_uri": "https://localhost:8080/"
        },
        "id": "8e9d6c0f",
        "outputId": "7cc9ae50-3873-4081-aa32-846044bed313"
      },
      "outputs": [
        {
          "output_type": "execute_result",
          "data": {
            "text/plain": [
              "10"
            ]
          },
          "metadata": {},
          "execution_count": 15
        }
      ],
      "source": [
        "a-b"
      ]
    },
    {
      "cell_type": "code",
      "execution_count": null,
      "id": "d467ed89",
      "metadata": {
        "colab": {
          "base_uri": "https://localhost:8080/"
        },
        "id": "d467ed89",
        "outputId": "bf1b0836-c164-4c41-a2fe-aa22b9280532"
      },
      "outputs": [
        {
          "output_type": "execute_result",
          "data": {
            "text/plain": [
              "200"
            ]
          },
          "metadata": {},
          "execution_count": 16
        }
      ],
      "source": [
        "a*b"
      ]
    },
    {
      "cell_type": "code",
      "execution_count": null,
      "id": "a9a59cda",
      "metadata": {
        "colab": {
          "base_uri": "https://localhost:8080/"
        },
        "id": "a9a59cda",
        "outputId": "163d56fa-3bcd-42ff-cb9e-f3bd75fbd62f"
      },
      "outputs": [
        {
          "output_type": "execute_result",
          "data": {
            "text/plain": [
              "2.0"
            ]
          },
          "metadata": {},
          "execution_count": 17
        }
      ],
      "source": [
        "a/b"
      ]
    },
    {
      "cell_type": "code",
      "source": [
        "a//b"
      ],
      "metadata": {
        "colab": {
          "base_uri": "https://localhost:8080/"
        },
        "id": "vmO1096i1PUj",
        "outputId": "2cd7d724-afab-484d-872e-e55b79da6bb2"
      },
      "id": "vmO1096i1PUj",
      "execution_count": null,
      "outputs": [
        {
          "output_type": "execute_result",
          "data": {
            "text/plain": [
              "2"
            ]
          },
          "metadata": {},
          "execution_count": 84
        }
      ]
    },
    {
      "cell_type": "code",
      "execution_count": null,
      "id": "0a5b2161",
      "metadata": {
        "colab": {
          "base_uri": "https://localhost:8080/"
        },
        "id": "0a5b2161",
        "outputId": "c5c0cdb9-490d-4c13-9a81-3958a0182f76"
      },
      "outputs": [
        {
          "output_type": "execute_result",
          "data": {
            "text/plain": [
              "0"
            ]
          },
          "metadata": {},
          "execution_count": 18
        }
      ],
      "source": [
        "a%b"
      ]
    },
    {
      "cell_type": "code",
      "execution_count": null,
      "id": "e192e51d",
      "metadata": {
        "id": "e192e51d"
      },
      "outputs": [],
      "source": [
        "# Realational Operators"
      ]
    },
    {
      "cell_type": "code",
      "execution_count": null,
      "id": "b8aba8b7",
      "metadata": {
        "id": "b8aba8b7"
      },
      "outputs": [],
      "source": [
        "#    <,>,==,!="
      ]
    },
    {
      "cell_type": "code",
      "execution_count": null,
      "id": "d0edd812",
      "metadata": {
        "colab": {
          "base_uri": "https://localhost:8080/"
        },
        "id": "d0edd812",
        "outputId": "3c91d9cb-37f7-4e64-f3ff-85fd35616428"
      },
      "outputs": [
        {
          "output_type": "execute_result",
          "data": {
            "text/plain": [
              "True"
            ]
          },
          "metadata": {},
          "execution_count": 21
        }
      ],
      "source": [
        "a>b"
      ]
    },
    {
      "cell_type": "code",
      "execution_count": null,
      "id": "d7d3be80",
      "metadata": {
        "colab": {
          "base_uri": "https://localhost:8080/"
        },
        "id": "d7d3be80",
        "outputId": "19156d2f-686f-4b95-de2a-c7f4a5b3dfb4"
      },
      "outputs": [
        {
          "output_type": "execute_result",
          "data": {
            "text/plain": [
              "False"
            ]
          },
          "metadata": {},
          "execution_count": 22
        }
      ],
      "source": [
        "a<b"
      ]
    },
    {
      "cell_type": "code",
      "execution_count": null,
      "id": "d83c1d56",
      "metadata": {
        "colab": {
          "base_uri": "https://localhost:8080/"
        },
        "id": "d83c1d56",
        "outputId": "9b3ff69f-2137-4909-a522-6e1675997e77"
      },
      "outputs": [
        {
          "output_type": "execute_result",
          "data": {
            "text/plain": [
              "False"
            ]
          },
          "metadata": {},
          "execution_count": 23
        }
      ],
      "source": [
        "a==b"
      ]
    },
    {
      "cell_type": "code",
      "execution_count": null,
      "id": "a3cc0d01",
      "metadata": {
        "colab": {
          "base_uri": "https://localhost:8080/"
        },
        "id": "a3cc0d01",
        "outputId": "542c353e-af82-463a-d374-0c0f2749b856"
      },
      "outputs": [
        {
          "output_type": "execute_result",
          "data": {
            "text/plain": [
              "True"
            ]
          },
          "metadata": {},
          "execution_count": 24
        }
      ],
      "source": [
        "a!=b"
      ]
    },
    {
      "cell_type": "code",
      "execution_count": null,
      "id": "cba8eb0b",
      "metadata": {
        "id": "cba8eb0b"
      },
      "outputs": [],
      "source": [
        "#logical Operator"
      ]
    },
    {
      "cell_type": "code",
      "execution_count": null,
      "id": "ddc97c1c",
      "metadata": {
        "id": "ddc97c1c"
      },
      "outputs": [],
      "source": [
        "# & |"
      ]
    },
    {
      "cell_type": "code",
      "execution_count": null,
      "id": "82d65ea2",
      "metadata": {
        "id": "82d65ea2"
      },
      "outputs": [],
      "source": [
        "a=True\n",
        "b=False"
      ]
    },
    {
      "cell_type": "code",
      "execution_count": null,
      "id": "c23f24a1",
      "metadata": {
        "colab": {
          "base_uri": "https://localhost:8080/"
        },
        "id": "c23f24a1",
        "outputId": "b240e447-cd6d-4864-e37b-8537afa1e58e"
      },
      "outputs": [
        {
          "output_type": "execute_result",
          "data": {
            "text/plain": [
              "False"
            ]
          },
          "metadata": {},
          "execution_count": 28
        }
      ],
      "source": [
        "a&b"
      ]
    },
    {
      "cell_type": "code",
      "execution_count": null,
      "id": "ab8b33df",
      "metadata": {
        "colab": {
          "base_uri": "https://localhost:8080/"
        },
        "id": "ab8b33df",
        "outputId": "17491116-54e4-42e0-c467-b063ba4781db"
      },
      "outputs": [
        {
          "output_type": "execute_result",
          "data": {
            "text/plain": [
              "True"
            ]
          },
          "metadata": {},
          "execution_count": 29
        }
      ],
      "source": [
        "a&a"
      ]
    },
    {
      "cell_type": "code",
      "execution_count": null,
      "id": "4b751dfd",
      "metadata": {
        "colab": {
          "base_uri": "https://localhost:8080/"
        },
        "id": "4b751dfd",
        "outputId": "4f70a232-918a-435e-819e-97987f66e42d"
      },
      "outputs": [
        {
          "output_type": "execute_result",
          "data": {
            "text/plain": [
              "False"
            ]
          },
          "metadata": {},
          "execution_count": 30
        }
      ],
      "source": [
        "b&a"
      ]
    },
    {
      "cell_type": "code",
      "execution_count": null,
      "id": "f7cf29ce",
      "metadata": {
        "colab": {
          "base_uri": "https://localhost:8080/"
        },
        "id": "f7cf29ce",
        "outputId": "6ddbb48f-49a0-4c45-b50f-77e3e72687ac"
      },
      "outputs": [
        {
          "output_type": "execute_result",
          "data": {
            "text/plain": [
              "False"
            ]
          },
          "metadata": {},
          "execution_count": 31
        }
      ],
      "source": [
        "b&b"
      ]
    },
    {
      "cell_type": "code",
      "execution_count": null,
      "id": "74c2dcff",
      "metadata": {
        "colab": {
          "base_uri": "https://localhost:8080/"
        },
        "id": "74c2dcff",
        "outputId": "fc6237f1-3642-4e89-d44d-d41d2cc95277"
      },
      "outputs": [
        {
          "output_type": "execute_result",
          "data": {
            "text/plain": [
              "True"
            ]
          },
          "metadata": {},
          "execution_count": 32
        }
      ],
      "source": [
        "a|b"
      ]
    },
    {
      "cell_type": "code",
      "execution_count": null,
      "id": "dc3b0062",
      "metadata": {
        "colab": {
          "base_uri": "https://localhost:8080/"
        },
        "id": "dc3b0062",
        "outputId": "6acf4094-521a-4600-f9c4-3481d52d1901"
      },
      "outputs": [
        {
          "output_type": "execute_result",
          "data": {
            "text/plain": [
              "True"
            ]
          },
          "metadata": {},
          "execution_count": 33
        }
      ],
      "source": [
        "b|a"
      ]
    },
    {
      "cell_type": "code",
      "execution_count": null,
      "id": "a2ae217f",
      "metadata": {
        "colab": {
          "base_uri": "https://localhost:8080/"
        },
        "id": "a2ae217f",
        "outputId": "f2ae18d4-e274-47e2-dc5f-f8772ff4bcfd"
      },
      "outputs": [
        {
          "output_type": "execute_result",
          "data": {
            "text/plain": [
              "True"
            ]
          },
          "metadata": {},
          "execution_count": 34
        }
      ],
      "source": [
        "a|a"
      ]
    },
    {
      "cell_type": "code",
      "execution_count": null,
      "id": "3c037e66",
      "metadata": {
        "colab": {
          "base_uri": "https://localhost:8080/"
        },
        "id": "3c037e66",
        "outputId": "387281b5-53b5-46af-8ebf-335772df0fdb"
      },
      "outputs": [
        {
          "output_type": "execute_result",
          "data": {
            "text/plain": [
              "False"
            ]
          },
          "metadata": {},
          "execution_count": 35
        }
      ],
      "source": [
        "b|b"
      ]
    },
    {
      "cell_type": "code",
      "execution_count": null,
      "id": "ed5c8a53",
      "metadata": {
        "id": "ed5c8a53"
      },
      "outputs": [],
      "source": [
        "#Python Token"
      ]
    },
    {
      "cell_type": "code",
      "execution_count": null,
      "id": "25fdb2f7",
      "metadata": {
        "id": "25fdb2f7"
      },
      "outputs": [],
      "source": [
        "student='mehedi'\n",
        "Student='Nafis'"
      ]
    },
    {
      "cell_type": "code",
      "execution_count": null,
      "id": "f4913f2b",
      "metadata": {
        "colab": {
          "base_uri": "https://localhost:8080/"
        },
        "id": "f4913f2b",
        "outputId": "925c2e78-3b92-4cf2-9a49-55c174ee9ac4"
      },
      "outputs": [
        {
          "output_type": "execute_result",
          "data": {
            "text/plain": [
              "False"
            ]
          },
          "metadata": {},
          "execution_count": 38
        }
      ],
      "source": [
        "student==Student"
      ]
    },
    {
      "cell_type": "code",
      "execution_count": null,
      "id": "c6abeb63",
      "metadata": {
        "id": "c6abeb63"
      },
      "outputs": [],
      "source": [
        "a= 'hellow  world' #litteral"
      ]
    },
    {
      "cell_type": "code",
      "execution_count": null,
      "id": "a3fb02e9",
      "metadata": {
        "id": "a3fb02e9"
      },
      "outputs": [],
      "source": [
        "r=3.14  #litteral"
      ]
    },
    {
      "cell_type": "code",
      "execution_count": null,
      "id": "143a959c",
      "metadata": {
        "id": "143a959c"
      },
      "outputs": [],
      "source": [
        "#string"
      ]
    },
    {
      "cell_type": "code",
      "execution_count": null,
      "id": "a1116df4",
      "metadata": {
        "id": "a1116df4"
      },
      "outputs": [],
      "source": [
        "str1= 'This is my string'"
      ]
    },
    {
      "cell_type": "code",
      "execution_count": null,
      "id": "968bbc17",
      "metadata": {
        "colab": {
          "base_uri": "https://localhost:8080/",
          "height": 35
        },
        "id": "968bbc17",
        "outputId": "87d166ad-e8f2-47c8-b901-9fb630c82777"
      },
      "outputs": [
        {
          "output_type": "execute_result",
          "data": {
            "text/plain": [
              "'This is my string'"
            ],
            "application/vnd.google.colaboratory.intrinsic+json": {
              "type": "string"
            }
          },
          "metadata": {},
          "execution_count": 43
        }
      ],
      "source": [
        "str1"
      ]
    },
    {
      "cell_type": "code",
      "execution_count": null,
      "id": "d359542a",
      "metadata": {
        "colab": {
          "base_uri": "https://localhost:8080/",
          "height": 35
        },
        "id": "d359542a",
        "outputId": "c1319dd9-0f64-4ebb-c9c3-9f60594284fc"
      },
      "outputs": [
        {
          "output_type": "execute_result",
          "data": {
            "text/plain": [
              "'This is my string'"
            ],
            "application/vnd.google.colaboratory.intrinsic+json": {
              "type": "string"
            }
          },
          "metadata": {},
          "execution_count": 44
        }
      ],
      "source": [
        "str1"
      ]
    },
    {
      "cell_type": "code",
      "execution_count": null,
      "id": "2a6e44a6",
      "metadata": {
        "id": "2a6e44a6"
      },
      "outputs": [],
      "source": [
        "str2=\"This is  my second string\""
      ]
    },
    {
      "cell_type": "code",
      "execution_count": null,
      "id": "6e819a87",
      "metadata": {
        "colab": {
          "base_uri": "https://localhost:8080/",
          "height": 35
        },
        "id": "6e819a87",
        "outputId": "9f7cd1e4-d91d-4d8c-923b-41d988d519a6"
      },
      "outputs": [
        {
          "output_type": "execute_result",
          "data": {
            "text/plain": [
              "'This is  my second string'"
            ],
            "application/vnd.google.colaboratory.intrinsic+json": {
              "type": "string"
            }
          },
          "metadata": {},
          "execution_count": 46
        }
      ],
      "source": [
        "str2"
      ]
    },
    {
      "cell_type": "code",
      "execution_count": null,
      "id": "5d798941",
      "metadata": {
        "id": "5d798941"
      },
      "outputs": [],
      "source": [
        "str3=\"\"\"This is \n",
        "multi line\n",
        "string\"\"\""
      ]
    },
    {
      "cell_type": "code",
      "execution_count": null,
      "id": "d9e3afa5",
      "metadata": {
        "colab": {
          "base_uri": "https://localhost:8080/",
          "height": 35
        },
        "id": "d9e3afa5",
        "outputId": "6000ec67-333f-4a5f-a751-dd1dd14e8c40"
      },
      "outputs": [
        {
          "output_type": "execute_result",
          "data": {
            "text/plain": [
              "'This is \\nmulti line\\nstring'"
            ],
            "application/vnd.google.colaboratory.intrinsic+json": {
              "type": "string"
            }
          },
          "metadata": {},
          "execution_count": 48
        }
      ],
      "source": [
        "str3"
      ]
    },
    {
      "cell_type": "code",
      "execution_count": null,
      "id": "49d5bacf",
      "metadata": {
        "id": "49d5bacf"
      },
      "outputs": [],
      "source": [
        "my_string = 'This is mehedi'"
      ]
    },
    {
      "cell_type": "code",
      "execution_count": null,
      "id": "941064e9",
      "metadata": {
        "colab": {
          "base_uri": "https://localhost:8080/",
          "height": 35
        },
        "id": "941064e9",
        "outputId": "9b7d0f82-9ecf-4fc8-aa9f-8476f759c67f"
      },
      "outputs": [
        {
          "output_type": "execute_result",
          "data": {
            "text/plain": [
              "'This is mehedi'"
            ],
            "application/vnd.google.colaboratory.intrinsic+json": {
              "type": "string"
            }
          },
          "metadata": {},
          "execution_count": 50
        }
      ],
      "source": [
        "my_string"
      ]
    },
    {
      "cell_type": "code",
      "execution_count": null,
      "id": "3c77a6c3",
      "metadata": {
        "colab": {
          "base_uri": "https://localhost:8080/",
          "height": 35
        },
        "id": "3c77a6c3",
        "outputId": "2c1db3fe-e1cc-43d7-e8d5-3c65098ec05e"
      },
      "outputs": [
        {
          "output_type": "execute_result",
          "data": {
            "text/plain": [
              "'T'"
            ],
            "application/vnd.google.colaboratory.intrinsic+json": {
              "type": "string"
            }
          },
          "metadata": {},
          "execution_count": 51
        }
      ],
      "source": [
        "my_string[0]"
      ]
    },
    {
      "cell_type": "code",
      "execution_count": null,
      "id": "66827124",
      "metadata": {
        "colab": {
          "base_uri": "https://localhost:8080/",
          "height": 35
        },
        "id": "66827124",
        "outputId": "c9e6d35d-f579-4d92-d4e3-0107d65446ed"
      },
      "outputs": [
        {
          "output_type": "execute_result",
          "data": {
            "text/plain": [
              "'s'"
            ],
            "application/vnd.google.colaboratory.intrinsic+json": {
              "type": "string"
            }
          },
          "metadata": {},
          "execution_count": 52
        }
      ],
      "source": [
        "my_string[6]"
      ]
    },
    {
      "cell_type": "code",
      "execution_count": null,
      "id": "2c172c7f",
      "metadata": {
        "colab": {
          "base_uri": "https://localhost:8080/",
          "height": 35
        },
        "id": "2c172c7f",
        "outputId": "1c9af240-0ba6-41fe-f034-309577363f46"
      },
      "outputs": [
        {
          "output_type": "execute_result",
          "data": {
            "text/plain": [
              "'i'"
            ],
            "application/vnd.google.colaboratory.intrinsic+json": {
              "type": "string"
            }
          },
          "metadata": {},
          "execution_count": 53
        }
      ],
      "source": [
        "my_string[-1]"
      ]
    },
    {
      "cell_type": "code",
      "execution_count": null,
      "id": "3e593bd1",
      "metadata": {
        "colab": {
          "base_uri": "https://localhost:8080/",
          "height": 35
        },
        "id": "3e593bd1",
        "outputId": "d486bc01-f2af-4602-e694-b9c97fa71608"
      },
      "outputs": [
        {
          "output_type": "execute_result",
          "data": {
            "text/plain": [
              "'is mehed'"
            ],
            "application/vnd.google.colaboratory.intrinsic+json": {
              "type": "string"
            }
          },
          "metadata": {},
          "execution_count": 54
        }
      ],
      "source": [
        "my_string[5:13]"
      ]
    },
    {
      "cell_type": "code",
      "execution_count": null,
      "id": "06d6c98b",
      "metadata": {
        "colab": {
          "base_uri": "https://localhost:8080/"
        },
        "id": "06d6c98b",
        "outputId": "525e604f-d307-4b09-b962-b1975cd48fd2"
      },
      "outputs": [
        {
          "output_type": "execute_result",
          "data": {
            "text/plain": [
              "14"
            ]
          },
          "metadata": {},
          "execution_count": 55
        }
      ],
      "source": [
        "len(my_string)"
      ]
    },
    {
      "cell_type": "code",
      "execution_count": null,
      "id": "a0616ab8",
      "metadata": {
        "colab": {
          "base_uri": "https://localhost:8080/",
          "height": 35
        },
        "id": "a0616ab8",
        "outputId": "7a56bf2f-cc30-43b7-9f3a-74925258fc1f"
      },
      "outputs": [
        {
          "output_type": "execute_result",
          "data": {
            "text/plain": [
              "'this is mehedi'"
            ],
            "application/vnd.google.colaboratory.intrinsic+json": {
              "type": "string"
            }
          },
          "metadata": {},
          "execution_count": 56
        }
      ],
      "source": [
        "my_string.lower()"
      ]
    },
    {
      "cell_type": "code",
      "execution_count": null,
      "id": "10e8e5e5",
      "metadata": {
        "colab": {
          "base_uri": "https://localhost:8080/",
          "height": 35
        },
        "id": "10e8e5e5",
        "outputId": "72da88bb-4e2d-4cd2-963e-3bd50a208119"
      },
      "outputs": [
        {
          "output_type": "execute_result",
          "data": {
            "text/plain": [
              "'THIS IS MEHEDI'"
            ],
            "application/vnd.google.colaboratory.intrinsic+json": {
              "type": "string"
            }
          },
          "metadata": {},
          "execution_count": 57
        }
      ],
      "source": [
        "my_string.upper()"
      ]
    },
    {
      "cell_type": "code",
      "execution_count": null,
      "id": "ef42ba68",
      "metadata": {
        "colab": {
          "base_uri": "https://localhost:8080/",
          "height": 35
        },
        "id": "ef42ba68",
        "outputId": "003b199a-3f02-4ed9-b57e-0f2d761f0d8b"
      },
      "outputs": [
        {
          "output_type": "execute_result",
          "data": {
            "text/plain": [
              "'This is nehedi'"
            ],
            "application/vnd.google.colaboratory.intrinsic+json": {
              "type": "string"
            }
          },
          "metadata": {},
          "execution_count": 58
        }
      ],
      "source": [
        "my_string.replace('m','n')"
      ]
    },
    {
      "cell_type": "code",
      "execution_count": null,
      "id": "3ff0c5a6",
      "metadata": {
        "colab": {
          "base_uri": "https://localhost:8080/",
          "height": 35
        },
        "id": "3ff0c5a6",
        "outputId": "082551e9-d6e5-4a22-f151-8799b3f21fa3"
      },
      "outputs": [
        {
          "output_type": "execute_result",
          "data": {
            "text/plain": [
              "'Thare are mehedi'"
            ],
            "application/vnd.google.colaboratory.intrinsic+json": {
              "type": "string"
            }
          },
          "metadata": {},
          "execution_count": 59
        }
      ],
      "source": [
        "my_string.replace('is','are')"
      ]
    },
    {
      "cell_type": "code",
      "execution_count": null,
      "id": "df154abf",
      "metadata": {
        "id": "df154abf"
      },
      "outputs": [],
      "source": [
        "my_string2 = 'evan is a boy he is a good boy evan play cricket everyday'"
      ]
    },
    {
      "cell_type": "code",
      "execution_count": null,
      "id": "8b9083b3",
      "metadata": {
        "colab": {
          "base_uri": "https://localhost:8080/"
        },
        "id": "8b9083b3",
        "outputId": "de128ee9-11d3-4a16-eff4-df96ec2d54da"
      },
      "outputs": [
        {
          "output_type": "execute_result",
          "data": {
            "text/plain": [
              "0"
            ]
          },
          "metadata": {},
          "execution_count": 61
        }
      ],
      "source": [
        "my_string.count('evan')"
      ]
    },
    {
      "cell_type": "code",
      "execution_count": null,
      "id": "d8b1dc14",
      "metadata": {
        "colab": {
          "base_uri": "https://localhost:8080/"
        },
        "id": "d8b1dc14",
        "outputId": "34b2d734-1f6d-4fd3-b7de-49c146e80c9b"
      },
      "outputs": [
        {
          "output_type": "execute_result",
          "data": {
            "text/plain": [
              "2"
            ]
          },
          "metadata": {},
          "execution_count": 62
        }
      ],
      "source": [
        "my_string2.count('evan')"
      ]
    },
    {
      "cell_type": "code",
      "execution_count": null,
      "id": "cff4c34e",
      "metadata": {
        "colab": {
          "base_uri": "https://localhost:8080/"
        },
        "id": "cff4c34e",
        "outputId": "77c69f8e-e46e-4046-fd2c-c2005e4dbc48"
      },
      "outputs": [
        {
          "output_type": "execute_result",
          "data": {
            "text/plain": [
              "2"
            ]
          },
          "metadata": {},
          "execution_count": 63
        }
      ],
      "source": [
        "my_string2.count('evan')"
      ]
    },
    {
      "cell_type": "code",
      "execution_count": null,
      "id": "b89c82d6",
      "metadata": {
        "colab": {
          "base_uri": "https://localhost:8080/"
        },
        "id": "b89c82d6",
        "outputId": "06db05b1-23b8-4c09-83f0-6647b24623c5"
      },
      "outputs": [
        {
          "output_type": "execute_result",
          "data": {
            "text/plain": [
              "2"
            ]
          },
          "metadata": {},
          "execution_count": 64
        }
      ],
      "source": [
        "my_string.count('e')"
      ]
    },
    {
      "cell_type": "code",
      "execution_count": null,
      "id": "3084a0e2",
      "metadata": {
        "colab": {
          "base_uri": "https://localhost:8080/"
        },
        "id": "3084a0e2",
        "outputId": "aba1f7c0-27d9-4d26-a10f-ebd18ab3b958"
      },
      "outputs": [
        {
          "output_type": "execute_result",
          "data": {
            "text/plain": [
              "6"
            ]
          },
          "metadata": {},
          "execution_count": 65
        }
      ],
      "source": [
        "my_string2.count('e')"
      ]
    },
    {
      "cell_type": "code",
      "execution_count": null,
      "id": "43d71185",
      "metadata": {
        "colab": {
          "base_uri": "https://localhost:8080/"
        },
        "id": "43d71185",
        "outputId": "6c17c373-cb1b-433d-eabd-8f282bf1da50"
      },
      "outputs": [
        {
          "output_type": "execute_result",
          "data": {
            "text/plain": [
              "2"
            ]
          },
          "metadata": {},
          "execution_count": 66
        }
      ],
      "source": [
        "my_string2.count('evan')"
      ]
    },
    {
      "cell_type": "code",
      "execution_count": null,
      "id": "eaad2284",
      "metadata": {
        "colab": {
          "base_uri": "https://localhost:8080/"
        },
        "id": "eaad2284",
        "outputId": "2c383323-4226-48c4-8e33-91ba1fbec8a6"
      },
      "outputs": [
        {
          "output_type": "execute_result",
          "data": {
            "text/plain": [
              "49"
            ]
          },
          "metadata": {},
          "execution_count": 87
        }
      ],
      "source": [
        "my_string2.find('everyday')"
      ]
    },
    {
      "cell_type": "code",
      "execution_count": null,
      "id": "1f8a6e73",
      "metadata": {
        "colab": {
          "base_uri": "https://localhost:8080/"
        },
        "id": "1f8a6e73",
        "outputId": "b2d4cf61-493d-464d-e7c4-a4c90c49bece"
      },
      "outputs": [
        {
          "output_type": "execute_result",
          "data": {
            "text/plain": [
              "5"
            ]
          },
          "metadata": {},
          "execution_count": 70
        }
      ],
      "source": [
        "my_string2.find('i')"
      ]
    },
    {
      "cell_type": "code",
      "execution_count": null,
      "id": "8b060004",
      "metadata": {
        "colab": {
          "base_uri": "https://localhost:8080/"
        },
        "id": "8b060004",
        "outputId": "4a1409f8-96cf-48f4-df80-449ae5682262"
      },
      "outputs": [
        {
          "output_type": "execute_result",
          "data": {
            "text/plain": [
              "3"
            ]
          },
          "metadata": {},
          "execution_count": 73
        }
      ],
      "source": [
        "my_string2.count('i')"
      ]
    },
    {
      "cell_type": "code",
      "execution_count": null,
      "id": "d6dc6fd6",
      "metadata": {
        "id": "d6dc6fd6"
      },
      "outputs": [],
      "source": [
        "strfinal='President Obama is the best president of united States'"
      ]
    },
    {
      "cell_type": "code",
      "execution_count": null,
      "id": "cd479e1f",
      "metadata": {
        "colab": {
          "base_uri": "https://localhost:8080/"
        },
        "id": "cd479e1f",
        "outputId": "1ef9e5df-2405-470f-ea76-930defe58b18"
      },
      "outputs": [
        {
          "output_type": "execute_result",
          "data": {
            "text/plain": [
              "['Pr',\n",
              " 'sid',\n",
              " 'nt Obama is th',\n",
              " ' b',\n",
              " 'st pr',\n",
              " 'sid',\n",
              " 'nt of unit',\n",
              " 'd Stat',\n",
              " 's']"
            ]
          },
          "metadata": {},
          "execution_count": 76
        }
      ],
      "source": [
        "strfinal.split('e')"
      ]
    },
    {
      "cell_type": "code",
      "execution_count": null,
      "id": "cbb0c9d7",
      "metadata": {
        "id": "cbb0c9d7"
      },
      "outputs": [],
      "source": [
        "#Basic data structure of Python\n",
        "#Tuple, list, Dictionary, set"
      ]
    },
    {
      "cell_type": "code",
      "execution_count": null,
      "id": "885b424f",
      "metadata": {
        "id": "885b424f"
      },
      "outputs": [],
      "source": [
        "# tuple---unmutable\n",
        "# A tuple is a collection which is ordered and unchangeable.\n",
        "# Tuples are written with round brackets.\n",
        "\n",
        "tup1 = (1,True,30,24.234)"
      ]
    },
    {
      "cell_type": "code",
      "execution_count": null,
      "id": "b089ea38",
      "metadata": {
        "colab": {
          "base_uri": "https://localhost:8080/"
        },
        "id": "b089ea38",
        "outputId": "284f29bb-4290-4e9e-a98f-6816b4567da9"
      },
      "outputs": [
        {
          "output_type": "execute_result",
          "data": {
            "text/plain": [
              "(1, True, 30, 24.234)"
            ]
          },
          "metadata": {},
          "execution_count": 89
        }
      ],
      "source": [
        "tup1"
      ]
    },
    {
      "cell_type": "code",
      "execution_count": null,
      "id": "f7ead5c6",
      "metadata": {
        "colab": {
          "base_uri": "https://localhost:8080/"
        },
        "id": "f7ead5c6",
        "outputId": "e7f9cd47-bae7-4587-8297-ce22b788a4e1"
      },
      "outputs": [
        {
          "output_type": "execute_result",
          "data": {
            "text/plain": [
              "tuple"
            ]
          },
          "metadata": {},
          "execution_count": 90
        }
      ],
      "source": [
        "type(tup1)"
      ]
    },
    {
      "cell_type": "code",
      "execution_count": null,
      "id": "eb0f3556",
      "metadata": {
        "colab": {
          "base_uri": "https://localhost:8080/"
        },
        "id": "eb0f3556",
        "outputId": "927b20ae-0a5f-41a0-925c-8d30a83fb9ce"
      },
      "outputs": [
        {
          "output_type": "execute_result",
          "data": {
            "text/plain": [
              "30"
            ]
          },
          "metadata": {},
          "execution_count": 91
        }
      ],
      "source": [
        "tup1[2]"
      ]
    },
    {
      "cell_type": "code",
      "execution_count": null,
      "id": "7f1cb350",
      "metadata": {
        "colab": {
          "base_uri": "https://localhost:8080/",
          "height": 132
        },
        "id": "7f1cb350",
        "outputId": "61eb439d-0c03-4fff-fa18-00dab3705083"
      },
      "outputs": [
        {
          "output_type": "error",
          "ename": "SyntaxError",
          "evalue": "ignored",
          "traceback": [
            "\u001b[0;36m  File \u001b[0;32m\"<ipython-input-92-543017d1c936>\"\u001b[0;36m, line \u001b[0;32m1\u001b[0m\n\u001b[0;31m    tup1(1:4)\u001b[0m\n\u001b[0m          ^\u001b[0m\n\u001b[0;31mSyntaxError\u001b[0m\u001b[0;31m:\u001b[0m invalid syntax\n"
          ]
        }
      ],
      "source": [
        "tup1(1:4)"
      ]
    },
    {
      "cell_type": "code",
      "execution_count": null,
      "id": "8fe95a4a",
      "metadata": {
        "colab": {
          "base_uri": "https://localhost:8080/"
        },
        "id": "8fe95a4a",
        "outputId": "b70810cc-a43c-496b-c9f0-e15b5f37b133"
      },
      "outputs": [
        {
          "output_type": "stream",
          "name": "stdout",
          "text": [
            "1\n",
            "True\n",
            "30\n",
            "24.234\n"
          ]
        }
      ],
      "source": [
        "for i in tup1:\n",
        "  print(i)"
      ]
    },
    {
      "cell_type": "code",
      "execution_count": null,
      "id": "49ebae3d",
      "metadata": {
        "colab": {
          "base_uri": "https://localhost:8080/"
        },
        "id": "49ebae3d",
        "outputId": "f54e0e6a-4db4-4f95-eb44-7db51be646e3"
      },
      "outputs": [
        {
          "output_type": "execute_result",
          "data": {
            "text/plain": [
              "(True, 30)"
            ]
          },
          "metadata": {},
          "execution_count": 95
        }
      ],
      "source": [
        "tup1[1:3]"
      ]
    },
    {
      "cell_type": "code",
      "execution_count": null,
      "id": "25583a93",
      "metadata": {
        "colab": {
          "base_uri": "https://localhost:8080/"
        },
        "id": "25583a93",
        "outputId": "e6436779-cd23-4014-bc74-4490e21367b2"
      },
      "outputs": [
        {
          "output_type": "execute_result",
          "data": {
            "text/plain": [
              "24.234"
            ]
          },
          "metadata": {},
          "execution_count": 96
        }
      ],
      "source": [
        "tup1[-1]"
      ]
    },
    {
      "cell_type": "code",
      "execution_count": null,
      "id": "2ac1cc2d",
      "metadata": {
        "id": "2ac1cc2d"
      },
      "outputs": [],
      "source": [
        "tup1=('hello')"
      ]
    },
    {
      "cell_type": "code",
      "execution_count": null,
      "id": "ba4aff48",
      "metadata": {
        "colab": {
          "base_uri": "https://localhost:8080/",
          "height": 35
        },
        "id": "ba4aff48",
        "outputId": "ecf9b0fa-0e28-4766-88ae-5c9897ea3d34"
      },
      "outputs": [
        {
          "output_type": "execute_result",
          "data": {
            "text/plain": [
              "'hello'"
            ],
            "application/vnd.google.colaboratory.intrinsic+json": {
              "type": "string"
            }
          },
          "metadata": {},
          "execution_count": 98
        }
      ],
      "source": [
        "tup1"
      ]
    },
    {
      "cell_type": "code",
      "execution_count": null,
      "id": "0cbf7b41",
      "metadata": {
        "id": "0cbf7b41"
      },
      "outputs": [],
      "source": [
        "tup1 = (1,True,30,24.234)"
      ]
    },
    {
      "cell_type": "code",
      "execution_count": null,
      "id": "a757cd64",
      "metadata": {
        "colab": {
          "base_uri": "https://localhost:8080/"
        },
        "id": "a757cd64",
        "outputId": "750489bf-0020-4fa5-8e79-7f9adc78cf4c"
      },
      "outputs": [
        {
          "output_type": "execute_result",
          "data": {
            "text/plain": [
              "(1, True, 30, 24.234)"
            ]
          },
          "metadata": {},
          "execution_count": 100
        }
      ],
      "source": [
        "tup1"
      ]
    },
    {
      "cell_type": "code",
      "execution_count": null,
      "id": "15bbf593",
      "metadata": {
        "colab": {
          "base_uri": "https://localhost:8080/",
          "height": 167
        },
        "id": "15bbf593",
        "outputId": "3a57a209-409a-4c51-da7d-16e01050eb67"
      },
      "outputs": [
        {
          "output_type": "error",
          "ename": "TypeError",
          "evalue": "ignored",
          "traceback": [
            "\u001b[0;31m---------------------------------------------------------------------------\u001b[0m",
            "\u001b[0;31mTypeError\u001b[0m                                 Traceback (most recent call last)",
            "\u001b[0;32m<ipython-input-101-91d91b19c7ae>\u001b[0m in \u001b[0;36m<module>\u001b[0;34m\u001b[0m\n\u001b[0;32m----> 1\u001b[0;31m \u001b[0mtup1\u001b[0m\u001b[0;34m[\u001b[0m\u001b[0;36m2\u001b[0m\u001b[0;34m]\u001b[0m\u001b[0;34m=\u001b[0m\u001b[0;34m'mehedi'\u001b[0m\u001b[0;34m\u001b[0m\u001b[0;34m\u001b[0m\u001b[0m\n\u001b[0m",
            "\u001b[0;31mTypeError\u001b[0m: 'tuple' object does not support item assignment"
          ]
        }
      ],
      "source": [
        "tup1[2]='mehedi'"
      ]
    },
    {
      "cell_type": "code",
      "execution_count": null,
      "id": "ec0d8cbc",
      "metadata": {
        "colab": {
          "base_uri": "https://localhost:8080/"
        },
        "id": "ec0d8cbc",
        "outputId": "f5aa3aee-f6a0-4527-fcb1-8cf449a2baa7"
      },
      "outputs": [
        {
          "output_type": "execute_result",
          "data": {
            "text/plain": [
              "4"
            ]
          },
          "metadata": {},
          "execution_count": 102
        }
      ],
      "source": [
        "len(tup1)"
      ]
    },
    {
      "cell_type": "code",
      "execution_count": null,
      "id": "a03bd094",
      "metadata": {
        "id": "a03bd094"
      },
      "outputs": [],
      "source": [
        "tup2=(1,2,3)"
      ]
    },
    {
      "cell_type": "code",
      "execution_count": null,
      "id": "6fa086f9",
      "metadata": {
        "colab": {
          "base_uri": "https://localhost:8080/"
        },
        "id": "6fa086f9",
        "outputId": "adf38817-a43f-4e7e-9ca0-ead288822caa"
      },
      "outputs": [
        {
          "output_type": "execute_result",
          "data": {
            "text/plain": [
              "(1, True, 30, 24.234, 1, 2, 3)"
            ]
          },
          "metadata": {},
          "execution_count": 104
        }
      ],
      "source": [
        "tup1+tup2    #concate"
      ]
    },
    {
      "cell_type": "code",
      "execution_count": null,
      "id": "b3aecbad",
      "metadata": {
        "colab": {
          "base_uri": "https://localhost:8080/"
        },
        "id": "b3aecbad",
        "outputId": "3789b05d-f97a-42ef-8938-182c871a1861"
      },
      "outputs": [
        {
          "output_type": "execute_result",
          "data": {
            "text/plain": [
              "(1, True, 30, 24.234, 1, True, 30, 24.234, 1, True, 30, 24.234)"
            ]
          },
          "metadata": {},
          "execution_count": 105
        }
      ],
      "source": [
        "tup1*3"
      ]
    },
    {
      "cell_type": "code",
      "execution_count": null,
      "id": "ff7def92",
      "metadata": {
        "colab": {
          "base_uri": "https://localhost:8080/"
        },
        "id": "ff7def92",
        "outputId": "1388bc93-ca3c-4a43-f785-f5045622b479"
      },
      "outputs": [
        {
          "output_type": "execute_result",
          "data": {
            "text/plain": [
              "(1, True, 30, 24.234, 1, True, 30, 24.234, 1, True, 30, 24.234, 1, 2, 3)"
            ]
          },
          "metadata": {},
          "execution_count": 106
        }
      ],
      "source": [
        "tup1*3+tup2"
      ]
    },
    {
      "cell_type": "code",
      "execution_count": null,
      "id": "36a5bb32",
      "metadata": {
        "id": "36a5bb32"
      },
      "outputs": [],
      "source": [
        " tup3 = (12,23,43,46,34,4,64)"
      ]
    },
    {
      "cell_type": "code",
      "execution_count": null,
      "id": "050a275f",
      "metadata": {
        "colab": {
          "base_uri": "https://localhost:8080/"
        },
        "id": "050a275f",
        "outputId": "b9a4ba7d-af2b-48c3-f55d-260b41489be7"
      },
      "outputs": [
        {
          "output_type": "execute_result",
          "data": {
            "text/plain": [
              "4"
            ]
          },
          "metadata": {},
          "execution_count": 110
        }
      ],
      "source": [
        "min(tup3)"
      ]
    },
    {
      "cell_type": "code",
      "execution_count": null,
      "id": "fbc706c2",
      "metadata": {
        "colab": {
          "base_uri": "https://localhost:8080/"
        },
        "id": "fbc706c2",
        "outputId": "dc371713-ac12-4a53-d998-a91a828b76e2"
      },
      "outputs": [
        {
          "output_type": "execute_result",
          "data": {
            "text/plain": [
              "64"
            ]
          },
          "metadata": {},
          "execution_count": 111
        }
      ],
      "source": [
        "max(tup3)"
      ]
    },
    {
      "cell_type": "markdown",
      "source": [
        "# Change Tuple Values\n",
        "Once a tuple is created, you cannot change its values. Tuples are unchangeable, or immutable as it also is called.\n",
        "But there is a workaround. You can convert the tuple into a list, change the list, and convert the list back into a tuple."
      ],
      "metadata": {
        "id": "o1r1_G_GHyRQ"
      },
      "id": "o1r1_G_GHyRQ"
    },
    {
      "cell_type": "code",
      "source": [
        "a = ('Mehedi', 'Nafis', 'Sazzad', 'Tarikul') \n",
        "b = list(a)\n",
        "b[1] = 'Chonchol'\n",
        "a = tuple(b)\n",
        "a"
      ],
      "metadata": {
        "colab": {
          "base_uri": "https://localhost:8080/"
        },
        "id": "olRwT6FeH2NY",
        "outputId": "fee31080-37fc-4c3e-9c9a-3bc3474b8bce"
      },
      "id": "olRwT6FeH2NY",
      "execution_count": null,
      "outputs": [
        {
          "output_type": "execute_result",
          "data": {
            "text/plain": [
              "('Mehedi', 'Chonchol', 'Sazzad', 'Tarikul')"
            ]
          },
          "metadata": {},
          "execution_count": 117
        }
      ]
    },
    {
      "cell_type": "markdown",
      "source": [
        "# Add Items into Tuples\n",
        "1. Convert into a list: Just like the workaround for changing a tuple, you can convert it into a list, add your item(s), and convert it back into a tuple."
      ],
      "metadata": {
        "id": "PnHQiLhLbGEc"
      },
      "id": "PnHQiLhLbGEc"
    },
    {
      "cell_type": "code",
      "source": [
        "a = ('Mehedi', 'Nafis', 'Sazzad', 'Tarikul') \n",
        "b = list(a)\n",
        "b.append('Chonchol')\n",
        "a = tuple(b)\n",
        "a"
      ],
      "metadata": {
        "colab": {
          "base_uri": "https://localhost:8080/"
        },
        "id": "BunOXtzNbO1f",
        "outputId": "8713894f-c377-456d-fad3-3746e27a8691"
      },
      "id": "BunOXtzNbO1f",
      "execution_count": null,
      "outputs": [
        {
          "output_type": "execute_result",
          "data": {
            "text/plain": [
              "('Mehedi', 'Nafis', 'Sazzad', 'Tarikul', 'Chonchol')"
            ]
          },
          "metadata": {},
          "execution_count": 119
        }
      ]
    },
    {
      "cell_type": "markdown",
      "source": [
        "2. Add tuple to a tuple. You are allowed to add tuples to tuples, so if you want to add one item, (or many), create a new tuple with the item(s), and add it to the existing tuple:"
      ],
      "metadata": {
        "id": "WNe0SCjLck2D"
      },
      "id": "WNe0SCjLck2D"
    },
    {
      "cell_type": "code",
      "source": [
        "a = ('Mehedi', 'Nafis', 'Sazzad', 'Tarikul') \n",
        "b = ('Chonchol',)\n",
        "a += b\n",
        "a"
      ],
      "metadata": {
        "colab": {
          "base_uri": "https://localhost:8080/"
        },
        "id": "V9IbTWebbOuc",
        "outputId": "944acca6-1998-4ac3-a85d-da7f9787f962"
      },
      "id": "V9IbTWebbOuc",
      "execution_count": null,
      "outputs": [
        {
          "output_type": "execute_result",
          "data": {
            "text/plain": [
              "('Mehedi', 'Nafis', 'Sazzad', 'Tarikul', 'Chonchol')"
            ]
          },
          "metadata": {},
          "execution_count": 125
        }
      ]
    },
    {
      "cell_type": "markdown",
      "source": [
        "# Remove Items\n",
        "Note: You cannot remove items in a tuple.\n",
        "\n",
        "Tuples are unchangeable, so you cannot remove items from it, but you can use the same workaround as we used for changing and adding tuple items:"
      ],
      "metadata": {
        "id": "7igkvW3JdQSi"
      },
      "id": "7igkvW3JdQSi"
    },
    {
      "cell_type": "code",
      "source": [
        "a = ('Mehedi', 'Nafis', 'Sazzad', 'Tarikul') \n",
        "b = list(a)\n",
        "b.remove('Tarikul')\n",
        "a = tuple(b)\n",
        "a"
      ],
      "metadata": {
        "colab": {
          "base_uri": "https://localhost:8080/"
        },
        "id": "yr6eFIw6bOjG",
        "outputId": "490e3ee5-3a82-4975-f3a2-ddc690716e3d"
      },
      "id": "yr6eFIw6bOjG",
      "execution_count": null,
      "outputs": [
        {
          "output_type": "execute_result",
          "data": {
            "text/plain": [
              "('Mehedi', 'Nafis', 'Sazzad')"
            ]
          },
          "metadata": {},
          "execution_count": 126
        }
      ]
    },
    {
      "cell_type": "markdown",
      "source": [
        "# Or you can delete the tuple completely:\n",
        "\n",
        "The del keyword can delete the tuple completely:"
      ],
      "metadata": {
        "id": "5QIdjryJdi5E"
      },
      "id": "5QIdjryJdi5E"
    },
    {
      "cell_type": "code",
      "source": [
        "a = ('Mehedi', 'Nafis', 'Sazzad', 'Tarikul') \n",
        "del(a)\n",
        "a\n",
        "#this will raise an error because the tuple no longer exists"
      ],
      "metadata": {
        "colab": {
          "base_uri": "https://localhost:8080/",
          "height": 219
        },
        "id": "iUR64bSYdleH",
        "outputId": "41ff3259-47f6-4939-aef9-ed301e28a44f"
      },
      "id": "iUR64bSYdleH",
      "execution_count": null,
      "outputs": [
        {
          "output_type": "error",
          "ename": "NameError",
          "evalue": "ignored",
          "traceback": [
            "\u001b[0;31m---------------------------------------------------------------------------\u001b[0m",
            "\u001b[0;31mNameError\u001b[0m                                 Traceback (most recent call last)",
            "\u001b[0;32m<ipython-input-127-d5be01bba5a4>\u001b[0m in \u001b[0;36m<module>\u001b[0;34m\u001b[0m\n\u001b[1;32m      1\u001b[0m \u001b[0ma\u001b[0m \u001b[0;34m=\u001b[0m \u001b[0;34m(\u001b[0m\u001b[0;34m'Mehedi'\u001b[0m\u001b[0;34m,\u001b[0m \u001b[0;34m'Nafis'\u001b[0m\u001b[0;34m,\u001b[0m \u001b[0;34m'Sazzad'\u001b[0m\u001b[0;34m,\u001b[0m \u001b[0;34m'Tarikul'\u001b[0m\u001b[0;34m)\u001b[0m\u001b[0;34m\u001b[0m\u001b[0;34m\u001b[0m\u001b[0m\n\u001b[1;32m      2\u001b[0m \u001b[0;32mdel\u001b[0m\u001b[0;34m(\u001b[0m\u001b[0ma\u001b[0m\u001b[0;34m)\u001b[0m\u001b[0;34m\u001b[0m\u001b[0;34m\u001b[0m\u001b[0m\n\u001b[0;32m----> 3\u001b[0;31m \u001b[0ma\u001b[0m\u001b[0;34m\u001b[0m\u001b[0;34m\u001b[0m\u001b[0m\n\u001b[0m\u001b[1;32m      4\u001b[0m \u001b[0;31m#this will raise an error because the tuple no longer exists\u001b[0m\u001b[0;34m\u001b[0m\u001b[0;34m\u001b[0m\u001b[0;34m\u001b[0m\u001b[0m\n",
            "\u001b[0;31mNameError\u001b[0m: name 'a' is not defined"
          ]
        }
      ]
    },
    {
      "cell_type": "markdown",
      "source": [
        "# list\n",
        "mutable.\n",
        "\n",
        "List is a collection which is ordered and changeable. Allows duplicate members."
      ],
      "metadata": {
        "id": "Beg0PWc-isyY"
      },
      "id": "Beg0PWc-isyY"
    },
    {
      "cell_type": "markdown",
      "source": [
        "-Lists are used to store multiple items in a single variable.\n",
        "\n",
        "-Lists are one of 4 built-in data types in Python used to store collections of data, the other 3 are Tuple, Set, and Dictionary, all with different qualities and usage.\n",
        "\n",
        "-List items are ordered, changeable, and allow duplicate values.\n",
        "\n",
        "-List items are indexed, the first item has index [0], the second item has index [1] etc.\n",
        "\n",
        "-Ordered\n",
        "\n",
        "When we say that lists are ordered, it means that the items have a defined order, and that order will not change.\n",
        "\n",
        "If you add new items to a list, the new items will be placed at the end of the list.\n",
        "\n",
        "-Changeable\n",
        "\n",
        "The list is changeable, meaning that we can change, add, and remove items in a list after it has been created.\n",
        "\n",
        "-Allow Duplicates\n",
        "\n",
        "Since lists are indexed, lists can have items with the same value"
      ],
      "metadata": {
        "id": "b6Wve2LkiMZD"
      },
      "id": "b6Wve2LkiMZD"
    },
    {
      "cell_type": "code",
      "execution_count": null,
      "id": "653279eb",
      "metadata": {
        "id": "653279eb"
      },
      "outputs": [],
      "source": [
        "li1=[1,'mehedi',3.14,5,True]"
      ]
    },
    {
      "cell_type": "code",
      "execution_count": null,
      "id": "691f8576",
      "metadata": {
        "colab": {
          "base_uri": "https://localhost:8080/"
        },
        "id": "691f8576",
        "outputId": "f50eb9a1-0ae3-43fb-906c-dbf8aa445f97"
      },
      "outputs": [
        {
          "output_type": "execute_result",
          "data": {
            "text/plain": [
              "[1, 'mehedi', 3.14, 5, True]"
            ]
          },
          "metadata": {},
          "execution_count": 131
        }
      ],
      "source": [
        "li1"
      ]
    },
    {
      "cell_type": "code",
      "execution_count": null,
      "id": "8f11b5f1",
      "metadata": {
        "id": "8f11b5f1"
      },
      "outputs": [],
      "source": [
        " li1[0]=100"
      ]
    },
    {
      "cell_type": "code",
      "execution_count": null,
      "id": "7d422892",
      "metadata": {
        "colab": {
          "base_uri": "https://localhost:8080/"
        },
        "id": "7d422892",
        "outputId": "6e71efd1-629d-44d7-dac2-fc16b997f7af"
      },
      "outputs": [
        {
          "output_type": "execute_result",
          "data": {
            "text/plain": [
              "[100, 'mehedi', 3.14, 5, True]"
            ]
          },
          "metadata": {},
          "execution_count": 135
        }
      ],
      "source": [
        "li1"
      ]
    },
    {
      "cell_type": "code",
      "execution_count": null,
      "id": "836e8b36",
      "metadata": {
        "colab": {
          "base_uri": "https://localhost:8080/"
        },
        "id": "836e8b36",
        "outputId": "a3f4c721-8293-4001-beb0-f6d1ff07560a"
      },
      "outputs": [
        {
          "output_type": "execute_result",
          "data": {
            "text/plain": [
              "[100, 'mehedi', 3.14, 5, True, -87.99]"
            ]
          },
          "metadata": {},
          "execution_count": 136
        }
      ],
      "source": [
        "li1.append(-87.99)\n",
        "li1"
      ]
    },
    {
      "cell_type": "code",
      "execution_count": null,
      "id": "f3e4ae44",
      "metadata": {
        "colab": {
          "base_uri": "https://localhost:8080/"
        },
        "id": "f3e4ae44",
        "outputId": "a874851b-14a7-4294-f424-d830fef5e41f"
      },
      "outputs": [
        {
          "output_type": "execute_result",
          "data": {
            "text/plain": [
              "[100, 'mehedi', 3.14, 5]"
            ]
          },
          "metadata": {},
          "execution_count": 138
        }
      ],
      "source": [
        "li1.pop()\n",
        "li1"
      ]
    },
    {
      "cell_type": "code",
      "execution_count": null,
      "id": "42b8d8fa",
      "metadata": {
        "colab": {
          "base_uri": "https://localhost:8080/"
        },
        "id": "42b8d8fa",
        "outputId": "d9129b1e-0285-4320-910b-28360a2d9fc3"
      },
      "outputs": [
        {
          "output_type": "execute_result",
          "data": {
            "text/plain": [
              "[100, 'mehedi', 3.14, 5]"
            ]
          },
          "metadata": {},
          "execution_count": 139
        }
      ],
      "source": [
        "li1"
      ]
    },
    {
      "cell_type": "code",
      "execution_count": null,
      "id": "0b5c95ae",
      "metadata": {
        "id": "0b5c95ae"
      },
      "outputs": [],
      "source": [
        "li1.reverse()"
      ]
    },
    {
      "cell_type": "code",
      "execution_count": null,
      "id": "91d09767",
      "metadata": {
        "colab": {
          "base_uri": "https://localhost:8080/"
        },
        "id": "91d09767",
        "outputId": "7c7d0bd7-2666-4cf3-f3d2-020b30296742"
      },
      "outputs": [
        {
          "output_type": "execute_result",
          "data": {
            "text/plain": [
              "[5, 3.14, 'mehedi', 100]"
            ]
          },
          "metadata": {},
          "execution_count": 141
        }
      ],
      "source": [
        "li1"
      ]
    },
    {
      "cell_type": "code",
      "execution_count": null,
      "id": "fe34c61b",
      "metadata": {
        "colab": {
          "base_uri": "https://localhost:8080/"
        },
        "id": "fe34c61b",
        "outputId": "b24ff949-859c-4878-e80c-b5ce7f051925"
      },
      "outputs": [
        {
          "output_type": "execute_result",
          "data": {
            "text/plain": [
              "[5, 'hasan', 3.14, 'mehedi', 100]"
            ]
          },
          "metadata": {},
          "execution_count": 142
        }
      ],
      "source": [
        "li1.insert(1,'hasan')\n",
        "li1"
      ]
    },
    {
      "cell_type": "code",
      "execution_count": null,
      "id": "40423d19",
      "metadata": {
        "colab": {
          "base_uri": "https://localhost:8080/"
        },
        "id": "40423d19",
        "outputId": "d2f23713-2405-4729-b978-6683c580514f"
      },
      "outputs": [
        {
          "output_type": "execute_result",
          "data": {
            "text/plain": [
              "['apple', 'banana', 'guava', 'mango']"
            ]
          },
          "metadata": {},
          "execution_count": 143
        }
      ],
      "source": [
        "l2=['mango','banana','guava','apple']\n",
        "l2.sort()\n",
        "l2"
      ]
    },
    {
      "cell_type": "code",
      "execution_count": null,
      "id": "20f07610",
      "metadata": {
        "colab": {
          "base_uri": "https://localhost:8080/",
          "height": 184
        },
        "id": "20f07610",
        "outputId": "1593df17-e4b7-4388-ef5e-c5a2ee07ddf2"
      },
      "outputs": [
        {
          "output_type": "error",
          "ename": "AttributeError",
          "evalue": "ignored",
          "traceback": [
            "\u001b[0;31m---------------------------------------------------------------------------\u001b[0m",
            "\u001b[0;31mAttributeError\u001b[0m                            Traceback (most recent call last)",
            "\u001b[0;32m<ipython-input-144-4fbfceb6aed3>\u001b[0m in \u001b[0;36m<module>\u001b[0;34m\u001b[0m\n\u001b[0;32m----> 1\u001b[0;31m \u001b[0ml2\u001b[0m\u001b[0;34m.\u001b[0m\u001b[0mupper\u001b[0m\u001b[0;34m(\u001b[0m\u001b[0;34m)\u001b[0m\u001b[0;34m\u001b[0m\u001b[0;34m\u001b[0m\u001b[0m\n\u001b[0m\u001b[1;32m      2\u001b[0m \u001b[0ml2\u001b[0m\u001b[0;34m\u001b[0m\u001b[0;34m\u001b[0m\u001b[0m\n",
            "\u001b[0;31mAttributeError\u001b[0m: 'list' object has no attribute 'upper'"
          ]
        }
      ],
      "source": [
        "l2.upper()\n",
        "l2"
      ]
    },
    {
      "cell_type": "code",
      "execution_count": null,
      "id": "314edf18",
      "metadata": {
        "id": "314edf18"
      },
      "outputs": [],
      "source": [
        "l3=['a','r','y','b','d','c','e']"
      ]
    },
    {
      "cell_type": "code",
      "execution_count": null,
      "id": "13a0e4df",
      "metadata": {
        "id": "13a0e4df"
      },
      "outputs": [],
      "source": [
        "l3.sort()"
      ]
    },
    {
      "cell_type": "code",
      "execution_count": null,
      "id": "8b55bbb0",
      "metadata": {
        "colab": {
          "base_uri": "https://localhost:8080/"
        },
        "id": "8b55bbb0",
        "outputId": "d5c3364b-f749-4e57-8e14-372c0646015a"
      },
      "outputs": [
        {
          "output_type": "execute_result",
          "data": {
            "text/plain": [
              "['a', 'b', 'c', 'd', 'e', 'r', 'y']"
            ]
          },
          "metadata": {},
          "execution_count": 147
        }
      ],
      "source": [
        "l3"
      ]
    },
    {
      "cell_type": "code",
      "execution_count": null,
      "id": "2d1803cd",
      "metadata": {
        "colab": {
          "base_uri": "https://localhost:8080/"
        },
        "id": "2d1803cd",
        "outputId": "15b546c5-4dad-4835-8671-bfeb3ae1f401"
      },
      "outputs": [
        {
          "output_type": "execute_result",
          "data": {
            "text/plain": [
              "['y', 'r', 'e', 'd', 'c', 'b', 'a']"
            ]
          },
          "metadata": {},
          "execution_count": 148
        }
      ],
      "source": [
        "l3.reverse()\n",
        "l3"
      ]
    },
    {
      "cell_type": "code",
      "execution_count": null,
      "id": "50e35687",
      "metadata": {
        "id": "50e35687"
      },
      "outputs": [],
      "source": [
        "#Dictionary"
      ]
    },
    {
      "cell_type": "code",
      "execution_count": null,
      "id": "127e661b",
      "metadata": {
        "id": "127e661b",
        "outputId": "4ec4d708-01a1-4865-fbc9-267bccc0d3b1",
        "colab": {
          "base_uri": "https://localhost:8080/"
        }
      },
      "outputs": [
        {
          "output_type": "execute_result",
          "data": {
            "text/plain": [
              "{'apple': 40, 'mango': 20, 'guava': 50}"
            ]
          },
          "metadata": {},
          "execution_count": 1
        }
      ],
      "source": [
        "d1={'apple':40,'mango':20, 'guava':50}\n",
        "d1"
      ]
    },
    {
      "cell_type": "code",
      "execution_count": null,
      "id": "d8792670",
      "metadata": {
        "id": "d8792670",
        "outputId": "1473eade-73b8-4562-f650-54f7fd0f0ebf",
        "colab": {
          "base_uri": "https://localhost:8080/"
        }
      },
      "outputs": [
        {
          "output_type": "execute_result",
          "data": {
            "text/plain": [
              "dict"
            ]
          },
          "metadata": {},
          "execution_count": 3
        }
      ],
      "source": [
        "type(d1)"
      ]
    },
    {
      "cell_type": "code",
      "execution_count": null,
      "id": "149f005a",
      "metadata": {
        "id": "149f005a",
        "outputId": "c88f8aea-2120-44cc-db4b-b3b070e8671a",
        "colab": {
          "base_uri": "https://localhost:8080/"
        }
      },
      "outputs": [
        {
          "output_type": "execute_result",
          "data": {
            "text/plain": [
              "dict_keys(['apple', 'mango', 'guava'])"
            ]
          },
          "metadata": {},
          "execution_count": 5
        }
      ],
      "source": [
        "d1.keys()"
      ]
    },
    {
      "cell_type": "code",
      "execution_count": null,
      "id": "da54a0d7",
      "metadata": {
        "id": "da54a0d7",
        "outputId": "674fa8d3-32e7-4ef8-8efa-f1be4de37cab",
        "colab": {
          "base_uri": "https://localhost:8080/"
        }
      },
      "outputs": [
        {
          "output_type": "execute_result",
          "data": {
            "text/plain": [
              "dict_values([40, 20, 50])"
            ]
          },
          "metadata": {},
          "execution_count": 4
        }
      ],
      "source": [
        "d1.values()"
      ]
    },
    {
      "cell_type": "code",
      "execution_count": null,
      "id": "a50e3650",
      "metadata": {
        "id": "a50e3650",
        "outputId": "a7db49b8-91f9-4b8e-c589-c35c72d8ae6d",
        "colab": {
          "base_uri": "https://localhost:8080/"
        }
      },
      "outputs": [
        {
          "output_type": "execute_result",
          "data": {
            "text/plain": [
              "{'apple': 40, 'mango': 120, 'guava': 50}"
            ]
          },
          "metadata": {},
          "execution_count": 6
        }
      ],
      "source": [
        "d1['mango']=120\n",
        "d1"
      ]
    },
    {
      "cell_type": "code",
      "execution_count": null,
      "id": "220041cc",
      "metadata": {
        "id": "220041cc",
        "outputId": "be52aa71-be1b-4705-e68f-763d0c37b7f1",
        "colab": {
          "base_uri": "https://localhost:8080/"
        }
      },
      "outputs": [
        {
          "output_type": "execute_result",
          "data": {
            "text/plain": [
              "{'apple': 40, 'mango': 120, 'guava': 50, 'orange': 200}"
            ]
          },
          "metadata": {},
          "execution_count": 7
        }
      ],
      "source": [
        "d1['orange']=200\n",
        "d1"
      ]
    },
    {
      "cell_type": "code",
      "execution_count": null,
      "id": "3e99e313",
      "metadata": {
        "id": "3e99e313",
        "outputId": "8788e8c0-acc5-4971-823d-6151f822707f",
        "colab": {
          "base_uri": "https://localhost:8080/"
        }
      },
      "outputs": [
        {
          "output_type": "execute_result",
          "data": {
            "text/plain": [
              "{'malta': 190, 'pepe': 70}"
            ]
          },
          "metadata": {},
          "execution_count": 10
        }
      ],
      "source": [
        "d2={'malta':190,'pepe':70}\n",
        "d2"
      ]
    },
    {
      "cell_type": "code",
      "execution_count": null,
      "id": "d19fce3c",
      "metadata": {
        "id": "d19fce3c",
        "outputId": "779eaabc-a49b-4d92-9128-bb3768bafb21",
        "colab": {
          "base_uri": "https://localhost:8080/"
        }
      },
      "outputs": [
        {
          "output_type": "execute_result",
          "data": {
            "text/plain": [
              "{'apple': 40,\n",
              " 'mango': 120,\n",
              " 'guava': 50,\n",
              " 'orange': 200,\n",
              " 'malta': 190,\n",
              " 'pepe': 70}"
            ]
          },
          "metadata": {},
          "execution_count": 11
        }
      ],
      "source": [
        "d1.update(d2)\n",
        "d1"
      ]
    },
    {
      "cell_type": "code",
      "execution_count": null,
      "id": "fad2ccbd",
      "metadata": {
        "id": "fad2ccbd",
        "outputId": "7de36bf7-05bd-4a89-fb23-7ed97fe7c296",
        "colab": {
          "base_uri": "https://localhost:8080/",
          "height": 184
        }
      },
      "outputs": [
        {
          "output_type": "error",
          "ename": "AttributeError",
          "evalue": "ignored",
          "traceback": [
            "\u001b[0;31m---------------------------------------------------------------------------\u001b[0m",
            "\u001b[0;31mAttributeError\u001b[0m                            Traceback (most recent call last)",
            "\u001b[0;32m<ipython-input-12-7e115fb4c76b>\u001b[0m in \u001b[0;36m<module>\u001b[0;34m\u001b[0m\n\u001b[0;32m----> 1\u001b[0;31m \u001b[0md1\u001b[0m\u001b[0;34m.\u001b[0m\u001b[0mappend\u001b[0m\u001b[0;34m(\u001b[0m\u001b[0md2\u001b[0m\u001b[0;34m)\u001b[0m\u001b[0;34m\u001b[0m\u001b[0;34m\u001b[0m\u001b[0m\n\u001b[0m\u001b[1;32m      2\u001b[0m \u001b[0md1\u001b[0m\u001b[0;34m\u001b[0m\u001b[0;34m\u001b[0m\u001b[0m\n",
            "\u001b[0;31mAttributeError\u001b[0m: 'dict' object has no attribute 'append'"
          ]
        }
      ],
      "source": [
        "d1.append(d2)\n",
        "d1"
      ]
    },
    {
      "cell_type": "code",
      "execution_count": null,
      "id": "1e803a33",
      "metadata": {
        "id": "1e803a33",
        "outputId": "f70af6be-31ee-4564-c39d-97576dba2a11",
        "colab": {
          "base_uri": "https://localhost:8080/"
        }
      },
      "outputs": [
        {
          "output_type": "execute_result",
          "data": {
            "text/plain": [
              "{'apple': 40, 'mango': 120, 'guava': 50, 'orange': 200, 'pepe': 70}"
            ]
          },
          "metadata": {},
          "execution_count": 13
        }
      ],
      "source": [
        "d1.pop('malta')\n",
        "d1"
      ]
    },
    {
      "cell_type": "code",
      "execution_count": null,
      "id": "e7a16501",
      "metadata": {
        "id": "e7a16501",
        "outputId": "c5df23e7-2012-49e0-8230-4541e4b79302",
        "colab": {
          "base_uri": "https://localhost:8080/"
        }
      },
      "outputs": [
        {
          "output_type": "execute_result",
          "data": {
            "text/plain": [
              "70"
            ]
          },
          "metadata": {},
          "execution_count": 14
        }
      ],
      "source": [
        "d1.pop('pepe')"
      ]
    },
    {
      "cell_type": "code",
      "execution_count": null,
      "id": "62bbbfac",
      "metadata": {
        "id": "62bbbfac",
        "outputId": "c10f87ac-edcb-4b1a-f8ca-23d6f1aa0d78",
        "colab": {
          "base_uri": "https://localhost:8080/"
        }
      },
      "outputs": [
        {
          "output_type": "execute_result",
          "data": {
            "text/plain": [
              "{'apple': 40, 'mango': 120, 'guava': 50, 'orange': 200}"
            ]
          },
          "metadata": {},
          "execution_count": 15
        }
      ],
      "source": [
        "d1"
      ]
    },
    {
      "cell_type": "markdown",
      "source": [
        "# set\n",
        "A set is a collection which is unordered, unchangeable*, and unindexed.\n",
        "\n",
        "Note: Set items are unchangeable, but you can remove items and add new items."
      ],
      "metadata": {
        "id": "1hDVOSzD_2wq"
      },
      "id": "1hDVOSzD_2wq"
    },
    {
      "cell_type": "code",
      "execution_count": null,
      "id": "d9b48e4d",
      "metadata": {
        "id": "d9b48e4d",
        "outputId": "5f47b436-49a5-4a48-9a7d-05d4497548a2",
        "colab": {
          "base_uri": "https://localhost:8080/"
        }
      },
      "outputs": [
        {
          "output_type": "execute_result",
          "data": {
            "text/plain": [
              "{1, 3.14, 'mehedi'}"
            ]
          },
          "metadata": {},
          "execution_count": 17
        }
      ],
      "source": [
        "s1={1,3.14,'mehedi'}\n",
        "s1"
      ]
    },
    {
      "cell_type": "code",
      "execution_count": null,
      "id": "3da86bf8",
      "metadata": {
        "id": "3da86bf8",
        "outputId": "96dd8d55-fbcd-44af-cc90-ef66a94f9259",
        "colab": {
          "base_uri": "https://localhost:8080/"
        }
      },
      "outputs": [
        {
          "output_type": "execute_result",
          "data": {
            "text/plain": [
              "{1, 3.14, 'mehedi'}"
            ]
          },
          "metadata": {},
          "execution_count": 18
        }
      ],
      "source": [
        "s1={1,3.14,'mehedi',1}\n",
        "s1"
      ]
    },
    {
      "cell_type": "code",
      "execution_count": null,
      "id": "ce0de918",
      "metadata": {
        "id": "ce0de918",
        "outputId": "4d1cfbdb-389e-4ccc-cf51-de0b3954dda7",
        "colab": {
          "base_uri": "https://localhost:8080/"
        }
      },
      "outputs": [
        {
          "output_type": "execute_result",
          "data": {
            "text/plain": [
              "{1, 3.14, 'False', 'mehedi'}"
            ]
          },
          "metadata": {},
          "execution_count": 19
        }
      ],
      "source": [
        "s1.add('False')\n",
        "s1"
      ]
    },
    {
      "cell_type": "code",
      "execution_count": null,
      "id": "72deae3b",
      "metadata": {
        "id": "72deae3b",
        "outputId": "f4186fec-5e25-4df1-e0f6-34efdb444f92",
        "colab": {
          "base_uri": "https://localhost:8080/"
        }
      },
      "outputs": [
        {
          "output_type": "execute_result",
          "data": {
            "text/plain": [
              "{1, 10, 20, 3.14, 30, 'False', 'mehedi'}"
            ]
          },
          "metadata": {},
          "execution_count": 20
        }
      ],
      "source": [
        "s1.update([10,20,30])\n",
        "s1"
      ]
    },
    {
      "cell_type": "code",
      "execution_count": null,
      "id": "1dfadb71",
      "metadata": {
        "id": "1dfadb71",
        "outputId": "758575cb-6855-42b6-a996-fcb03de77846",
        "colab": {
          "base_uri": "https://localhost:8080/"
        }
      },
      "outputs": [
        {
          "output_type": "execute_result",
          "data": {
            "text/plain": [
              "{20, 30, 'False', 'mehedi'}"
            ]
          },
          "metadata": {},
          "execution_count": 23
        }
      ],
      "source": [
        "s1.pop()\n",
        "s1"
      ]
    },
    {
      "cell_type": "code",
      "execution_count": null,
      "id": "03482f14",
      "metadata": {
        "id": "03482f14",
        "outputId": "b501adc8-d1d9-4e3b-c927-9531355ab621",
        "colab": {
          "base_uri": "https://localhost:8080/",
          "height": 35
        }
      },
      "outputs": [
        {
          "output_type": "execute_result",
          "data": {
            "text/plain": [
              "'mehedi'"
            ],
            "application/vnd.google.colaboratory.intrinsic+json": {
              "type": "string"
            }
          },
          "metadata": {},
          "execution_count": 24
        }
      ],
      "source": [
        "s1.pop()"
      ]
    },
    {
      "cell_type": "code",
      "execution_count": null,
      "id": "f7a4e1d4",
      "metadata": {
        "id": "f7a4e1d4"
      },
      "outputs": [],
      "source": [
        "s1.remove('False')"
      ]
    },
    {
      "cell_type": "code",
      "execution_count": null,
      "id": "599bb9eb",
      "metadata": {
        "id": "599bb9eb",
        "outputId": "23dfe873-d2c4-4718-8242-4e7cb4a46ec2",
        "colab": {
          "base_uri": "https://localhost:8080/"
        }
      },
      "outputs": [
        {
          "output_type": "execute_result",
          "data": {
            "text/plain": [
              "{20, 30}"
            ]
          },
          "metadata": {},
          "execution_count": 26
        }
      ],
      "source": [
        "s1"
      ]
    },
    {
      "cell_type": "code",
      "execution_count": null,
      "id": "ee4999bf",
      "metadata": {
        "id": "ee4999bf",
        "outputId": "7e3a2327-7639-45c8-8d4e-ba11ac36d3f3",
        "colab": {
          "base_uri": "https://localhost:8080/"
        }
      },
      "outputs": [
        {
          "output_type": "execute_result",
          "data": {
            "text/plain": [
              "({1, 2, 3, 4, 5, 6}, {7, 8, 9, 10})"
            ]
          },
          "metadata": {},
          "execution_count": 27
        }
      ],
      "source": [
        "s1={1,2,3,4,5,6}\n",
        "s2={7,8,9,10}\n",
        "s1,s2"
      ]
    },
    {
      "cell_type": "code",
      "execution_count": null,
      "id": "b26314f6",
      "metadata": {
        "id": "b26314f6",
        "outputId": "70f96ef8-cf6a-4818-ba95-d2196ab78df5",
        "colab": {
          "base_uri": "https://localhost:8080/"
        }
      },
      "outputs": [
        {
          "output_type": "execute_result",
          "data": {
            "text/plain": [
              "{1, 2, 3, 4, 5, 6}"
            ]
          },
          "metadata": {},
          "execution_count": 35
        }
      ],
      "source": [
        "s1.union(s2)\n",
        "s1"
      ]
    },
    {
      "cell_type": "code",
      "execution_count": null,
      "id": "1551374e",
      "metadata": {
        "id": "1551374e",
        "outputId": "0638e20f-7820-4e10-a93e-86b25637e6de",
        "colab": {
          "base_uri": "https://localhost:8080/"
        }
      },
      "outputs": [
        {
          "output_type": "execute_result",
          "data": {
            "text/plain": [
              "{1, 2, 3, 4, 5, 6, 7, 8, 9, 10}"
            ]
          },
          "metadata": {},
          "execution_count": 31
        }
      ],
      "source": [
        "s1.union(s2)"
      ]
    },
    {
      "cell_type": "code",
      "execution_count": null,
      "id": "ae3c2b62",
      "metadata": {
        "id": "ae3c2b62",
        "outputId": "7d980eda-c272-4c9b-ff74-681d1387794d",
        "colab": {
          "base_uri": "https://localhost:8080/"
        }
      },
      "outputs": [
        {
          "output_type": "execute_result",
          "data": {
            "text/plain": [
              "set()"
            ]
          },
          "metadata": {},
          "execution_count": 36
        }
      ],
      "source": [
        "s1.intersection(s2)"
      ]
    },
    {
      "cell_type": "code",
      "execution_count": null,
      "id": "e568311f",
      "metadata": {
        "scrolled": true,
        "id": "e568311f",
        "outputId": "3aa0189e-ba4e-404c-d209-1f7dfad9d9e5",
        "colab": {
          "base_uri": "https://localhost:8080/"
        }
      },
      "outputs": [
        {
          "output_type": "execute_result",
          "data": {
            "text/plain": [
              "{5, 6}"
            ]
          },
          "metadata": {},
          "execution_count": 37
        }
      ],
      "source": [
        "s2={5,6,7,8}\n",
        "s1.intersection(s2)"
      ]
    },
    {
      "cell_type": "code",
      "execution_count": null,
      "id": "7ba80d48",
      "metadata": {
        "scrolled": true,
        "id": "7ba80d48"
      },
      "outputs": [],
      "source": [
        "s2.intersection(s1)"
      ]
    },
    {
      "cell_type": "code",
      "execution_count": null,
      "id": "122242f6",
      "metadata": {
        "id": "122242f6"
      },
      "outputs": [],
      "source": [
        "#if else"
      ]
    },
    {
      "cell_type": "code",
      "execution_count": null,
      "id": "d64622c6",
      "metadata": {
        "id": "d64622c6",
        "outputId": "b787b7c5-120d-4da1-833a-1e323d37742c",
        "colab": {
          "base_uri": "https://localhost:8080/"
        }
      },
      "outputs": [
        {
          "output_type": "stream",
          "name": "stdout",
          "text": [
            "Sit inside\n"
          ]
        }
      ],
      "source": [
        "\n",
        "rain =True\n",
        "if rain:\n",
        "    print('Sit inside')\n",
        "else:\n",
        "    print('Go & PLay')"
      ]
    },
    {
      "cell_type": "code",
      "execution_count": null,
      "id": "370e65a1",
      "metadata": {
        "id": "370e65a1",
        "outputId": "630f8315-dfe8-4fd0-9571-f3ddec5a376d",
        "colab": {
          "base_uri": "https://localhost:8080/"
        }
      },
      "outputs": [
        {
          "output_type": "stream",
          "name": "stdout",
          "text": [
            "a is smaller than b\n"
          ]
        }
      ],
      "source": [
        "a=10\n",
        "b=20\n",
        "if(a,b):\n",
        "    print('a is smaller than b')"
      ]
    },
    {
      "cell_type": "code",
      "execution_count": null,
      "id": "0c8e5345",
      "metadata": {
        "id": "0c8e5345",
        "outputId": "9bd5b709-4186-4ff6-e883-d6418e54034a",
        "colab": {
          "base_uri": "https://localhost:8080/"
        }
      },
      "outputs": [
        {
          "output_type": "stream",
          "name": "stdout",
          "text": [
            "10 is smaller than 20\n"
          ]
        }
      ],
      "source": [
        "a=10\n",
        "b=20\n",
        "if(a<b):\n",
        "    print('{} is smaller than {}'.format(a,b))"
      ]
    },
    {
      "cell_type": "code",
      "execution_count": null,
      "id": "6471bbb0",
      "metadata": {
        "id": "6471bbb0"
      },
      "outputs": [],
      "source": [
        "a=10\n",
        "b=20\n",
        "if(a<b):\n",
        "    print(a is smaller than b)"
      ]
    },
    {
      "cell_type": "code",
      "execution_count": null,
      "id": "2911d64c",
      "metadata": {
        "id": "2911d64c"
      },
      "outputs": [],
      "source": [
        "a=10\n",
        "b=20\n",
        "if a<b:\n",
        "    print('a is smaller than b')"
      ]
    },
    {
      "cell_type": "code",
      "execution_count": null,
      "id": "b5839f79",
      "metadata": {
        "id": "b5839f79",
        "outputId": "019c0e10-b877-417e-f0d2-de462ec42d68",
        "colab": {
          "base_uri": "https://localhost:8080/"
        }
      },
      "outputs": [
        {
          "output_type": "stream",
          "name": "stdout",
          "text": [
            "a is smaller than b\n"
          ]
        }
      ],
      "source": [
        "a=10\n",
        "b=20\n",
        "if a<b:\n",
        "    print('a is smaller than b')\n",
        "else:\n",
        "    print('a is bigger than b')"
      ]
    },
    {
      "cell_type": "code",
      "execution_count": null,
      "id": "89f09e10",
      "metadata": {
        "id": "89f09e10"
      },
      "outputs": [],
      "source": [
        "a=10\n",
        "b=20\n",
        "c=30"
      ]
    },
    {
      "cell_type": "code",
      "execution_count": null,
      "id": "7cbb3a56",
      "metadata": {
        "id": "7cbb3a56",
        "outputId": "fdec3736-d13c-4004-adee-4cfa37b5c9e4",
        "colab": {
          "base_uri": "https://localhost:8080/"
        }
      },
      "outputs": [
        {
          "output_type": "stream",
          "name": "stdout",
          "text": [
            "c is the gretest\n"
          ]
        }
      ],
      "source": [
        "if (a>b & a>c):\n",
        "    print('a is gretest')\n",
        "elif (b>a & b>c):\n",
        "    print(\"b is gretest\")\n",
        "else:\n",
        "    print('c is the gretest')\n",
        "    "
      ]
    },
    {
      "cell_type": "code",
      "execution_count": null,
      "id": "18e4a045",
      "metadata": {
        "id": "18e4a045"
      },
      "outputs": [],
      "source": [
        "if (a>b) & (a>c):\n",
        "    print('a is gretest')\n",
        "elif (b>a) & (b>c):\n",
        "    print(\"b is gretest\")\n",
        "else:\n",
        "    print('c is the gretest')"
      ]
    },
    {
      "cell_type": "code",
      "execution_count": null,
      "id": "f8e0b2f5",
      "metadata": {
        "id": "f8e0b2f5"
      },
      "outputs": [],
      "source": [
        "# id with tuple"
      ]
    },
    {
      "cell_type": "code",
      "execution_count": 3,
      "id": "1187e890",
      "metadata": {
        "id": "1187e890"
      },
      "outputs": [],
      "source": [
        "tup1=('a','b','c')"
      ]
    },
    {
      "cell_type": "code",
      "execution_count": 4,
      "id": "f986d6d7",
      "metadata": {
        "id": "f986d6d7",
        "colab": {
          "base_uri": "https://localhost:8080/"
        },
        "outputId": "4fa3149e-9916-48cd-a44c-c9e6734b1007"
      },
      "outputs": [
        {
          "output_type": "stream",
          "name": "stdout",
          "text": [
            "value  z is not int tup1\n"
          ]
        }
      ],
      "source": [
        "if 'z' in tup1:\n",
        "    print(\"Value is  in tup1\")\n",
        "else:\n",
        "    print('value  z is not int tup1')"
      ]
    },
    {
      "cell_type": "code",
      "execution_count": null,
      "id": "c1bedc2a",
      "metadata": {
        "id": "c1bedc2a"
      },
      "outputs": [],
      "source": [
        "# if with list"
      ]
    },
    {
      "cell_type": "code",
      "execution_count": null,
      "id": "db951067",
      "metadata": {
        "id": "db951067"
      },
      "outputs": [],
      "source": [
        "li=['a','b','c']"
      ]
    },
    {
      "cell_type": "code",
      "execution_count": null,
      "id": "82893288",
      "metadata": {
        "id": "82893288"
      },
      "outputs": [],
      "source": [
        "if li[1]='b':\n",
        "    li[1]='x'"
      ]
    },
    {
      "cell_type": "code",
      "execution_count": null,
      "id": "eae3e6f7",
      "metadata": {
        "id": "eae3e6f7"
      },
      "outputs": [],
      "source": [
        "if li[1]=='b':\n",
        "    li[1]='x'"
      ]
    },
    {
      "cell_type": "code",
      "execution_count": null,
      "id": "8f296f80",
      "metadata": {
        "id": "8f296f80"
      },
      "outputs": [],
      "source": [
        "li"
      ]
    },
    {
      "cell_type": "code",
      "execution_count": null,
      "id": "2a8aecf9",
      "metadata": {
        "id": "2a8aecf9"
      },
      "outputs": [],
      "source": [
        "# if with dictonary"
      ]
    },
    {
      "cell_type": "code",
      "execution_count": null,
      "id": "6a29fc22",
      "metadata": {
        "id": "6a29fc22"
      },
      "outputs": [],
      "source": [
        "di={'k1':20, 'k2':10,'k3':30}"
      ]
    },
    {
      "cell_type": "code",
      "execution_count": null,
      "id": "102238a5",
      "metadata": {
        "id": "102238a5"
      },
      "outputs": [],
      "source": [
        "if  di[k3]==30:\n",
        "    di['k3']=di['k3']+100"
      ]
    },
    {
      "cell_type": "code",
      "execution_count": null,
      "id": "8330bc30",
      "metadata": {
        "id": "8330bc30"
      },
      "outputs": [],
      "source": [
        "di"
      ]
    },
    {
      "cell_type": "code",
      "execution_count": null,
      "id": "12cb2b7b",
      "metadata": {
        "id": "12cb2b7b"
      },
      "outputs": [],
      "source": [
        "if  di['k3']==30:\n",
        "    di['k3']=di['k3']+100"
      ]
    },
    {
      "cell_type": "code",
      "execution_count": null,
      "id": "4a3709e7",
      "metadata": {
        "id": "4a3709e7"
      },
      "outputs": [],
      "source": [
        "di"
      ]
    },
    {
      "cell_type": "code",
      "execution_count": null,
      "id": "9b93e096",
      "metadata": {
        "id": "9b93e096"
      },
      "outputs": [],
      "source": [
        "#loop statement"
      ]
    },
    {
      "cell_type": "code",
      "execution_count": null,
      "id": "f9a188fe",
      "metadata": {
        "id": "f9a188fe"
      },
      "outputs": [],
      "source": [
        "#while loop"
      ]
    },
    {
      "cell_type": "code",
      "execution_count": null,
      "id": "81096a43",
      "metadata": {
        "id": "81096a43",
        "outputId": "01288d63-db13-412e-c23f-f4122790c9b8",
        "colab": {
          "base_uri": "https://localhost:8080/"
        }
      },
      "outputs": [
        {
          "output_type": "stream",
          "name": "stdout",
          "text": [
            "1\n",
            "2\n",
            "3\n",
            "4\n",
            "5\n",
            "6\n",
            "7\n",
            "8\n",
            "9\n",
            "10\n"
          ]
        }
      ],
      "source": [
        "i =1\n",
        "while(i<=10):\n",
        "   print(i)\n",
        "   i=i+1"
      ]
    },
    {
      "cell_type": "code",
      "execution_count": null,
      "id": "d6731e29",
      "metadata": {
        "id": "d6731e29"
      },
      "outputs": [],
      "source": [
        "i =1\n",
        "while(i<=10):\n",
        "    print(i)\n",
        "    i=i+1"
      ]
    },
    {
      "cell_type": "code",
      "execution_count": null,
      "id": "05ee76ab",
      "metadata": {
        "id": "05ee76ab"
      },
      "outputs": [],
      "source": [
        "i=1\n",
        "n=2\n",
        "while i<=10:\n",
        "    print(n,'*',i,='n*i')\n",
        "    i=i+1"
      ]
    },
    {
      "cell_type": "code",
      "execution_count": null,
      "id": "c81eecc4",
      "metadata": {
        "id": "c81eecc4"
      },
      "outputs": [],
      "source": [
        "i=1\n",
        "n=2\n",
        "while i<=10:\n",
        "    print(n,'*',i,'=',n*i)\n",
        "    i=i+1"
      ]
    },
    {
      "cell_type": "code",
      "execution_count": null,
      "id": "9d406588",
      "metadata": {
        "id": "9d406588"
      },
      "outputs": [],
      "source": [
        "#while with list"
      ]
    },
    {
      "cell_type": "code",
      "execution_count": null,
      "id": "2634b85c",
      "metadata": {
        "id": "2634b85c"
      },
      "outputs": [],
      "source": [
        "l1=[1,2,3,4,5]"
      ]
    },
    {
      "cell_type": "code",
      "execution_count": null,
      "id": "15799b97",
      "metadata": {
        "id": "15799b97"
      },
      "outputs": [],
      "source": [
        "i=0\n",
        "while i<len(l1):\n",
        "    l1[i]=l1[i]+100\n",
        "    i=i+1"
      ]
    },
    {
      "cell_type": "code",
      "execution_count": null,
      "id": "1e40ec12",
      "metadata": {
        "id": "1e40ec12"
      },
      "outputs": [],
      "source": [
        "l1"
      ]
    },
    {
      "cell_type": "code",
      "execution_count": null,
      "id": "4ac8a963",
      "metadata": {
        "id": "4ac8a963"
      },
      "outputs": [],
      "source": [
        "#for loop"
      ]
    },
    {
      "cell_type": "code",
      "execution_count": null,
      "id": "24189dec",
      "metadata": {
        "id": "24189dec"
      },
      "outputs": [],
      "source": [
        "l2=['mango','banana','grapes', 'orange']"
      ]
    },
    {
      "cell_type": "code",
      "execution_count": null,
      "id": "306dfcf0",
      "metadata": {
        "id": "306dfcf0"
      },
      "outputs": [],
      "source": [
        "for i in l2:\n",
        "    print(i)"
      ]
    },
    {
      "cell_type": "code",
      "execution_count": null,
      "id": "7f6ed291",
      "metadata": {
        "id": "7f6ed291"
      },
      "outputs": [],
      "source": [
        "#nasted for loop"
      ]
    },
    {
      "cell_type": "code",
      "execution_count": null,
      "id": "79fd4f5a",
      "metadata": {
        "id": "79fd4f5a"
      },
      "outputs": [],
      "source": [
        "l3=['while','black','green']\n",
        "l4=['chair','book','laptop']"
      ]
    },
    {
      "cell_type": "code",
      "execution_count": null,
      "id": "be7a8f7e",
      "metadata": {
        "id": "be7a8f7e"
      },
      "outputs": [],
      "source": [
        "for i in l3:\n",
        "    for j in l4:\n",
        "        print(i,j)"
      ]
    },
    {
      "cell_type": "code",
      "execution_count": null,
      "id": "b6fea593",
      "metadata": {
        "id": "b6fea593"
      },
      "outputs": [],
      "source": [
        "#function"
      ]
    },
    {
      "cell_type": "code",
      "execution_count": null,
      "id": "535db76b",
      "metadata": {
        "id": "535db76b"
      },
      "outputs": [],
      "source": [
        "def hello():\n",
        "    print('Hello world')"
      ]
    },
    {
      "cell_type": "code",
      "execution_count": null,
      "id": "9459d005",
      "metadata": {
        "id": "9459d005"
      },
      "outputs": [],
      "source": [
        "hello()"
      ]
    },
    {
      "cell_type": "code",
      "execution_count": null,
      "id": "ab8f7539",
      "metadata": {
        "id": "ab8f7539"
      },
      "outputs": [],
      "source": [
        "def add_10(x):\n",
        "    return x+10"
      ]
    },
    {
      "cell_type": "code",
      "execution_count": null,
      "id": "cedf9a43",
      "metadata": {
        "id": "cedf9a43"
      },
      "outputs": [],
      "source": [
        "add_10(9)"
      ]
    },
    {
      "cell_type": "code",
      "execution_count": null,
      "id": "0c0c6700",
      "metadata": {
        "id": "0c0c6700"
      },
      "outputs": [],
      "source": [
        "add_10(5)"
      ]
    },
    {
      "cell_type": "code",
      "execution_count": null,
      "id": "aa53b27f",
      "metadata": {
        "id": "aa53b27f"
      },
      "outputs": [],
      "source": [
        "def odd_even(x):\n",
        "    if x%2==0:\n",
        "        print(\"x is even\")\n",
        "    else:\n",
        "        print('x is odd')"
      ]
    },
    {
      "cell_type": "code",
      "execution_count": null,
      "id": "4683084e",
      "metadata": {
        "id": "4683084e"
      },
      "outputs": [],
      "source": [
        "odd_even(20)"
      ]
    },
    {
      "cell_type": "code",
      "execution_count": null,
      "id": "cf5003ca",
      "metadata": {
        "id": "cf5003ca"
      },
      "outputs": [],
      "source": [
        "odd_even(67)"
      ]
    },
    {
      "cell_type": "code",
      "execution_count": null,
      "id": "091bfa87",
      "metadata": {
        "id": "091bfa87"
      },
      "outputs": [],
      "source": [
        "g=lambda x: x*3\n",
        "g(10)"
      ]
    },
    {
      "cell_type": "code",
      "execution_count": null,
      "id": "32fbe6ef",
      "metadata": {
        "id": "32fbe6ef"
      },
      "outputs": [],
      "source": [
        "g(10)"
      ]
    },
    {
      "cell_type": "code",
      "execution_count": null,
      "id": "38d388bd",
      "metadata": {
        "id": "38d388bd"
      },
      "outputs": [],
      "source": [
        "g=lambda x: x*x*x"
      ]
    },
    {
      "cell_type": "code",
      "execution_count": null,
      "id": "168ab8bd",
      "metadata": {
        "id": "168ab8bd"
      },
      "outputs": [],
      "source": [
        "g(10)"
      ]
    },
    {
      "cell_type": "code",
      "execution_count": null,
      "id": "5fb41968",
      "metadata": {
        "id": "5fb41968"
      },
      "outputs": [],
      "source": [
        "g(3)"
      ]
    },
    {
      "cell_type": "code",
      "execution_count": null,
      "id": "a69bead8",
      "metadata": {
        "id": "a69bead8"
      },
      "outputs": [],
      "source": [
        "#lambda with filter"
      ]
    },
    {
      "cell_type": "code",
      "execution_count": null,
      "id": "bf5300dd",
      "metadata": {
        "id": "bf5300dd"
      },
      "outputs": [],
      "source": [
        "l1=[23,13,51,54,12,14,5,1,64,80]\n",
        "final_list=  list(filter(lambda x: (x%2==0),l1))"
      ]
    },
    {
      "cell_type": "code",
      "execution_count": null,
      "id": "34f2ae60",
      "metadata": {
        "id": "34f2ae60"
      },
      "outputs": [],
      "source": [
        "final_list"
      ]
    },
    {
      "cell_type": "code",
      "execution_count": null,
      "id": "cd7a5ddc",
      "metadata": {
        "id": "cd7a5ddc"
      },
      "outputs": [],
      "source": [
        "#lambda with map"
      ]
    },
    {
      "cell_type": "code",
      "execution_count": null,
      "id": "7118fed1",
      "metadata": {
        "id": "7118fed1"
      },
      "outputs": [],
      "source": [
        "l2=[1,2,3,4,5,6,7,8]"
      ]
    },
    {
      "cell_type": "code",
      "execution_count": null,
      "id": "14191275",
      "metadata": {
        "id": "14191275"
      },
      "outputs": [],
      "source": [
        "list_final_new=list(map(lambda x: x*2,l2))"
      ]
    },
    {
      "cell_type": "code",
      "execution_count": null,
      "id": "25ea5313",
      "metadata": {
        "id": "25ea5313"
      },
      "outputs": [],
      "source": [
        "list_final_new"
      ]
    },
    {
      "cell_type": "code",
      "execution_count": null,
      "id": "0fb91288",
      "metadata": {
        "id": "0fb91288"
      },
      "outputs": [],
      "source": [
        "for x  in l2:\n",
        "    print(x*2)"
      ]
    },
    {
      "cell_type": "code",
      "execution_count": null,
      "id": "43396ddf",
      "metadata": {
        "id": "43396ddf"
      },
      "outputs": [],
      "source": [
        "from functools import reduce"
      ]
    },
    {
      "cell_type": "code",
      "execution_count": null,
      "id": "5f71f54d",
      "metadata": {
        "id": "5f71f54d"
      },
      "outputs": [],
      "source": [
        "sum=reduce(lambda x,y: x+y ,l2)"
      ]
    },
    {
      "cell_type": "code",
      "execution_count": null,
      "id": "63aa636a",
      "metadata": {
        "id": "63aa636a"
      },
      "outputs": [],
      "source": [
        "sum"
      ]
    },
    {
      "cell_type": "code",
      "execution_count": null,
      "id": "e2a8c4cf",
      "metadata": {
        "id": "e2a8c4cf"
      },
      "outputs": [],
      "source": [
        "#Object Oriented Programming(OOP)"
      ]
    },
    {
      "cell_type": "code",
      "execution_count": null,
      "id": "240b7a9c",
      "metadata": {
        "id": "240b7a9c"
      },
      "outputs": [],
      "source": [
        " class Phone:\n",
        "        def make_call(self):\n",
        "            print(\"I am making a call\")\n",
        "        def play_game(self):\n",
        "            print('I  play games')"
      ]
    },
    {
      "cell_type": "code",
      "execution_count": null,
      "id": "2c41d204",
      "metadata": {
        "id": "2c41d204"
      },
      "outputs": [],
      "source": [
        "p1=Phone()"
      ]
    },
    {
      "cell_type": "code",
      "execution_count": null,
      "id": "76ede4ab",
      "metadata": {
        "id": "76ede4ab"
      },
      "outputs": [],
      "source": [
        "p1.make_call()"
      ]
    },
    {
      "cell_type": "code",
      "execution_count": null,
      "id": "dcd00b28",
      "metadata": {
        "id": "dcd00b28"
      },
      "outputs": [],
      "source": [
        "p1.play_game()"
      ]
    },
    {
      "cell_type": "code",
      "execution_count": null,
      "id": "7eea7a64",
      "metadata": {
        "id": "7eea7a64"
      },
      "outputs": [],
      "source": [
        "class Phone:\n",
        "    def set_color(self,color):\n",
        "        self.color=color\n",
        "    def set_cost(self,cost):\n",
        "        self.cost=cost\n",
        "    def show_color(self):\n",
        "        return self.color\n",
        "    def show_cost(self):\n",
        "        return self.cost\n",
        "    def make_call(self):\n",
        "        print(\"make a call\")\n",
        "    def pla_game(self):\n",
        "        print(\"play game\")"
      ]
    },
    {
      "cell_type": "code",
      "execution_count": null,
      "id": "6d5ed038",
      "metadata": {
        "id": "6d5ed038"
      },
      "outputs": [],
      "source": [
        "p2=Phone()"
      ]
    },
    {
      "cell_type": "code",
      "execution_count": null,
      "id": "bf272f95",
      "metadata": {
        "id": "bf272f95"
      },
      "outputs": [],
      "source": [
        "p2.set_color('blue')"
      ]
    },
    {
      "cell_type": "code",
      "execution_count": null,
      "id": "ad8d8d82",
      "metadata": {
        "id": "ad8d8d82"
      },
      "outputs": [],
      "source": [
        "p2.set_cost(5000)"
      ]
    },
    {
      "cell_type": "code",
      "execution_count": null,
      "id": "ec68e4f5",
      "metadata": {
        "id": "ec68e4f5"
      },
      "outputs": [],
      "source": [
        "p2.show_color()"
      ]
    },
    {
      "cell_type": "code",
      "execution_count": null,
      "id": "db9e83dd",
      "metadata": {
        "id": "db9e83dd"
      },
      "outputs": [],
      "source": [
        "p2.show_cost()"
      ]
    },
    {
      "cell_type": "code",
      "execution_count": null,
      "id": "b2ddc8db",
      "metadata": {
        "id": "b2ddc8db"
      },
      "outputs": [],
      "source": [
        "p2.make_call()"
      ]
    },
    {
      "cell_type": "code",
      "execution_count": null,
      "id": "54f8df79",
      "metadata": {
        "id": "54f8df79"
      },
      "outputs": [],
      "source": [
        "p2.play_game()"
      ]
    },
    {
      "cell_type": "code",
      "execution_count": null,
      "id": "11b396aa",
      "metadata": {
        "id": "11b396aa"
      },
      "outputs": [],
      "source": [
        "p2.play_game()"
      ]
    },
    {
      "cell_type": "code",
      "execution_count": null,
      "id": "0960185d",
      "metadata": {
        "id": "0960185d"
      },
      "outputs": [],
      "source": [
        "p2.pla_game()"
      ]
    },
    {
      "cell_type": "code",
      "execution_count": null,
      "id": "9adca0f1",
      "metadata": {
        "id": "9adca0f1"
      },
      "outputs": [],
      "source": [
        "class Phone:\n",
        "    def set_color(self,color):\n",
        "        self.color=color\n",
        "    def set_cost(self,cost):\n",
        "        self.cost=cost\n",
        "    def show_color(self):\n",
        "        return self.color\n",
        "    def show_cost(self):\n",
        "        return self.cost\n",
        "    def make_call(self):\n",
        "        print(\"make a call\")\n",
        "    def play_game(self):\n",
        "        print(\"play game\")"
      ]
    },
    {
      "cell_type": "code",
      "execution_count": null,
      "id": "a3f3fb0f",
      "metadata": {
        "id": "a3f3fb0f"
      },
      "outputs": [],
      "source": [
        "pp2=Phone()"
      ]
    },
    {
      "cell_type": "code",
      "execution_count": null,
      "id": "1fd808d2",
      "metadata": {
        "id": "1fd808d2"
      },
      "outputs": [],
      "source": [
        "pp2.play_game()"
      ]
    },
    {
      "cell_type": "code",
      "execution_count": null,
      "id": "2777ea85",
      "metadata": {
        "id": "2777ea85"
      },
      "outputs": [],
      "source": [
        "class Employee:\n",
        "    def __init__(self,name, age, salary, gender):\n",
        "        self.name=name\n",
        "        self.age=age\n",
        "        self.salary=salary\n",
        "        self.gender=gender\n",
        "    def show_employee_details(self):\n",
        "        print('Name of Employee is:', self.name)\n",
        "        print('Age of Employee is:', self.age)\n",
        "        print('Salary of Employee is:', self.salary)\n",
        "        print('Gender of Employee is:', self.gender)"
      ]
    },
    {
      "cell_type": "code",
      "execution_count": null,
      "id": "6f5dd6c3",
      "metadata": {
        "id": "6f5dd6c3"
      },
      "outputs": [],
      "source": [
        "e1=Employee('Mehedi Hasan',25,30000,'Male')"
      ]
    },
    {
      "cell_type": "code",
      "execution_count": null,
      "id": "6a257310",
      "metadata": {
        "id": "6a257310"
      },
      "outputs": [],
      "source": [
        "e1.show_employee_details()"
      ]
    },
    {
      "cell_type": "code",
      "execution_count": null,
      "id": "97678a0f",
      "metadata": {
        "id": "97678a0f"
      },
      "outputs": [],
      "source": [
        "e1.show_employee_details()"
      ]
    },
    {
      "cell_type": "code",
      "execution_count": null,
      "id": "af8e473b",
      "metadata": {
        "id": "af8e473b"
      },
      "outputs": [],
      "source": [
        "#Inheritance of Python"
      ]
    },
    {
      "cell_type": "code",
      "execution_count": null,
      "id": "1c72bf99",
      "metadata": {
        "id": "1c72bf99"
      },
      "outputs": [],
      "source": [
        "class Vehicle:\n",
        "    def __init__(self,mileage,cost):\n",
        "        self.mileage=mileage\n",
        "        self.cost=cost\n",
        "    def  show_vehicle_details(self):\n",
        "        print(\"Mileage is:\", self.mileage)\n",
        "        print(\"cost is:\", self.cost)\n",
        "        print(\"I am a vehicle\")"
      ]
    },
    {
      "cell_type": "code",
      "execution_count": null,
      "id": "19949d78",
      "metadata": {
        "id": "19949d78"
      },
      "outputs": [],
      "source": [
        "v1= Vehicle(300,500)\n",
        "v1.show_vehicle_details()"
      ]
    },
    {
      "cell_type": "code",
      "execution_count": null,
      "id": "f4953af7",
      "metadata": {
        "id": "f4953af7"
      },
      "outputs": [],
      "source": [
        "class Car(Vehicle):\n",
        "    def show_car_details(self):\n",
        "        print('I am a car')"
      ]
    },
    {
      "cell_type": "code",
      "execution_count": null,
      "id": "3eb89325",
      "metadata": {
        "id": "3eb89325"
      },
      "outputs": [],
      "source": [
        "ca=Car(250,850)"
      ]
    },
    {
      "cell_type": "code",
      "execution_count": null,
      "id": "947c7917",
      "metadata": {
        "id": "947c7917"
      },
      "outputs": [],
      "source": [
        "ca.show_vehicle_details()"
      ]
    },
    {
      "cell_type": "code",
      "execution_count": null,
      "id": "62e5a805",
      "metadata": {
        "id": "62e5a805"
      },
      "outputs": [],
      "source": [
        "ca.show_car_details()"
      ]
    },
    {
      "cell_type": "code",
      "execution_count": null,
      "id": "19834e37",
      "metadata": {
        "id": "19834e37"
      },
      "outputs": [],
      "source": [
        "class Vehicle:\n",
        "    def __init__(self,mileage,cost):\n",
        "        self.mileage=mileage\n",
        "        self.cost=cost\n",
        "    def show_vehicle_details(self):\n",
        "        print('Mileage is:',self.mileage)\n",
        "        print('Cost is:',self.cost)\n",
        "        print('I am a vehicle')"
      ]
    },
    {
      "cell_type": "code",
      "execution_count": null,
      "id": "f5d77d34",
      "metadata": {
        "id": "f5d77d34"
      },
      "outputs": [],
      "source": [
        "v1=Vehicle(300,500)"
      ]
    },
    {
      "cell_type": "code",
      "execution_count": null,
      "id": "82f98071",
      "metadata": {
        "id": "82f98071"
      },
      "outputs": [],
      "source": [
        "class Car(Vehicle):\n",
        "    def __init__(self,mileage,cost,tyre,hp):\n",
        "        super().__init__(mileage,cost)\n",
        "        self.tyre=tyre\n",
        "        self.hp=hp\n",
        "    def show_details(self):\n",
        "        print('Number of the tyres in the car:',self.tyre)\n",
        "        print('Horse power of car is:',self.hp)\n",
        "        print('I am a Car')"
      ]
    },
    {
      "cell_type": "code",
      "execution_count": null,
      "id": "1e7bd167",
      "metadata": {
        "id": "1e7bd167"
      },
      "outputs": [],
      "source": [
        "c1=Car(600,120000,8,999)"
      ]
    },
    {
      "cell_type": "code",
      "execution_count": null,
      "id": "450d6fa8",
      "metadata": {
        "id": "450d6fa8"
      },
      "outputs": [],
      "source": [
        "c1.show_details()"
      ]
    },
    {
      "cell_type": "code",
      "execution_count": null,
      "id": "5289c6a0",
      "metadata": {
        "id": "5289c6a0"
      },
      "outputs": [],
      "source": [
        "c1.show_vehicle_details()"
      ]
    },
    {
      "cell_type": "code",
      "execution_count": null,
      "id": "731af1a2",
      "metadata": {
        "id": "731af1a2"
      },
      "outputs": [],
      "source": [
        "#Types of Inheritance"
      ]
    },
    {
      "cell_type": "code",
      "execution_count": null,
      "id": "4ed03872",
      "metadata": {
        "id": "4ed03872"
      },
      "outputs": [],
      "source": [
        "#Multiple Inheritance  (Child class Inherite  from fore than one parent class)"
      ]
    },
    {
      "cell_type": "code",
      "execution_count": null,
      "id": "0d6e9caf",
      "metadata": {
        "id": "0d6e9caf"
      },
      "outputs": [],
      "source": [
        "class P1:\n",
        "    def string1(self,str1):\n",
        "        self.str1=str1\n",
        "    def show1(self):\n",
        "        return self.str1"
      ]
    },
    {
      "cell_type": "code",
      "execution_count": null,
      "id": "3d867aa1",
      "metadata": {
        "id": "3d867aa1"
      },
      "outputs": [],
      "source": [
        "class P2:\n",
        "    def string2(self,str2):\n",
        "        self.str2=str2\n",
        "    def show2(self):\n",
        "        return self.str2"
      ]
    },
    {
      "cell_type": "code",
      "execution_count": null,
      "id": "892ba5c5",
      "metadata": {
        "id": "892ba5c5"
      },
      "outputs": [],
      "source": [
        "class C(P1,p2):\n",
        "    def string3(self,str3):\n",
        "        self.str3=str3\n",
        "    def show3(self):\n",
        "        return self.str3"
      ]
    },
    {
      "cell_type": "code",
      "execution_count": null,
      "id": "b0f6300e",
      "metadata": {
        "id": "b0f6300e"
      },
      "outputs": [],
      "source": [
        "c=C()"
      ]
    },
    {
      "cell_type": "code",
      "execution_count": null,
      "id": "5951afc4",
      "metadata": {
        "id": "5951afc4"
      },
      "outputs": [],
      "source": [
        "c.string1('I am from parent 1')"
      ]
    },
    {
      "cell_type": "code",
      "execution_count": null,
      "id": "4d4132d0",
      "metadata": {
        "id": "4d4132d0"
      },
      "outputs": [],
      "source": [
        "c.string2('I am from parent 2')"
      ]
    },
    {
      "cell_type": "code",
      "execution_count": null,
      "id": "89768d81",
      "metadata": {
        "id": "89768d81"
      },
      "outputs": [],
      "source": [
        "c.string3('I am  from Child')"
      ]
    },
    {
      "cell_type": "code",
      "execution_count": null,
      "id": "bf1d70d8",
      "metadata": {
        "id": "bf1d70d8"
      },
      "outputs": [],
      "source": [
        "c.show1()"
      ]
    },
    {
      "cell_type": "code",
      "execution_count": null,
      "id": "86c3275b",
      "metadata": {
        "id": "86c3275b"
      },
      "outputs": [],
      "source": [
        "c.show2()"
      ]
    },
    {
      "cell_type": "code",
      "execution_count": null,
      "id": "8a902b11",
      "metadata": {
        "id": "8a902b11"
      },
      "outputs": [],
      "source": [
        "c.show3()"
      ]
    },
    {
      "cell_type": "code",
      "execution_count": null,
      "id": "0ef81f88",
      "metadata": {
        "id": "0ef81f88"
      },
      "outputs": [],
      "source": [
        "#Multi-level Inheritance"
      ]
    },
    {
      "cell_type": "code",
      "execution_count": null,
      "id": "cd5aa66b",
      "metadata": {
        "id": "cd5aa66b"
      },
      "outputs": [],
      "source": [
        "class Parent:\n",
        "    def get_name(self,name):\n",
        "        self.name=name\n",
        "    def show_name(self):\n",
        "        return self.name"
      ]
    },
    {
      "cell_type": "code",
      "execution_count": null,
      "id": "9498e859",
      "metadata": {
        "id": "9498e859"
      },
      "outputs": [],
      "source": [
        "class Child(Parent):\n",
        "    def get_age(self,age):\n",
        "        self.age=age\n",
        "    def show_age(self):\n",
        "        return self.age"
      ]
    },
    {
      "cell_type": "code",
      "execution_count": null,
      "id": "7a341e25",
      "metadata": {
        "id": "7a341e25"
      },
      "outputs": [],
      "source": [
        "class GrandChild(Child):\n",
        "    def get_gender(self,gender):\n",
        "        self.gender=gender\n",
        "    def show_gender(self):\n",
        "        return self.gender"
      ]
    },
    {
      "cell_type": "code",
      "execution_count": null,
      "id": "30372e5b",
      "metadata": {
        "id": "30372e5b"
      },
      "outputs": [],
      "source": [
        "gc=GrandChild()"
      ]
    },
    {
      "cell_type": "code",
      "execution_count": null,
      "id": "2c456ddf",
      "metadata": {
        "id": "2c456ddf"
      },
      "outputs": [],
      "source": [
        "gc.get_name('Mehedi')"
      ]
    },
    {
      "cell_type": "code",
      "execution_count": null,
      "id": "adf0d6eb",
      "metadata": {
        "id": "adf0d6eb"
      },
      "outputs": [],
      "source": [
        "gc.get_age(25)"
      ]
    },
    {
      "cell_type": "code",
      "execution_count": null,
      "id": "f3e4167f",
      "metadata": {
        "id": "f3e4167f"
      },
      "outputs": [],
      "source": [
        "gc.get_gender('Male')"
      ]
    },
    {
      "cell_type": "code",
      "execution_count": null,
      "id": "da62fa59",
      "metadata": {
        "id": "da62fa59"
      },
      "outputs": [],
      "source": [
        "gc.show_name()"
      ]
    },
    {
      "cell_type": "code",
      "execution_count": null,
      "id": "def13fda",
      "metadata": {
        "id": "def13fda"
      },
      "outputs": [],
      "source": [
        "gc.show_age()"
      ]
    },
    {
      "cell_type": "code",
      "execution_count": null,
      "id": "7028a668",
      "metadata": {
        "id": "7028a668"
      },
      "outputs": [],
      "source": [
        "gc.show_gender()"
      ]
    },
    {
      "cell_type": "code",
      "execution_count": null,
      "id": "e6b05f90",
      "metadata": {
        "id": "e6b05f90"
      },
      "outputs": [],
      "source": [
        "#Libraries"
      ]
    },
    {
      "cell_type": "code",
      "execution_count": null,
      "id": "481e2f3f",
      "metadata": {
        "id": "481e2f3f"
      },
      "outputs": [],
      "source": [
        "#Numpy"
      ]
    },
    {
      "cell_type": "code",
      "execution_count": null,
      "id": "5948629d",
      "metadata": {
        "id": "5948629d"
      },
      "outputs": [],
      "source": [
        "import numpy as np"
      ]
    },
    {
      "cell_type": "code",
      "execution_count": null,
      "id": "9b1bb37c",
      "metadata": {
        "id": "9b1bb37c"
      },
      "outputs": [],
      "source": [
        "l1=[1,2,3,4,5,6,]"
      ]
    },
    {
      "cell_type": "code",
      "execution_count": null,
      "id": "dacb6e63",
      "metadata": {
        "id": "dacb6e63"
      },
      "outputs": [],
      "source": [
        "np.array(l1)"
      ]
    },
    {
      "cell_type": "code",
      "execution_count": null,
      "id": "5f1138e4",
      "metadata": {
        "id": "5f1138e4"
      },
      "outputs": [],
      "source": [
        "n1=np.array(l1)\n",
        "n1"
      ]
    },
    {
      "cell_type": "code",
      "execution_count": null,
      "id": "155b426b",
      "metadata": {
        "id": "155b426b"
      },
      "outputs": [],
      "source": [
        "type(n1)"
      ]
    },
    {
      "cell_type": "code",
      "execution_count": null,
      "id": "2c320a3b",
      "metadata": {
        "id": "2c320a3b"
      },
      "outputs": [],
      "source": [
        "n2=np.array([[1,2,3,4],[4,3,2,1]])"
      ]
    },
    {
      "cell_type": "code",
      "execution_count": null,
      "id": "e43769f9",
      "metadata": {
        "id": "e43769f9"
      },
      "outputs": [],
      "source": [
        "n2"
      ]
    },
    {
      "cell_type": "code",
      "execution_count": null,
      "id": "8b7fde98",
      "metadata": {
        "id": "8b7fde98"
      },
      "outputs": [],
      "source": [
        "type(n2)"
      ]
    },
    {
      "cell_type": "code",
      "execution_count": null,
      "id": "09d674c3",
      "metadata": {
        "id": "09d674c3"
      },
      "outputs": [],
      "source": [
        "n3=np.zeros((2,3))\n",
        "n3"
      ]
    },
    {
      "cell_type": "code",
      "execution_count": null,
      "id": "d5712bd1",
      "metadata": {
        "id": "d5712bd1"
      },
      "outputs": [],
      "source": [
        "type(n3)"
      ]
    },
    {
      "cell_type": "code",
      "execution_count": null,
      "id": "7be5f94c",
      "metadata": {
        "id": "7be5f94c"
      },
      "outputs": [],
      "source": [
        "n4=np.full((2,2),10)\n",
        "n4"
      ]
    },
    {
      "cell_type": "code",
      "execution_count": null,
      "id": "0c325060",
      "metadata": {
        "id": "0c325060"
      },
      "outputs": [],
      "source": [
        "#Initializing NumPy Array"
      ]
    },
    {
      "cell_type": "code",
      "execution_count": null,
      "id": "c957cd27",
      "metadata": {
        "id": "c957cd27"
      },
      "outputs": [],
      "source": [
        "import numpy as np\n",
        "n1=np.arange(10,20)\n",
        "n1"
      ]
    },
    {
      "cell_type": "code",
      "execution_count": null,
      "id": "8e884e4e",
      "metadata": {
        "id": "8e884e4e"
      },
      "outputs": [],
      "source": [
        "n1=np.arange(5,50,5)\n",
        "n1"
      ]
    },
    {
      "cell_type": "code",
      "execution_count": null,
      "id": "2c6e54e1",
      "metadata": {
        "id": "2c6e54e1"
      },
      "outputs": [],
      "source": [
        "import numpy as np\n",
        "np.random.randint(100,200,10)"
      ]
    },
    {
      "cell_type": "code",
      "execution_count": null,
      "id": "030c2d92",
      "metadata": {
        "id": "030c2d92"
      },
      "outputs": [],
      "source": [
        "#NumPy Shape"
      ]
    },
    {
      "cell_type": "code",
      "execution_count": null,
      "id": "07f83f11",
      "metadata": {
        "id": "07f83f11"
      },
      "outputs": [],
      "source": [
        "import numpy as np"
      ]
    },
    {
      "cell_type": "code",
      "execution_count": null,
      "id": "3491014f",
      "metadata": {
        "id": "3491014f"
      },
      "outputs": [],
      "source": [
        "n1=np.array([[1,2,3],[4,5,6]])\n",
        "n1"
      ]
    },
    {
      "cell_type": "code",
      "execution_count": null,
      "id": "f1fceac1",
      "metadata": {
        "id": "f1fceac1"
      },
      "outputs": [],
      "source": [
        "n1.shape=(3,2)"
      ]
    },
    {
      "cell_type": "code",
      "execution_count": null,
      "id": "35cd9e1b",
      "metadata": {
        "id": "35cd9e1b"
      },
      "outputs": [],
      "source": [
        "n1"
      ]
    },
    {
      "cell_type": "code",
      "execution_count": null,
      "id": "747d384a",
      "metadata": {
        "id": "747d384a"
      },
      "outputs": [],
      "source": [
        "n1.shape=(6,1)\n",
        "n1"
      ]
    },
    {
      "cell_type": "code",
      "execution_count": null,
      "id": "b4b02b8f",
      "metadata": {
        "id": "b4b02b8f"
      },
      "outputs": [],
      "source": [
        "#Joining NumPy"
      ]
    },
    {
      "cell_type": "code",
      "execution_count": null,
      "id": "7ca7a076",
      "metadata": {
        "id": "7ca7a076"
      },
      "outputs": [],
      "source": [
        "#vertical stack ()"
      ]
    },
    {
      "cell_type": "code",
      "execution_count": null,
      "id": "12629331",
      "metadata": {
        "id": "12629331"
      },
      "outputs": [],
      "source": [
        "import numpy as np"
      ]
    },
    {
      "cell_type": "code",
      "execution_count": null,
      "id": "675b8226",
      "metadata": {
        "id": "675b8226"
      },
      "outputs": [],
      "source": [
        "n1=np.array([1,2,3])\n",
        "n2=np.array([4,5,6])"
      ]
    },
    {
      "cell_type": "code",
      "execution_count": null,
      "id": "fa6cf478",
      "metadata": {
        "id": "fa6cf478"
      },
      "outputs": [],
      "source": [
        "np.vstack((n1,n2))"
      ]
    },
    {
      "cell_type": "code",
      "execution_count": null,
      "id": "379410eb",
      "metadata": {
        "id": "379410eb"
      },
      "outputs": [],
      "source": [
        "#Horizontal stack"
      ]
    },
    {
      "cell_type": "code",
      "execution_count": null,
      "id": "8ecea581",
      "metadata": {
        "id": "8ecea581"
      },
      "outputs": [],
      "source": [
        "np.hstack((n1,n2))"
      ]
    },
    {
      "cell_type": "code",
      "execution_count": null,
      "id": "5ded3c91",
      "metadata": {
        "id": "5ded3c91"
      },
      "outputs": [],
      "source": [
        "#Column stack"
      ]
    },
    {
      "cell_type": "code",
      "execution_count": null,
      "id": "bc3a530e",
      "metadata": {
        "id": "bc3a530e"
      },
      "outputs": [],
      "source": [
        "np.column_stack((n1,n2))"
      ]
    },
    {
      "cell_type": "code",
      "execution_count": null,
      "id": "84171598",
      "metadata": {
        "id": "84171598"
      },
      "outputs": [],
      "source": [
        "#NumPy Intersection and Difference"
      ]
    },
    {
      "cell_type": "code",
      "execution_count": null,
      "id": "f8b21b8a",
      "metadata": {
        "id": "f8b21b8a"
      },
      "outputs": [],
      "source": [
        "import numpy as np\n",
        "n1=np.array([10,20,30,40,50,60])\n",
        "n2=np.array([50,60,70,80,90])"
      ]
    },
    {
      "cell_type": "code",
      "execution_count": null,
      "id": "a7488276",
      "metadata": {
        "id": "a7488276"
      },
      "outputs": [],
      "source": [
        "np.intersect1d(n1,n2)"
      ]
    },
    {
      "cell_type": "code",
      "execution_count": null,
      "id": "6ea27ef1",
      "metadata": {
        "id": "6ea27ef1"
      },
      "outputs": [],
      "source": [
        "np.setdiff1d(n1,n2)"
      ]
    },
    {
      "cell_type": "code",
      "execution_count": null,
      "id": "954760c9",
      "metadata": {
        "id": "954760c9"
      },
      "outputs": [],
      "source": [
        "np.setdiff1d(n2,n1)"
      ]
    },
    {
      "cell_type": "code",
      "execution_count": null,
      "id": "01eeefb8",
      "metadata": {
        "id": "01eeefb8"
      },
      "outputs": [],
      "source": [
        "#Addition of NumPy Arrays"
      ]
    },
    {
      "cell_type": "code",
      "execution_count": null,
      "id": "cc70a84a",
      "metadata": {
        "id": "cc70a84a"
      },
      "outputs": [],
      "source": [
        "import numpy as np"
      ]
    },
    {
      "cell_type": "code",
      "execution_count": null,
      "id": "19d2d1a7",
      "metadata": {
        "id": "19d2d1a7"
      },
      "outputs": [],
      "source": [
        "n1=np.array([10,20])"
      ]
    },
    {
      "cell_type": "code",
      "execution_count": null,
      "id": "78cd3a2c",
      "metadata": {
        "id": "78cd3a2c"
      },
      "outputs": [],
      "source": [
        "n2=np.array([30,40])"
      ]
    },
    {
      "cell_type": "code",
      "execution_count": null,
      "id": "e5626863",
      "metadata": {
        "scrolled": true,
        "id": "e5626863"
      },
      "outputs": [],
      "source": [
        "np.sum([n1,n2])"
      ]
    },
    {
      "cell_type": "code",
      "execution_count": null,
      "id": "31d26712",
      "metadata": {
        "id": "31d26712"
      },
      "outputs": [],
      "source": [
        "np.sum([n1,n2],axis=0)"
      ]
    },
    {
      "cell_type": "code",
      "execution_count": null,
      "id": "2090599a",
      "metadata": {
        "id": "2090599a"
      },
      "outputs": [],
      "source": [
        "np.sum([n1,n2],axis=1)"
      ]
    },
    {
      "cell_type": "code",
      "execution_count": null,
      "id": "a26c80a7",
      "metadata": {
        "id": "a26c80a7"
      },
      "outputs": [],
      "source": [
        "# Numpy Array Mathmatics"
      ]
    },
    {
      "cell_type": "code",
      "execution_count": null,
      "id": "bdb98e2d",
      "metadata": {
        "id": "bdb98e2d"
      },
      "outputs": [],
      "source": [
        "import numpy as np"
      ]
    },
    {
      "cell_type": "code",
      "execution_count": null,
      "id": "008d3b26",
      "metadata": {
        "id": "008d3b26"
      },
      "outputs": [],
      "source": [
        "n1=np.array([10,20,30])"
      ]
    },
    {
      "cell_type": "code",
      "execution_count": null,
      "id": "e21cce5f",
      "metadata": {
        "id": "e21cce5f"
      },
      "outputs": [],
      "source": [
        "n1"
      ]
    },
    {
      "cell_type": "code",
      "execution_count": null,
      "id": "4258e36a",
      "metadata": {
        "id": "4258e36a"
      },
      "outputs": [],
      "source": [
        "n1+5"
      ]
    },
    {
      "cell_type": "code",
      "execution_count": null,
      "id": "81201ca4",
      "metadata": {
        "id": "81201ca4"
      },
      "outputs": [],
      "source": [
        "n1-5"
      ]
    },
    {
      "cell_type": "code",
      "execution_count": null,
      "id": "ec7808d2",
      "metadata": {
        "id": "ec7808d2"
      },
      "outputs": [],
      "source": [
        "n1*5"
      ]
    },
    {
      "cell_type": "code",
      "execution_count": null,
      "id": "e3bfc82e",
      "metadata": {
        "id": "e3bfc82e"
      },
      "outputs": [],
      "source": [
        "n1/5"
      ]
    },
    {
      "cell_type": "code",
      "execution_count": null,
      "id": "723e303e",
      "metadata": {
        "id": "723e303e"
      },
      "outputs": [],
      "source": [
        "# NumPy Math functions"
      ]
    },
    {
      "cell_type": "code",
      "execution_count": null,
      "id": "671b6a6b",
      "metadata": {
        "id": "671b6a6b"
      },
      "outputs": [],
      "source": [
        "#Mean , Median, Standard Deviation"
      ]
    },
    {
      "cell_type": "code",
      "execution_count": null,
      "id": "8f387a55",
      "metadata": {
        "id": "8f387a55"
      },
      "outputs": [],
      "source": [
        "import numpy as np"
      ]
    },
    {
      "cell_type": "code",
      "execution_count": null,
      "id": "2bebc534",
      "metadata": {
        "id": "2bebc534"
      },
      "outputs": [],
      "source": [
        "n1=np.random.randint(1,50,10)"
      ]
    },
    {
      "cell_type": "code",
      "execution_count": null,
      "id": "977aba29",
      "metadata": {
        "id": "977aba29"
      },
      "outputs": [],
      "source": [
        "n1"
      ]
    },
    {
      "cell_type": "code",
      "execution_count": null,
      "id": "779281a5",
      "metadata": {
        "id": "779281a5"
      },
      "outputs": [],
      "source": [
        "np.std(n1)"
      ]
    },
    {
      "cell_type": "code",
      "execution_count": null,
      "id": "3cd4d8e3",
      "metadata": {
        "id": "3cd4d8e3"
      },
      "outputs": [],
      "source": [
        "np.mean(n1)"
      ]
    },
    {
      "cell_type": "code",
      "execution_count": null,
      "id": "dfb9f9db",
      "metadata": {
        "id": "dfb9f9db"
      },
      "outputs": [],
      "source": [
        "np.median(n1)"
      ]
    },
    {
      "cell_type": "code",
      "execution_count": null,
      "id": "788aca50",
      "metadata": {
        "id": "788aca50"
      },
      "outputs": [],
      "source": [
        "#NumPy save and load"
      ]
    },
    {
      "cell_type": "code",
      "execution_count": null,
      "id": "51ee78e1",
      "metadata": {
        "id": "51ee78e1"
      },
      "outputs": [],
      "source": [
        "n1"
      ]
    },
    {
      "cell_type": "code",
      "execution_count": null,
      "id": "744bcff2",
      "metadata": {
        "id": "744bcff2"
      },
      "outputs": [],
      "source": [
        "np.save('my_array',n1)"
      ]
    },
    {
      "cell_type": "code",
      "execution_count": null,
      "id": "c06debbe",
      "metadata": {
        "id": "c06debbe"
      },
      "outputs": [],
      "source": [
        "new_n1=np.load('my_array.npy')"
      ]
    },
    {
      "cell_type": "code",
      "execution_count": null,
      "id": "11ed6840",
      "metadata": {
        "id": "11ed6840"
      },
      "outputs": [],
      "source": [
        "new_n1"
      ]
    },
    {
      "cell_type": "code",
      "execution_count": null,
      "id": "9452b207",
      "metadata": {
        "id": "9452b207"
      },
      "outputs": [],
      "source": [
        "#Python Panda"
      ]
    },
    {
      "cell_type": "code",
      "execution_count": null,
      "id": "b22a8017",
      "metadata": {
        "id": "b22a8017"
      },
      "outputs": [],
      "source": [
        "import pandas as pd"
      ]
    },
    {
      "cell_type": "code",
      "execution_count": null,
      "id": "398908b4",
      "metadata": {
        "id": "398908b4"
      },
      "outputs": [],
      "source": [
        "s1=pd.Series([1,2,3,4,5])"
      ]
    },
    {
      "cell_type": "code",
      "execution_count": null,
      "id": "3b9aa8cd",
      "metadata": {
        "id": "3b9aa8cd"
      },
      "outputs": [],
      "source": [
        "s1"
      ]
    },
    {
      "cell_type": "code",
      "execution_count": null,
      "id": "8db55a50",
      "metadata": {
        "id": "8db55a50"
      },
      "outputs": [],
      "source": [
        "type(s1)"
      ]
    },
    {
      "cell_type": "code",
      "execution_count": null,
      "id": "5bd7eb6f",
      "metadata": {
        "id": "5bd7eb6f"
      },
      "outputs": [],
      "source": [
        "#Changing Index"
      ]
    },
    {
      "cell_type": "code",
      "execution_count": null,
      "id": "f95f490a",
      "metadata": {
        "id": "f95f490a"
      },
      "outputs": [],
      "source": [
        "s1=pd.Series([1,2,3,4,5],index=['a','b','c','d','e'])"
      ]
    },
    {
      "cell_type": "code",
      "execution_count": null,
      "id": "8d46893b",
      "metadata": {
        "id": "8d46893b"
      },
      "outputs": [],
      "source": [
        "s1"
      ]
    },
    {
      "cell_type": "code",
      "execution_count": null,
      "id": "f3589d2d",
      "metadata": {
        "id": "f3589d2d"
      },
      "outputs": [],
      "source": [
        "#Series Object from dictionary"
      ]
    },
    {
      "cell_type": "code",
      "execution_count": null,
      "id": "ddd67ddb",
      "metadata": {
        "id": "ddd67ddb"
      },
      "outputs": [],
      "source": [
        "import pandas as pd"
      ]
    },
    {
      "cell_type": "code",
      "execution_count": null,
      "id": "1c2b589d",
      "metadata": {
        "id": "1c2b589d"
      },
      "outputs": [],
      "source": [
        "s1=pd.Series({'k1':10,'k2':20,'k3':30})"
      ]
    },
    {
      "cell_type": "code",
      "execution_count": null,
      "id": "ad14e52d",
      "metadata": {
        "id": "ad14e52d"
      },
      "outputs": [],
      "source": [
        "s1"
      ]
    },
    {
      "cell_type": "code",
      "execution_count": null,
      "id": "5e248ff1",
      "metadata": {
        "id": "5e248ff1"
      },
      "outputs": [],
      "source": [
        "s1=pd.Series({'k1':10,'k2':20,'k3':30},index=['k3','k1','k4','k2'])"
      ]
    },
    {
      "cell_type": "code",
      "execution_count": null,
      "id": "94afee36",
      "metadata": {
        "id": "94afee36"
      },
      "outputs": [],
      "source": [
        "s1"
      ]
    },
    {
      "cell_type": "code",
      "execution_count": null,
      "id": "a3c76bfd",
      "metadata": {
        "id": "a3c76bfd"
      },
      "outputs": [],
      "source": [
        "#Extracting Individual Elements"
      ]
    },
    {
      "cell_type": "code",
      "execution_count": null,
      "id": "61ea4153",
      "metadata": {
        "id": "61ea4153"
      },
      "outputs": [],
      "source": [
        "l1=[1,2,3,4,5,6,7,8,9]"
      ]
    },
    {
      "cell_type": "code",
      "execution_count": null,
      "id": "0a45e1eb",
      "metadata": {
        "id": "0a45e1eb"
      },
      "outputs": [],
      "source": [
        "s1=pd.Series(l1)"
      ]
    },
    {
      "cell_type": "code",
      "execution_count": null,
      "id": "fd386668",
      "metadata": {
        "id": "fd386668"
      },
      "outputs": [],
      "source": [
        "s1"
      ]
    },
    {
      "cell_type": "code",
      "execution_count": null,
      "id": "3b9aef8f",
      "metadata": {
        "id": "3b9aef8f"
      },
      "outputs": [],
      "source": [
        "s1[4]"
      ]
    },
    {
      "cell_type": "code",
      "execution_count": null,
      "id": "22eabc67",
      "metadata": {
        "id": "22eabc67"
      },
      "outputs": [],
      "source": [
        "s1[:5]"
      ]
    },
    {
      "cell_type": "code",
      "execution_count": null,
      "id": "2e83b63a",
      "metadata": {
        "id": "2e83b63a"
      },
      "outputs": [],
      "source": [
        "s1[-3:]"
      ]
    },
    {
      "cell_type": "code",
      "execution_count": null,
      "id": "92a86a73",
      "metadata": {
        "id": "92a86a73"
      },
      "outputs": [],
      "source": [
        "s1+5"
      ]
    },
    {
      "cell_type": "code",
      "execution_count": null,
      "id": "8a6f4c91",
      "metadata": {
        "id": "8a6f4c91"
      },
      "outputs": [],
      "source": [
        "s1-100"
      ]
    },
    {
      "cell_type": "code",
      "execution_count": null,
      "id": "7ebdd502",
      "metadata": {
        "id": "7ebdd502"
      },
      "outputs": [],
      "source": [
        "s1/10"
      ]
    },
    {
      "cell_type": "code",
      "execution_count": null,
      "id": "aff7a890",
      "metadata": {
        "id": "aff7a890"
      },
      "outputs": [],
      "source": [
        "s2=pd.Series([10,20,30,40,50,60,70,80,90])"
      ]
    },
    {
      "cell_type": "code",
      "execution_count": null,
      "id": "4e7479e6",
      "metadata": {
        "id": "4e7479e6"
      },
      "outputs": [],
      "source": [
        "s1+s2"
      ]
    },
    {
      "cell_type": "code",
      "execution_count": null,
      "id": "7f7c3f0f",
      "metadata": {
        "id": "7f7c3f0f"
      },
      "outputs": [],
      "source": [
        "#Pandas Dataframe"
      ]
    },
    {
      "cell_type": "code",
      "execution_count": null,
      "id": "48a153c0",
      "metadata": {
        "id": "48a153c0"
      },
      "outputs": [],
      "source": []
    }
  ],
  "metadata": {
    "kernelspec": {
      "display_name": "Python 3",
      "language": "python",
      "name": "python3"
    },
    "language_info": {
      "codemirror_mode": {
        "name": "ipython",
        "version": 3
      },
      "file_extension": ".py",
      "mimetype": "text/x-python",
      "name": "python",
      "nbconvert_exporter": "python",
      "pygments_lexer": "ipython3",
      "version": "3.8.8"
    },
    "colab": {
      "provenance": [],
      "include_colab_link": true
    }
  },
  "nbformat": 4,
  "nbformat_minor": 5
}