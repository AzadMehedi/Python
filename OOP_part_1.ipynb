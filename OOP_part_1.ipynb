{
  "nbformat": 4,
  "nbformat_minor": 0,
  "metadata": {
    "colab": {
      "provenance": [],
      "authorship_tag": "ABX9TyNN5ow1IQ7cKLDmcmxnqVvM",
      "include_colab_link": true
    },
    "kernelspec": {
      "name": "python3",
      "display_name": "Python 3"
    },
    "language_info": {
      "name": "python"
    }
  },
  "cells": [
    {
      "cell_type": "markdown",
      "metadata": {
        "id": "view-in-github",
        "colab_type": "text"
      },
      "source": [
        "<a href=\"https://colab.research.google.com/github/AzadMehedi/Python/blob/main/OOP_part_1.ipynb\" target=\"_parent\"><img src=\"https://colab.research.google.com/assets/colab-badge.svg\" alt=\"Open In Colab\"/></a>"
      ]
    },
    {
      "cell_type": "code",
      "source": [
        "class Atm:\n",
        "\n",
        "  #constractor (Special function) -> Super power ->\n",
        "  def __init__(self):\n",
        "    # print(id(self))\n",
        "    self.pin = ''\n",
        "    self.balance = 0 \n",
        "    self.menu()\n",
        "\n",
        "  def menu(self):\n",
        "    user_input = input('''\n",
        "    Hi how can i help you?\n",
        "    1. Press 1 to create pin.\n",
        "    2. Press 2 to change pin.\n",
        "    3. Press 3 to check balance.\n",
        "    4. press 4 to withdraw.\n",
        "    5. Anything else to exit.\n",
        "    ''')\n",
        "\n",
        "    if user_input == '1':\n",
        "      # create pin\n",
        "      self.create_pin()\n",
        "    elif user_input == '2':\n",
        "      # change pin\n",
        "      self.change_pin()\n",
        "    elif user_input == '3':\n",
        "      # check balance\n",
        "      self.check_balance()\n",
        "    elif user_input == '4':\n",
        "      # withdraw\n",
        "      self.withdraw()\n",
        "      pass\n",
        "    else:\n",
        "      exit()\n",
        "\n",
        "  def create_pin(self):\n",
        "    user_pin = input('Enter your pin: ')\n",
        "    self.pin = user_pin\n",
        "\n",
        "    user_balance = int(input('Enter your balance: '))\n",
        "    self.balance = user_balance\n",
        "\n",
        "    print('Pin creared successful.')\n",
        "    self.menu()\n",
        "\n",
        "  def change_pin(self):\n",
        "    old_pin = input('Enter old pin: ')\n",
        "    \n",
        "    if old_pin == self.pin:\n",
        "      # let him change the pin\n",
        "      new_pin = input('Enter new pin: ')\n",
        "      self.pin = new_pin\n",
        "      print('Pin changed successful.')\n",
        "      self.menu()\n",
        "    else:\n",
        "      print('Entered wrong pin.')\n",
        "      self.menu()\n",
        "\n",
        "  def check_balance(self):\n",
        "    user_pin = input('Enter your pin: ')\n",
        "    if user_pin == self.pin:\n",
        "      print('Your balance is: ', self.balance)\n",
        "    else:\n",
        "      print('Wrong pin entered')\n",
        "      self.menu()\n",
        "\n",
        "  def withdraw(self):\n",
        "    user_pin = input('Enter the pin: ')\n",
        "    if user_pin == self.pin:\n",
        "      # allow the withdraw\n",
        "      amount = int(input('Enter te amount: '))\n",
        "      if amount <= self.balance:\n",
        "        self.balance = self.balance - amount\n",
        "        print('Withdrawal successful. Withdrawal balance is : ', amount)\n",
        "        print('New balance is : ', self.balance)\n",
        "      # else:\n",
        "      #   print('Now enough amount.')\n",
        "    else:\n",
        "      print('You do not have such amount')\n",
        "    self.menu()\n",
        "\n",
        "obj = Atm()"
      ],
      "metadata": {
        "id": "dIf7-dPTYv4T",
        "outputId": "0d9833f0-9bc3-4a9c-d23a-ab246f5ffa76",
        "colab": {
          "base_uri": "https://localhost:8080/"
        }
      },
      "execution_count": 2,
      "outputs": [
        {
          "output_type": "stream",
          "name": "stdout",
          "text": [
            "140299884048928\n"
          ]
        }
      ]
    },
    {
      "cell_type": "code",
      "source": [
        "id(obj)"
      ],
      "metadata": {
        "id": "7TZRUTk9yR5r",
        "outputId": "4c21f47f-0d1c-4763-9b22-e4963b17da33",
        "colab": {
          "base_uri": "https://localhost:8080/"
        }
      },
      "execution_count": 4,
      "outputs": [
        {
          "output_type": "execute_result",
          "data": {
            "text/plain": [
              "140299884048928"
            ]
          },
          "metadata": {},
          "execution_count": 4
        }
      ]
    },
    {
      "cell_type": "markdown",
      "source": [
        "# Creating own data dtype"
      ],
      "metadata": {
        "id": "IdRCCrIp1qvw"
      }
    },
    {
      "cell_type": "code",
      "source": [
        "class Fraction:\n",
        "  # parameterized construction  >parameterized construction is a construction who's need input while object creation of the class.\n",
        "  def __init__(self,x,y):\n",
        "    self.numeritor = x\n",
        "    self.denominator = y\n",
        "\n",
        "  def __str__(self):\n",
        "    return '{}/{}'.format(self.numeritor, self.denominator)\n",
        "\n",
        "  def __add__(self, other):\n",
        "    new_numeritor = self.numeritor*other.denominator + other.numeritor*self.denominator\n",
        "    new_denominator = self.denominator*other.denominator\n",
        "    return '{}/{}'.format(new_numeritor, new_denominator)\n",
        "\n",
        "  def __sub__(self, other):\n",
        "    new_numeritor = self.numeritor*other.denominator - other.numeritor*self.denominator\n",
        "    new_denominator = self.denominator*other.denominator\n",
        "    return '{}/{}'.format(new_numeritor, new_denominator)\n",
        "\n",
        "  def __mul__(self, other):\n",
        "    new_numeritor = self.numeritor*other.numeritor\n",
        "    new_denominator = self.denominator*other.denominator\n",
        "    return '{}/{}'.format(new_numeritor, new_denominator)\n",
        "\n",
        "  def __truediv__(self, other):\n",
        "    new_numeritor = self.numeritor*other.denominator\n",
        "    new_denominator = self.denominator*other.numeritor\n",
        "    return '{}/{}'.format(new_numeritor, new_denominator)\n",
        "  \n",
        "  #Non magic Method\n",
        "  def convert_to_decimal(self):\n",
        "    return self.numeritor/self.denominator\n",
        "  \n",
        "  "
      ],
      "metadata": {
        "id": "AKIOsL0b1qYt"
      },
      "execution_count": 45,
      "outputs": []
    },
    {
      "cell_type": "code",
      "source": [
        "fr1 = Fraction(3,4)\n",
        "fr2 = Fraction(1,2)"
      ],
      "metadata": {
        "id": "y2ObmcBE2jk1"
      },
      "execution_count": 46,
      "outputs": []
    },
    {
      "cell_type": "code",
      "source": [
        "fr1.convert_to_decimal()"
      ],
      "metadata": {
        "id": "z03o8AYlDvlR",
        "outputId": "426461ce-8798-4744-e19a-bf5893fd76b4",
        "colab": {
          "base_uri": "https://localhost:8080/"
        }
      },
      "execution_count": 47,
      "outputs": [
        {
          "output_type": "execute_result",
          "data": {
            "text/plain": [
              "0.75"
            ]
          },
          "metadata": {},
          "execution_count": 47
        }
      ]
    },
    {
      "cell_type": "code",
      "source": [
        "print(fr1 + fr2)\n",
        "print(fr1 - fr2)\n",
        "print(fr1 * fr2)\n",
        "print(fr1 / fr2)"
      ],
      "metadata": {
        "id": "A59Q3IMD6wx5",
        "outputId": "0e889264-7d6e-4734-e26d-d25ea48a3df5",
        "colab": {
          "base_uri": "https://localhost:8080/"
        }
      },
      "execution_count": 48,
      "outputs": [
        {
          "output_type": "stream",
          "name": "stdout",
          "text": [
            "10/8\n",
            "2/8\n",
            "3/8\n",
            "6/4\n"
          ]
        }
      ]
    },
    {
      "cell_type": "code",
      "source": [
        " print(fr1 - fr2)"
      ],
      "metadata": {
        "id": "KHa6HwFS6w3W"
      },
      "execution_count": null,
      "outputs": []
    },
    {
      "cell_type": "code",
      "source": [],
      "metadata": {
        "id": "3ebsjMyI6w7S"
      },
      "execution_count": null,
      "outputs": []
    },
    {
      "cell_type": "code",
      "source": [],
      "metadata": {
        "id": "ih7hKLju6xBD"
      },
      "execution_count": null,
      "outputs": []
    },
    {
      "cell_type": "code",
      "source": [],
      "metadata": {
        "id": "UMDEUjLW6xE4"
      },
      "execution_count": null,
      "outputs": []
    },
    {
      "cell_type": "code",
      "source": [],
      "metadata": {
        "id": "lFKX-YlI6xJx"
      },
      "execution_count": null,
      "outputs": []
    },
    {
      "cell_type": "markdown",
      "source": [
        "# Method vs Function"
      ],
      "metadata": {
        "id": "snjlgTKIMTsB"
      }
    },
    {
      "cell_type": "code",
      "source": [
        "L = [1,2,3]\n",
        "len(L)  # Function -> Because because it's outside the class.\n",
        "L.append()   #Method -> Because it's inside the class."
      ],
      "metadata": {
        "id": "e65fRD6qMbhi"
      },
      "execution_count": null,
      "outputs": []
    },
    {
      "cell_type": "code",
      "source": [],
      "metadata": {
        "id": "vsBxZw5exlkf"
      },
      "execution_count": null,
      "outputs": []
    }
  ]
}