{
  "nbformat": 4,
  "nbformat_minor": 0,
  "metadata": {
    "colab": {
      "provenance": [],
      "authorship_tag": "ABX9TyPoxZ0/JIVLuUSJSAJS6ldJ",
      "include_colab_link": true
    },
    "kernelspec": {
      "name": "python3",
      "display_name": "Python 3"
    },
    "language_info": {
      "name": "python"
    }
  },
  "cells": [
    {
      "cell_type": "markdown",
      "metadata": {
        "id": "view-in-github",
        "colab_type": "text"
      },
      "source": [
        "<a href=\"https://colab.research.google.com/github/AzadMehedi/Python/blob/main/OOP_part_1.ipynb\" target=\"_parent\"><img src=\"https://colab.research.google.com/assets/colab-badge.svg\" alt=\"Open In Colab\"/></a>"
      ]
    },
    {
      "cell_type": "code",
      "source": [
        "# Pascal Case\n",
        "HelloWorld"
      ],
      "metadata": {
        "id": "-4Zgxjwr8-ME"
      },
      "execution_count": null,
      "outputs": []
    },
    {
      "cell_type": "code",
      "execution_count": 7,
      "metadata": {
        "id": "Ui9JcmlQ8oIF"
      },
      "outputs": [],
      "source": [
        "class Atm:\n",
        "\n",
        "  #constractor (Special function) -> Super power ->\n",
        "  def __init__(self):\n",
        "    self.pin = ''\n",
        "    self.balance = 0 \n",
        "    # print('Automatic Executeed.')\n",
        "    self.menu()\n",
        "  def menu(self):\n",
        "    user_input = input('''Hi how can i help you?\n",
        "    1. Press 1 to create pin.\n",
        "    2. Press 2 to change pin.\n",
        "    3. Press 3 to check balance.\n",
        "    4. press 4 to withdraw.\n",
        "    5. Anything else to exit.\n",
        "    ''')\n",
        "\n",
        "    if user_input == 1:\n",
        "      # create pin\n",
        "    elif user_input == 2:\n",
        "      # change pin\n",
        "    elif user_input == 3:\n",
        "      # check balance\n",
        "    elif user_input == 4:\n",
        "      # withdraw\n",
        "    else:\n",
        "      exit()"
      ]
    },
    {
      "cell_type": "code",
      "source": [
        "obj = Atm()"
      ],
      "metadata": {
        "colab": {
          "base_uri": "https://localhost:8080/"
        },
        "id": "1ABGHrj6-e-C",
        "outputId": "fa6b884a-d3da-48bc-9894-501f9fa282e9"
      },
      "execution_count": 8,
      "outputs": [
        {
          "name": "stdout",
          "output_type": "stream",
          "text": [
            "Hi how can i help you?\n",
            "    1. Press 1 to create pin.\n",
            "    2. Press 2 to change pin.\n",
            "    3. Press 3 to check balance.\n",
            "    4. press 4 to withdraw.\n",
            "    5. Anything else to exit.\n",
            "    1\n"
          ]
        }
      ]
    },
    {
      "cell_type": "code",
      "source": [
        "print(type(obj))"
      ],
      "metadata": {
        "colab": {
          "base_uri": "https://localhost:8080/"
        },
        "id": "8qVLZJJT-_l9",
        "outputId": "378c90a1-8a0e-4f39-e196-59271803ff94"
      },
      "execution_count": 4,
      "outputs": [
        {
          "output_type": "stream",
          "name": "stdout",
          "text": [
            "<class '__main__.Atm'>\n"
          ]
        }
      ]
    },
    {
      "cell_type": "code",
      "source": [
        "obj."
      ],
      "metadata": {
        "id": "il4P24D9_BbD"
      },
      "execution_count": null,
      "outputs": []
    }
  ]
}