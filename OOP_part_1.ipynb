{
  "nbformat": 4,
  "nbformat_minor": 0,
  "metadata": {
    "colab": {
      "provenance": [],
      "authorship_tag": "ABX9TyOcPJbvk8hmz02IeN4tvwf3",
      "include_colab_link": true
    },
    "kernelspec": {
      "name": "python3",
      "display_name": "Python 3"
    },
    "language_info": {
      "name": "python"
    }
  },
  "cells": [
    {
      "cell_type": "markdown",
      "metadata": {
        "id": "view-in-github",
        "colab_type": "text"
      },
      "source": [
        "<a href=\"https://colab.research.google.com/github/AzadMehedi/Python/blob/main/OOP_part_1.ipynb\" target=\"_parent\"><img src=\"https://colab.research.google.com/assets/colab-badge.svg\" alt=\"Open In Colab\"/></a>"
      ]
    },
    {
      "cell_type": "code",
      "source": [
        "class Atm:\n",
        "\n",
        "  #constractor (Special function) -> Super power ->\n",
        "  def __init__(self):\n",
        "    self.pin = ''\n",
        "    self.balance = 0 \n",
        "    self.menu()\n",
        "\n",
        "  def menu(self):\n",
        "    user_input = input('''\n",
        "    Hi how can i help you?\n",
        "    1. Press 1 to create pin.\n",
        "    2. Press 2 to change pin.\n",
        "    3. Press 3 to check balance.\n",
        "    4. press 4 to withdraw.\n",
        "    5. Anything else to exit.\n",
        "    ''')\n",
        "\n",
        "    if user_input == '1':\n",
        "      # create pin\n",
        "      self.create_pin()\n",
        "    elif user_input == '2':\n",
        "      # change pin\n",
        "      self.change_pin()\n",
        "    elif user_input == '3':\n",
        "      # check balance\n",
        "      self.check_balance()\n",
        "    elif user_input == '4':\n",
        "      # withdraw\n",
        "      self.withdraw()\n",
        "      pass\n",
        "    else:\n",
        "      exit()\n",
        "\n",
        "  def create_pin(self):\n",
        "    user_pin = input('Enter your pin: ')\n",
        "    self.pin = user_pin\n",
        "\n",
        "    user_balance = int(input('Enter your balance: '))\n",
        "    self.balance = user_balance\n",
        "\n",
        "    print('Pin creared successful.')\n",
        "    self.men u()\n",
        "\n",
        "  def change_pin(self):\n",
        "    old_pin = input('Enter old pin: ')\n",
        "    \n",
        "    if old_pin == self.pin:\n",
        "      # let him change the pin\n",
        "      new_pin = input('Enter new pin: ')\n",
        "      self.pin = new_pin\n",
        "      print('Pin changed successful.')\n",
        "      self.menu()\n",
        "    else:\n",
        "      print('Entered wrong pin.')\n",
        "      self.menu()\n",
        "\n",
        "  def check_balance(self):\n",
        "    user_pin = input('Enter your pin: ')\n",
        "    if user_pin == self.pin:\n",
        "      print('Your balance is: ', self.balance)\n",
        "    else:\n",
        "      print('Wrong pin entered')\n",
        "      self.menu()\n",
        "\n",
        "  def withdraw(self):\n",
        "    user_pin = input('Enter the pin: ')\n",
        "    if user_pin == self.pin:\n",
        "      # allow the withdraw\n",
        "      amount = int(input('Enter te amount: '))\n",
        "      if amount <= self.balance:\n",
        "        self.balance = self.balance - amount\n",
        "        print('Withdrawal successful. Withdrawal balance is : ', amount)\n",
        "        print('New balance is : ', self.balance)\n",
        "      # else:\n",
        "      #   print('Now enough amount.')\n",
        "    else:\n",
        "      print('You do not have such amount')\n",
        "    self.menu()\n",
        "\n",
        "obj = Atm()"
      ],
      "metadata": {
        "id": "dIf7-dPTYv4T"
      },
      "execution_count": null,
      "outputs": []
    }
  ]
}