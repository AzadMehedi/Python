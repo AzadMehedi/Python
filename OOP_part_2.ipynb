{
  "nbformat": 4,
  "nbformat_minor": 0,
  "metadata": {
    "colab": {
      "provenance": [],
      "authorship_tag": "ABX9TyM2B01Z1vt5qAKXSa6mWfWB",
      "include_colab_link": true
    },
    "kernelspec": {
      "name": "python3",
      "display_name": "Python 3"
    },
    "language_info": {
      "name": "python"
    }
  },
  "cells": [
    {
      "cell_type": "markdown",
      "metadata": {
        "id": "view-in-github",
        "colab_type": "text"
      },
      "source": [
        "<a href=\"https://colab.research.google.com/github/AzadMehedi/Python/blob/main/OOP_part_2.ipynb\" target=\"_parent\"><img src=\"https://colab.research.google.com/assets/colab-badge.svg\" alt=\"Open In Colab\"/></a>"
      ]
    },
    {
      "cell_type": "markdown",
      "source": [
        "# Write OOP classes to handle the following scenarios:\n",
        "- A user can create and view 2D coordinates\n",
        "- A user can find out the distance between 2 coordinates\n",
        "- A user can find out the distance of a coordinate from origin\n",
        "- A user can check if a point lies on a given line\n",
        "- A user can find the distance between a given 2D point and a given line"
      ],
      "metadata": {
        "id": "hIlU5WOnjORZ"
      }
    },
    {
      "cell_type": "code",
      "source": [
        "class Point:\n",
        "\n",
        "  def __init__(self,x,y):\n",
        "    self.x_cod = x\n",
        "    self.y_cod = y\n",
        "\n",
        "  def __str__(self):\n",
        "    return '{},{}'.format(self.x_cod, self.y_cod)\n",
        "\n",
        "  # the distance between 2 coordinates    ->   d=√((x2 – x1)² + (y2 – y1)²)\n",
        "  def euclidean_distance(self,other):\n",
        "    return ((self.x_cod - other.y_cod)**2 + (self.y_cod - other.x_cod)**2)**0.5\n",
        "\n",
        "  # the distance of a coordinate from origin\n",
        "  def distance_from_origin(self):\n",
        "    # return (self.x_cod**2 + self.y_cod**2)**0.5\n",
        "    return self.euclidean_distance(Point(0,0))\n",
        "\n",
        "\n",
        "class Line:\n",
        "\n",
        "  def __init__(self,A,B,c):\n",
        "    self.A = A\n",
        "    self.B = B\n",
        "    self.C = c\n",
        "\n",
        "  def __str__(self):\n",
        "    return '{}x + {}y + {}'.format(self.A, self.B, self.C)\n",
        "\n",
        "  # check if a point lies on a given line     ->   Ax + By + C = 0\n",
        "  def point_on_line(line, point):\n",
        "    if line.A*point.x_cod + line.B*point.y_cod + line.C == 0:\n",
        "      return 'Lies on the point'\n",
        "    else:\n",
        "      return 'does not lie on the line' \n",
        "\n",
        "  # find the distance between a given 2D point and a given line  ->   d = |Ax1 + By1 + C|]/ √(A2 + B2)\n",
        "  def shortest_distance(line, point):\n",
        "    return abs(line.A*point.x_cod + line.B*point.y_cod + line.C)/(line.A**2 + line.B**2)**0.5\n",
        "\n"
      ],
      "metadata": {
        "id": "R6XDG1ksjQgQ"
      },
      "execution_count": null,
      "outputs": []
    },
    {
      "cell_type": "code",
      "source": [
        "p1 = Point(0,0)\n",
        "p2 = Point(10,10)\n",
        "print(p1)\n",
        "print(p2)\n",
        "print(p1.euclidean_distance(p2))\n",
        "print(p1.distance_from_origin())"
      ],
      "metadata": {
        "colab": {
          "base_uri": "https://localhost:8080/"
        },
        "id": "zrIMcrous248",
        "outputId": "994e256e-d000-41b6-d3f0-7e60c42465ee"
      },
      "execution_count": null,
      "outputs": [
        {
          "output_type": "stream",
          "name": "stdout",
          "text": [
            "0,0\n",
            "10,10\n",
            "14.142135623730951\n",
            "0.0\n"
          ]
        }
      ]
    },
    {
      "cell_type": "code",
      "source": [
        "l1 = Line(1,1,-2)\n",
        "p1 = Point(1,1)\n",
        "print(l1)\n",
        "print(p1)\n",
        "l1.point_on_line(p1)\n",
        "l1.shortest_distance(p1)"
      ],
      "metadata": {
        "colab": {
          "base_uri": "https://localhost:8080/"
        },
        "id": "jBq8GD0Q2T-J",
        "outputId": "d9cf1ecb-51a3-486a-dbe6-49095ef80640"
      },
      "execution_count": null,
      "outputs": [
        {
          "output_type": "stream",
          "name": "stdout",
          "text": [
            "1x + 1y + -2\n",
            "1,1\n"
          ]
        },
        {
          "output_type": "execute_result",
          "data": {
            "text/plain": [
              "0.0"
            ]
          },
          "metadata": {},
          "execution_count": 38
        }
      ]
    },
    {
      "cell_type": "markdown",
      "source": [
        "# How object access attributes"
      ],
      "metadata": {
        "id": "rnE-xsSC50u4"
      }
    },
    {
      "cell_type": "code",
      "source": [
        "class Person:\n",
        "\n",
        "  def __init__(self, name_input, country_input):\n",
        "    self.name = name_input\n",
        "    self.country = country_input\n",
        "\n",
        "  def greeting(self):\n",
        "    if self.country == 'Bangladesh':\n",
        "      print('Assalamu Alaikum, ', self.name)\n",
        "    else:\n",
        "      print('Hello, ', self.name)"
      ],
      "metadata": {
        "id": "MczePiRV9ddV"
      },
      "execution_count": null,
      "outputs": []
    },
    {
      "cell_type": "code",
      "source": [
        "# How to access attributes\n",
        "p = Person('Mehedi', 'Bangladesh')"
      ],
      "metadata": {
        "id": "4Jweq7m86-r5"
      },
      "execution_count": null,
      "outputs": []
    },
    {
      "cell_type": "code",
      "source": [
        "print(p.name)\n",
        "print(p.country)"
      ],
      "metadata": {
        "colab": {
          "base_uri": "https://localhost:8080/"
        },
        "id": "UAJBUMRq7gE9",
        "outputId": "89d84c46-8402-46fd-e5e4-41de33d7c515"
      },
      "execution_count": null,
      "outputs": [
        {
          "output_type": "stream",
          "name": "stdout",
          "text": [
            "Mehedi\n",
            "Bangladesh\n"
          ]
        }
      ]
    },
    {
      "cell_type": "code",
      "source": [
        "# How to access methods\n",
        "p.greeting()"
      ],
      "metadata": {
        "colab": {
          "base_uri": "https://localhost:8080/"
        },
        "id": "dbQOMBOU7k5C",
        "outputId": "00b0e355-3b42-4b8e-f8e8-11e519b96bb1"
      },
      "execution_count": null,
      "outputs": [
        {
          "output_type": "stream",
          "name": "stdout",
          "text": [
            "Assalamu Alaikum,  Mehedi\n"
          ]
        }
      ]
    },
    {
      "cell_type": "code",
      "source": [
        "# Attribute creation from outside the of the class\n",
        "p.gender = 'Male'\n",
        "p.gender"
      ],
      "metadata": {
        "colab": {
          "base_uri": "https://localhost:8080/",
          "height": 35
        },
        "id": "YcUhaaIc7083",
        "outputId": "0c7d211a-69c3-492d-c498-3ac3bc00f069"
      },
      "execution_count": null,
      "outputs": [
        {
          "output_type": "execute_result",
          "data": {
            "text/plain": [
              "'Male'"
            ],
            "application/vnd.google.colaboratory.intrinsic+json": {
              "type": "string"
            }
          },
          "metadata": {},
          "execution_count": 13
        }
      ]
    },
    {
      "cell_type": "markdown",
      "source": [
        "### Reference Variables\n",
        "\n",
        "- Reference variables hold the objects\n",
        "- We can create objects without reference variable as well\n",
        "- An object can have multiple reference variables\n",
        "- Assigning a new reference variable to an existing object does not create a new object"
      ],
      "metadata": {
        "id": "x8UOM2_PCxe5"
      }
    },
    {
      "cell_type": "code",
      "source": [
        "# Object without reference\n",
        "class Person:\n",
        "\n",
        "  def __init__(self):\n",
        "    self.name = 'Mehedi'\n",
        "    self.gender = 'Male'\n",
        "\n",
        "# Person()\n",
        "p = Person()   # here p is not a object. it is containg the memory address of the object. Actualy here 'Person()' is the object\n",
        "q = p          # now q is contain p. That means q is containg the same address of the object Person() as p.  "
      ],
      "metadata": {
        "id": "kwOO5JftACP1"
      },
      "execution_count": null,
      "outputs": []
    },
    {
      "cell_type": "code",
      "source": [
        "# Multiple reference\n",
        "print(id(p))\n",
        "print(id(q))\n"
      ],
      "metadata": {
        "colab": {
          "base_uri": "https://localhost:8080/"
        },
        "id": "X0sg9HQJFC-D",
        "outputId": "2591b80b-0ecc-45ab-f27f-27654031e962"
      },
      "execution_count": null,
      "outputs": [
        {
          "output_type": "stream",
          "name": "stdout",
          "text": [
            "140024272623984\n",
            "140024272623984\n"
          ]
        }
      ]
    },
    {
      "cell_type": "code",
      "source": [
        "# change attribute value with the help of 2nd object\n",
        "print(p.name)\n",
        "print(q.name)\n",
        "p.name = 'ankit' # or q.name = 'Ankit'\n",
        "print(q.name)\n",
        "print(p.name)"
      ],
      "metadata": {
        "colab": {
          "base_uri": "https://localhost:8080/"
        },
        "id": "BSjZY0J1FvF-",
        "outputId": "191bd778-4018-49d8-d179-ddc8b1d09f7d"
      },
      "execution_count": null,
      "outputs": [
        {
          "output_type": "stream",
          "name": "stdout",
          "text": [
            "Mehedi\n",
            "Mehedi\n",
            "ankit\n",
            "ankit\n"
          ]
        }
      ]
    },
    {
      "cell_type": "markdown",
      "source": [
        "# Pass by Reference"
      ],
      "metadata": {
        "id": "i-IaJ-QdT5AZ"
      }
    },
    {
      "cell_type": "code",
      "source": [
        "class Person:\n",
        "\n",
        "  def __init__(self,name,gender):\n",
        "    self.name = name\n",
        "    self.gender = gender\n",
        "\n",
        "# outside the class -> function\n",
        "def greet(person):\n",
        "  print('Hi my name is',person.name,'and I am a',person.gender)\n",
        "  p1 = Person('Mehedi','male')\n",
        "  return p1\n",
        "\n",
        "p = Person('Evan','male')\n",
        "x = greet(p)\n",
        "print(x.name)\n",
        "print(x.gender)\n"
      ],
      "metadata": {
        "colab": {
          "base_uri": "https://localhost:8080/"
        },
        "id": "5HL28GITHoRD",
        "outputId": "b0377d78-1e5a-47e6-8a6d-f56adc30b894"
      },
      "execution_count": null,
      "outputs": [
        {
          "output_type": "stream",
          "name": "stdout",
          "text": [
            "Hi my name is Evan and I am a male\n",
            "Mehedi\n",
            "male\n"
          ]
        }
      ]
    },
    {
      "cell_type": "code",
      "source": [
        "class Person:\n",
        "\n",
        "  def __init__(self,name,gender):\n",
        "    self.name = name\n",
        "    self.gender = gender\n",
        "\n",
        "# outside the class -> function\n",
        "def greet(person):\n",
        "  print(id(person))\n",
        "  person.name = 'Mehedi'\n",
        "  print('Hi my name is',person.name,'and I am a',person.gender)\n",
        "\n",
        "p = Person('Evan','male')\n",
        "print(id(p))\n",
        "greet(p)\n",
        "print(p.name)\n",
        "\n",
        "\n"
      ],
      "metadata": {
        "id": "xzPd6DeoY43C",
        "colab": {
          "base_uri": "https://localhost:8080/"
        },
        "outputId": "c06a4eda-5e62-41dd-dc1e-b21fc1108bd6"
      },
      "execution_count": null,
      "outputs": [
        {
          "output_type": "stream",
          "name": "stdout",
          "text": [
            "140549800311920\n",
            "140549800311920\n",
            "Hi my name is Mehedi and I am a male\n",
            "Mehedi\n"
          ]
        }
      ]
    },
    {
      "cell_type": "markdown",
      "source": [
        "# Python object mutabilty"
      ],
      "metadata": {
        "id": "8xBVqmENmc24"
      }
    },
    {
      "cell_type": "code",
      "source": [
        "# In python, all objects are mutable.\n",
        "\n",
        "class Person:\n",
        "\n",
        "  def __init__(self,name,gender):\n",
        "    self.name = name\n",
        "    self.gender = gender\n",
        "\n",
        "# outside the class -> function\n",
        "def greet(person):\n",
        "  person.name = 'Mehedi'\n",
        "  return person \n",
        "\n",
        "p = Person('Evan','male')\n",
        "print(id(p))\n",
        "p1 = greet(p)\n",
        "print(id(p1))"
      ],
      "metadata": {
        "colab": {
          "base_uri": "https://localhost:8080/"
        },
        "id": "s8rt5T6jZ7SE",
        "outputId": "516fa0b2-96cf-4727-d7da-671cf1c052c3"
      },
      "execution_count": null,
      "outputs": [
        {
          "output_type": "stream",
          "name": "stdout",
          "text": [
            "140549780681296\n",
            "140549780681296\n"
          ]
        }
      ]
    },
    {
      "cell_type": "markdown",
      "source": [
        "# Encapsulation"
      ],
      "metadata": {
        "id": "f-lbdQUxm190"
      }
    },
    {
      "cell_type": "code",
      "source": [
        "class Atm:\n",
        "\n",
        "  #constractor (Special function) -> Super power ->\n",
        "  def __init__(self):\n",
        "    # print(id(self))\n",
        "    self.pin = ''\n",
        "    self.__balance = 0 \n",
        "    # self.menu()\n",
        "\n",
        "    # getter and setter in python\n",
        "    # getter: for getting values from private attributes\n",
        "  def get_balance(self):\n",
        "    return self.__balance\n",
        "\n",
        "    #setter: for changing or updating values of private attributes\n",
        "  def set_balance(self, new_value):\n",
        "    if type(new_value) == int:\n",
        "      self.__balance = new_value\n",
        "    else:\n",
        "      print('Warning! Something is very wrog here.')\n",
        "\n",
        "  def menu(self):\n",
        "    user_input = input('''\n",
        "    Hi how can i help you?\n",
        "    1. Press 1 to create pin.\n",
        "    2. Press 2 to change pin.\n",
        "    3. Press 3 to check balance.\n",
        "    4. press 4 to withdraw.\n",
        "    5. Anything else to exit.\n",
        "    ''')\n",
        "\n",
        "    if user_input == '1':\n",
        "      # create pin\n",
        "      self.create_pin()\n",
        "    elif user_input == '2':\n",
        "      # change pin\n",
        "      self.change_pin()\n",
        "    elif user_input == '3':\n",
        "      # check balance\n",
        "      self.check_balance()\n",
        "    elif user_input == '4':\n",
        "      # withdraw\n",
        "      self.withdraw()\n",
        "      pass\n",
        "    else:\n",
        "      exit()\n",
        "\n",
        "  def create_pin(self):\n",
        "    user_pin = input('Enter your pin: ')\n",
        "    self.pin = user_pin\n",
        "\n",
        "    user_balance = int(input('Enter your balance: '))\n",
        "    self.__balance = user_balance\n",
        "\n",
        "    print('Pin creared successful.')\n",
        "    # self.menu()\n",
        "\n",
        "  def change_pin(self):\n",
        "    old_pin = input('Enter old pin: ')\n",
        "    \n",
        "    if old_pin == self.pin:\n",
        "      # let him change the pin\n",
        "      new_pin = input('Enter new pin: ')\n",
        "      self.pin = new_pin\n",
        "      print('Pin changed successful.')\n",
        "      self.menu()\n",
        "    else:\n",
        "      print('Entered wrong pin.')\n",
        "      # self.menu()\n",
        "\n",
        "  def check_balance(self):\n",
        "    user_pin = input('Enter your pin: ')\n",
        "    if user_pin == self.pin:\n",
        "      print('Your balance is: ', self.__balance)\n",
        "    else:\n",
        "      print('Wrong pin entered')\n",
        "      # self.menu()\n",
        "\n",
        "  def withdraw(self):\n",
        "    user_pin = input('Enter the pin: ')\n",
        "    if user_pin == self.pin:\n",
        "      # allow the withdraw\n",
        "      amount = int(input('Enter te amount: '))\n",
        "      if amount <= self.__balance:\n",
        "        self.__balance = self.__balance - amount\n",
        "        print('Withdrawal successful. Withdrawal balance is : ', amount)\n",
        "        print('New balance is : ', self.__balance)\n",
        "      # else:\n",
        "      #   print('Now enough amount.')\n",
        "    else:\n",
        "      print('You do not have such amount')\n",
        "    # self.menu()\n"
      ],
      "metadata": {
        "id": "PtELdm1Gm3iV"
      },
      "execution_count": null,
      "outputs": []
    },
    {
      "cell_type": "code",
      "source": [
        "obj = Atm()"
      ],
      "metadata": {
        "id": "8F36cLtGfMT1"
      },
      "execution_count": null,
      "outputs": []
    },
    {
      "cell_type": "code",
      "source": [
        "obj.create_pin()\n",
        "obj._Atm__balance = 'Hehehe'"
      ],
      "metadata": {
        "colab": {
          "base_uri": "https://localhost:8080/"
        },
        "id": "qsEgMapPfts4",
        "outputId": "495ecfcb-1c3b-41fd-88d2-83b49e5a1565"
      },
      "execution_count": null,
      "outputs": [
        {
          "output_type": "stream",
          "name": "stdout",
          "text": [
            "Enter your pin: 1234\n",
            "Enter your balance: 10000\n",
            "Pin creared successful.\n"
          ]
        }
      ]
    },
    {
      "cell_type": "code",
      "source": [
        "obj.withdraw()     # won't work. "
      ],
      "metadata": {
        "colab": {
          "base_uri": "https://localhost:8080/",
          "height": 323
        },
        "id": "0LBtlPNbfzRu",
        "outputId": "422164e9-6379-4bbe-a4d0-22b18be0cdae"
      },
      "execution_count": null,
      "outputs": [
        {
          "name": "stdout",
          "output_type": "stream",
          "text": [
            "Enter the pin: 1234\n",
            "Enter te amount: 6000\n"
          ]
        },
        {
          "output_type": "error",
          "ename": "TypeError",
          "evalue": "ignored",
          "traceback": [
            "\u001b[0;31m---------------------------------------------------------------------------\u001b[0m",
            "\u001b[0;31mTypeError\u001b[0m                                 Traceback (most recent call last)",
            "\u001b[0;32m<ipython-input-9-d1d447682413>\u001b[0m in \u001b[0;36m<module>\u001b[0;34m\u001b[0m\n\u001b[0;32m----> 1\u001b[0;31m \u001b[0mobj\u001b[0m\u001b[0;34m.\u001b[0m\u001b[0mwithdraw\u001b[0m\u001b[0;34m(\u001b[0m\u001b[0;34m)\u001b[0m     \u001b[0;31m# won't work.\u001b[0m\u001b[0;34m\u001b[0m\u001b[0;34m\u001b[0m\u001b[0m\n\u001b[0m",
            "\u001b[0;32m<ipython-input-5-1a03cdfaac7a>\u001b[0m in \u001b[0;36mwithdraw\u001b[0;34m(self)\u001b[0m\n\u001b[1;32m     79\u001b[0m       \u001b[0;31m# allow the withdraw\u001b[0m\u001b[0;34m\u001b[0m\u001b[0;34m\u001b[0m\u001b[0;34m\u001b[0m\u001b[0m\n\u001b[1;32m     80\u001b[0m       \u001b[0mamount\u001b[0m \u001b[0;34m=\u001b[0m \u001b[0mint\u001b[0m\u001b[0;34m(\u001b[0m\u001b[0minput\u001b[0m\u001b[0;34m(\u001b[0m\u001b[0;34m'Enter te amount: '\u001b[0m\u001b[0;34m)\u001b[0m\u001b[0;34m)\u001b[0m\u001b[0;34m\u001b[0m\u001b[0;34m\u001b[0m\u001b[0m\n\u001b[0;32m---> 81\u001b[0;31m       \u001b[0;32mif\u001b[0m \u001b[0mamount\u001b[0m \u001b[0;34m<=\u001b[0m \u001b[0mself\u001b[0m\u001b[0;34m.\u001b[0m\u001b[0m__balance\u001b[0m\u001b[0;34m:\u001b[0m\u001b[0;34m\u001b[0m\u001b[0;34m\u001b[0m\u001b[0m\n\u001b[0m\u001b[1;32m     82\u001b[0m         \u001b[0mself\u001b[0m\u001b[0;34m.\u001b[0m\u001b[0m__balance\u001b[0m \u001b[0;34m=\u001b[0m \u001b[0mself\u001b[0m\u001b[0;34m.\u001b[0m\u001b[0m__balance\u001b[0m \u001b[0;34m-\u001b[0m \u001b[0mamount\u001b[0m\u001b[0;34m\u001b[0m\u001b[0;34m\u001b[0m\u001b[0m\n\u001b[1;32m     83\u001b[0m         \u001b[0mprint\u001b[0m\u001b[0;34m(\u001b[0m\u001b[0;34m'Withdrawal successful. Withdrawal balance is : '\u001b[0m\u001b[0;34m,\u001b[0m \u001b[0mamount\u001b[0m\u001b[0;34m)\u001b[0m\u001b[0;34m\u001b[0m\u001b[0;34m\u001b[0m\u001b[0m\n",
            "\u001b[0;31mTypeError\u001b[0m: '<=' not supported between instances of 'int' and 'str'"
          ]
        }
      ]
    },
    {
      "cell_type": "code",
      "source": [
        "# for getter & setter\n",
        "obj = Atm()\n",
        "\n"
      ],
      "metadata": {
        "id": "dqaT5_SmgvOD"
      },
      "execution_count": null,
      "outputs": []
    },
    {
      "cell_type": "code",
      "source": [
        "obj.get_balance()"
      ],
      "metadata": {
        "colab": {
          "base_uri": "https://localhost:8080/"
        },
        "id": "PjeT87MFEzFZ",
        "outputId": "3cf44a76-81b0-425d-e26f-b7a85c81ef9a"
      },
      "execution_count": null,
      "outputs": [
        {
          "output_type": "execute_result",
          "data": {
            "text/plain": [
              "0"
            ]
          },
          "metadata": {},
          "execution_count": 30
        }
      ]
    },
    {
      "cell_type": "code",
      "source": [
        "obj.set_balance(1000)"
      ],
      "metadata": {
        "id": "iV-m4XCnFcPj"
      },
      "execution_count": null,
      "outputs": []
    },
    {
      "cell_type": "code",
      "source": [
        "obj.get_balance()"
      ],
      "metadata": {
        "colab": {
          "base_uri": "https://localhost:8080/"
        },
        "id": "_IP0vDlXFe_q",
        "outputId": "25205fa3-bb1f-4a64-cfcd-02fc49874adb"
      },
      "execution_count": null,
      "outputs": [
        {
          "output_type": "execute_result",
          "data": {
            "text/plain": [
              "1000"
            ]
          },
          "metadata": {},
          "execution_count": 32
        }
      ]
    },
    {
      "cell_type": "code",
      "source": [
        "# fun\n",
        "obj.set_balance('Hehehe')"
      ],
      "metadata": {
        "id": "Zs8HGybFFwuK"
      },
      "execution_count": null,
      "outputs": []
    },
    {
      "cell_type": "code",
      "source": [
        "# now \n",
        "obj.get_balance()"
      ],
      "metadata": {
        "colab": {
          "base_uri": "https://localhost:8080/",
          "height": 35
        },
        "id": "jnP0LJT_F8-3",
        "outputId": "e628cd9b-b9ec-4bf7-c5d5-156d78887bea"
      },
      "execution_count": null,
      "outputs": [
        {
          "output_type": "execute_result",
          "data": {
            "text/plain": [
              "'Hehehe'"
            ],
            "application/vnd.google.colaboratory.intrinsic+json": {
              "type": "string"
            }
          },
          "metadata": {},
          "execution_count": 34
        }
      ]
    },
    {
      "cell_type": "code",
      "source": [
        "#trying to withdraw\n",
        "obj.withdraw()"
      ],
      "metadata": {
        "colab": {
          "base_uri": "https://localhost:8080/"
        },
        "id": "x74K1WT5GFdC",
        "outputId": "b97c3e77-58ed-4c65-c50f-0183def32e7d"
      },
      "execution_count": null,
      "outputs": [
        {
          "output_type": "stream",
          "name": "stdout",
          "text": [
            "Enter the pin: 1234\n",
            "You do not have such amount\n"
          ]
        }
      ]
    },
    {
      "cell_type": "markdown",
      "source": [
        "# Collection ob objects"
      ],
      "metadata": {
        "id": "LuS0qyw6WCzg"
      }
    },
    {
      "cell_type": "code",
      "source": [
        "# List of objects\n",
        "class Person:\n",
        "\n",
        "  def __init__(self, name, gender):\n",
        "    self.name = name\n",
        "    self.gender = gender\n",
        "\n",
        "p1 = Person('Mehedi', 'Male')\n",
        "p2 = Person('Evan', 'Male')\n",
        "p3 = Person('NAfis', 'Male')"
      ],
      "metadata": {
        "id": "RiMBUgC9GNH5"
      },
      "execution_count": 1,
      "outputs": []
    },
    {
      "cell_type": "code",
      "source": [
        "L = [p1,p2,p3]\n",
        "print(L)"
      ],
      "metadata": {
        "id": "WtyB7GwlXFnD",
        "outputId": "1c33984a-9c31-45a8-a83f-192effed7e37",
        "colab": {
          "base_uri": "https://localhost:8080/"
        }
      },
      "execution_count": 2,
      "outputs": [
        {
          "output_type": "stream",
          "name": "stdout",
          "text": [
            "[<__main__.Person object at 0x7f2ea80d6c70>, <__main__.Person object at 0x7f2ea80d6cd0>, <__main__.Person object at 0x7f2ea80d6ca0>]\n"
          ]
        }
      ]
    },
    {
      "cell_type": "code",
      "source": [
        "# we can do all list methods because L is a list.\n",
        "for i in L:\n",
        "  print(i.name, i.gender)\n"
      ],
      "metadata": {
        "id": "quBte_StXOjT",
        "outputId": "f014bf21-3b6c-4a18-fc06-148e1170ea21",
        "colab": {
          "base_uri": "https://localhost:8080/"
        }
      },
      "execution_count": 6,
      "outputs": [
        {
          "output_type": "stream",
          "name": "stdout",
          "text": [
            "Mehedi Male\n",
            "Evan Male\n",
            "NAfis Male\n"
          ]
        }
      ]
    },
    {
      "cell_type": "code",
      "source": [
        "# Dictionary of objects\n",
        "class Person:\n",
        "\n",
        "  def __init__(self, name, gender):\n",
        "    self.name = name\n",
        "    self.gender = gender\n",
        "\n",
        "p1 = Person('Mehedi', 'Male')\n",
        "p2 = Person('Evan', 'Male')\n",
        "p3 = Person('NAfis', 'Male')\n",
        "\n",
        "d = {'p1':p1, 'p2':p2, 'p3':p3}\n",
        "\n",
        "for i in d:\n",
        "  print(d[i].name, d[i].gender)"
      ],
      "metadata": {
        "id": "CzllRIbOXvuE",
        "outputId": "12681f54-6ec6-4f46-df19-4317c02b7439",
        "colab": {
          "base_uri": "https://localhost:8080/"
        }
      },
      "execution_count": 10,
      "outputs": [
        {
          "output_type": "stream",
          "name": "stdout",
          "text": [
            "Mehedi Male\n",
            "Evan Male\n",
            "NAfis Male\n"
          ]
        }
      ]
    },
    {
      "cell_type": "markdown",
      "source": [
        "# Static variables vs Instance variables"
      ],
      "metadata": {
        "id": "Og1CjFQ_ZyEr"
      }
    },
    {
      "cell_type": "code",
      "source": [
        "# need for static variables"
      ],
      "metadata": {
        "id": "zajxP6GZY41k"
      },
      "execution_count": 11,
      "outputs": []
    },
    {
      "cell_type": "code",
      "source": [
        "class Atm:\n",
        "  __counter = 1\n",
        "\n",
        "  #constractor (Special function) -> Super power ->\n",
        "  def __init__(self):\n",
        "    # print(id(self))\n",
        "    self.pin = ''\n",
        "    self.__balance = 0 \n",
        "\n",
        "    self.cid = Atm.__counter\n",
        "    Atm.__counter = Atm.__counter + 1\n",
        "    # self.menu()\n",
        "\n",
        "  # Utility functions or methods -> do simple works, no need to object.\n",
        "  @staticmethod\n",
        "  def get_counter():\n",
        "    return Atm.__counter\n",
        "\n",
        "    # getter and setter in python\n",
        "    # getter: for getting values from private attributes\n",
        "  def get_balance(self):\n",
        "    return self.__balance\n",
        "\n",
        "    #setter: for changing or updating values of private attributes\n",
        "  def set_balance(self, new_value):\n",
        "    if type(new_value) == int:\n",
        "      self.__balance = new_value\n",
        "    else:\n",
        "      print('Warning! Something is very wrog here.')\n",
        "\n",
        "  def menu(self):\n",
        "    user_input = input('''\n",
        "    Hi how can i help you?\n",
        "    1. Press 1 to create pin.\n",
        "    2. Press 2 to change pin.\n",
        "    3. Press 3 to check balance.\n",
        "    4. press 4 to withdraw.\n",
        "    5. Anything else to exit.\n",
        "    ''')\n",
        "\n",
        "    if user_input == '1':\n",
        "      # create pin\n",
        "      self.create_pin()\n",
        "    elif user_input == '2':\n",
        "      # change pin\n",
        "      self.change_pin()\n",
        "    elif user_input == '3':\n",
        "      # check balance\n",
        "      self.check_balance()\n",
        "    elif user_input == '4':\n",
        "      # withdraw\n",
        "      self.withdraw()\n",
        "      pass\n",
        "    else:\n",
        "      exit()\n",
        "\n",
        "  def create_pin(self):\n",
        "    user_pin = input('Enter your pin: ')\n",
        "    self.pin = user_pin\n",
        "\n",
        "    user_balance = int(input('Enter your balance: '))\n",
        "    self.__balance = user_balance\n",
        "\n",
        "    print('Pin creared successful.')\n",
        "    # self.menu()\n",
        "\n",
        "  def change_pin(self):\n",
        "    old_pin = input('Enter old pin: ')\n",
        "    \n",
        "    if old_pin == self.pin:\n",
        "      # let him change the pin\n",
        "      new_pin = input('Enter new pin: ')\n",
        "      self.pin = new_pin\n",
        "      print('Pin changed successful.')\n",
        "      self.menu()\n",
        "    else:\n",
        "      print('Entered wrong pin.')\n",
        "      # self.menu()\n",
        "\n",
        "  def check_balance(self):\n",
        "    user_pin = input('Enter your pin: ')\n",
        "    if user_pin == self.pin:\n",
        "      print('Your balance is: ', self.__balance)\n",
        "    else:\n",
        "      print('Wrong pin entered')\n",
        "      # self.menu()\n",
        "\n",
        "  def withdraw(self):\n",
        "    user_pin = input('Enter the pin: ')\n",
        "    if user_pin == self.pin:\n",
        "      # allow the withdraw\n",
        "      amount = int(input('Enter te amount: '))\n",
        "      if amount <= self.__balance:\n",
        "        self.__balance = self.__balance - amount\n",
        "        print('Withdrawal successful. Withdrawal balance is : ', amount)\n",
        "        print('New balance is : ', self.__balance)\n",
        "      # else:\n",
        "      #   print('Now enough amount.')\n",
        "    else:\n",
        "      print('You do not have such amount')\n",
        "    # self.menu()\n"
      ],
      "metadata": {
        "id": "CCabndDhaMSY"
      },
      "execution_count": 66,
      "outputs": []
    },
    {
      "cell_type": "code",
      "source": [
        "c1 = Atm()\n",
        "c2 = Atm()\n",
        "c3 = Atm()"
      ],
      "metadata": {
        "id": "Fm2KyFiUbH-Z"
      },
      "execution_count": 67,
      "outputs": []
    },
    {
      "cell_type": "code",
      "source": [
        "c1.cid"
      ],
      "metadata": {
        "id": "VfmoSLw3bMeA",
        "outputId": "03dc290e-fcf2-4941-db0c-bb5295f183c2",
        "colab": {
          "base_uri": "https://localhost:8080/"
        }
      },
      "execution_count": 68,
      "outputs": [
        {
          "output_type": "execute_result",
          "data": {
            "text/plain": [
              "1"
            ]
          },
          "metadata": {},
          "execution_count": 68
        }
      ]
    },
    {
      "cell_type": "code",
      "source": [
        "c2.cid"
      ],
      "metadata": {
        "id": "uVRwyY5ybbfD",
        "outputId": "a58e6936-bd22-477c-cdb4-32b068d442b1",
        "colab": {
          "base_uri": "https://localhost:8080/"
        }
      },
      "execution_count": 69,
      "outputs": [
        {
          "output_type": "execute_result",
          "data": {
            "text/plain": [
              "2"
            ]
          },
          "metadata": {},
          "execution_count": 69
        }
      ]
    },
    {
      "cell_type": "code",
      "source": [
        "c3.cid"
      ],
      "metadata": {
        "id": "oLsWNDk1bex1",
        "outputId": "90066b83-4611-4724-b26f-bcff987dfd69",
        "colab": {
          "base_uri": "https://localhost:8080/"
        }
      },
      "execution_count": 70,
      "outputs": [
        {
          "output_type": "execute_result",
          "data": {
            "text/plain": [
              "3"
            ]
          },
          "metadata": {},
          "execution_count": 70
        }
      ]
    },
    {
      "cell_type": "code",
      "source": [
        "Atm.get_counter()"
      ],
      "metadata": {
        "id": "Ob0ZuVw9bmhy",
        "outputId": "30d8ff68-2775-4ae0-9989-1000f29cc15e",
        "colab": {
          "base_uri": "https://localhost:8080/"
        }
      },
      "execution_count": 71,
      "outputs": [
        {
          "output_type": "execute_result",
          "data": {
            "text/plain": [
              "4"
            ]
          },
          "metadata": {},
          "execution_count": 71
        }
      ]
    },
    {
      "cell_type": "code",
      "source": [],
      "metadata": {
        "id": "HBgShmazmb7X"
      },
      "execution_count": null,
      "outputs": []
    }
  ]
}