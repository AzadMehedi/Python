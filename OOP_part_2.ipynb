{
  "nbformat": 4,
  "nbformat_minor": 0,
  "metadata": {
    "colab": {
      "provenance": [],
      "authorship_tag": "ABX9TyMCM/QPJ43wvNXqhTXYUxx9",
      "include_colab_link": true
    },
    "kernelspec": {
      "name": "python3",
      "display_name": "Python 3"
    },
    "language_info": {
      "name": "python"
    }
  },
  "cells": [
    {
      "cell_type": "markdown",
      "metadata": {
        "id": "view-in-github",
        "colab_type": "text"
      },
      "source": [
        "<a href=\"https://colab.research.google.com/github/AzadMehedi/Python/blob/main/OOP_part_2.ipynb\" target=\"_parent\"><img src=\"https://colab.research.google.com/assets/colab-badge.svg\" alt=\"Open In Colab\"/></a>"
      ]
    },
    {
      "cell_type": "markdown",
      "source": [
        "# Write OOP classes to handle the following scenarios:\n",
        "- A user can create and view 2D coordinates\n",
        "- A user can find out the distance between 2 coordinates\n",
        "- A user can find out the distance of a coordinate from origin\n",
        "- A user can check if a point lies on a given line\n",
        "- A user can find the distance between a given 2D point and a given line"
      ],
      "metadata": {
        "id": "hIlU5WOnjORZ"
      }
    },
    {
      "cell_type": "code",
      "source": [
        "class Point:\n",
        "\n",
        "  def __init__(self,x,y):\n",
        "    self.x_cod = x\n",
        "    self.y_cod = y\n",
        "\n",
        "  def __str__(self):\n",
        "    return '{},{}'.format(self.x_cod, self.y_cod)\n",
        "\n",
        "  # the distance between 2 coordinates    ->   d=√((x2 – x1)² + (y2 – y1)²)\n",
        "  def euclidean_distance(self,other):\n",
        "    return ((self.x_cod - other.y_cod)**2 + (self.y_cod - other.x_cod)**2)**0.5\n",
        "\n",
        "  # the distance of a coordinate from origin\n",
        "  def distance_from_origin(self):\n",
        "    # return (self.x_cod**2 + self.y_cod**2)**0.5\n",
        "    return self.euclidean_distance(Point(0,0))\n",
        "\n",
        "\n",
        "class Line:\n",
        "\n",
        "  def __init__(self,A,B,c):\n",
        "    self.A = A\n",
        "    self.B = B\n",
        "    self.C = c\n",
        "\n",
        "  def __str__(self):\n",
        "    return '{}x + {}y + {}'.format(self.A, self.B, self.C)\n",
        "\n",
        "  # check if a point lies on a given line     ->   Ax + By + C = 0\n",
        "  def point_on_line(line, point):\n",
        "    if line.A*point.x_cod + line.B*point.y_cod + line.C == 0:\n",
        "      return 'Lies on the point'\n",
        "    else:\n",
        "      return 'does not lie on the line' \n",
        "\n",
        "  # find the distance between a given 2D point and a given line  ->   d = |Ax1 + By1 + C|]/ √(A2 + B2)\n",
        "  def shortest_distance(line, point):\n",
        "    return abs(line.A*point.x_cod + line.B*point.y_cod + line.C)/(line.A**2 + line.B**2)**0.5\n",
        "\n"
      ],
      "metadata": {
        "id": "R6XDG1ksjQgQ"
      },
      "execution_count": null,
      "outputs": []
    },
    {
      "cell_type": "code",
      "source": [
        "p1 = Point(0,0)\n",
        "p2 = Point(10,10)\n",
        "print(p1)\n",
        "print(p2)\n",
        "print(p1.euclidean_distance(p2))\n",
        "print(p1.distance_from_origin())"
      ],
      "metadata": {
        "colab": {
          "base_uri": "https://localhost:8080/"
        },
        "id": "zrIMcrous248",
        "outputId": "994e256e-d000-41b6-d3f0-7e60c42465ee"
      },
      "execution_count": null,
      "outputs": [
        {
          "output_type": "stream",
          "name": "stdout",
          "text": [
            "0,0\n",
            "10,10\n",
            "14.142135623730951\n",
            "0.0\n"
          ]
        }
      ]
    },
    {
      "cell_type": "code",
      "source": [
        "l1 = Line(1,1,-2)\n",
        "p1 = Point(1,1)\n",
        "print(l1)\n",
        "print(p1)\n",
        "l1.point_on_line(p1)\n",
        "l1.shortest_distance(p1)"
      ],
      "metadata": {
        "colab": {
          "base_uri": "https://localhost:8080/"
        },
        "id": "jBq8GD0Q2T-J",
        "outputId": "d9cf1ecb-51a3-486a-dbe6-49095ef80640"
      },
      "execution_count": null,
      "outputs": [
        {
          "output_type": "stream",
          "name": "stdout",
          "text": [
            "1x + 1y + -2\n",
            "1,1\n"
          ]
        },
        {
          "output_type": "execute_result",
          "data": {
            "text/plain": [
              "0.0"
            ]
          },
          "metadata": {},
          "execution_count": 38
        }
      ]
    },
    {
      "cell_type": "markdown",
      "source": [
        "# How object access attributes"
      ],
      "metadata": {
        "id": "rnE-xsSC50u4"
      }
    },
    {
      "cell_type": "code",
      "source": [
        "class Person:\n",
        "\n",
        "  def __init__(self, name_input, country_input):\n",
        "    self.name = name_input\n",
        "    self.country = country_input\n",
        "\n",
        "  def greeting(self):\n",
        "    if self.country == 'Bangladesh':\n",
        "      print('Assalamu Alaikum, ', self.name)\n",
        "    else:\n",
        "      print('Hello, ', self.name)"
      ],
      "metadata": {
        "id": "MczePiRV9ddV"
      },
      "execution_count": 7,
      "outputs": []
    },
    {
      "cell_type": "code",
      "source": [
        "# How to access attributes\n",
        "p = Person('Mehedi', 'Bangladesh')"
      ],
      "metadata": {
        "id": "4Jweq7m86-r5"
      },
      "execution_count": 8,
      "outputs": []
    },
    {
      "cell_type": "code",
      "source": [
        "print(p.name)\n",
        "print(p.country)"
      ],
      "metadata": {
        "colab": {
          "base_uri": "https://localhost:8080/"
        },
        "id": "UAJBUMRq7gE9",
        "outputId": "89d84c46-8402-46fd-e5e4-41de33d7c515"
      },
      "execution_count": 9,
      "outputs": [
        {
          "output_type": "stream",
          "name": "stdout",
          "text": [
            "Mehedi\n",
            "Bangladesh\n"
          ]
        }
      ]
    },
    {
      "cell_type": "code",
      "source": [
        "# How to access methods\n",
        "p.greeting()"
      ],
      "metadata": {
        "colab": {
          "base_uri": "https://localhost:8080/"
        },
        "id": "dbQOMBOU7k5C",
        "outputId": "00b0e355-3b42-4b8e-f8e8-11e519b96bb1"
      },
      "execution_count": 10,
      "outputs": [
        {
          "output_type": "stream",
          "name": "stdout",
          "text": [
            "Assalamu Alaikum,  Mehedi\n"
          ]
        }
      ]
    },
    {
      "cell_type": "code",
      "source": [
        "# Attribute creation from outside the of the class\n",
        "p.gender = 'Male'\n",
        "p.gender"
      ],
      "metadata": {
        "colab": {
          "base_uri": "https://localhost:8080/",
          "height": 35
        },
        "id": "YcUhaaIc7083",
        "outputId": "0c7d211a-69c3-492d-c498-3ac3bc00f069"
      },
      "execution_count": 13,
      "outputs": [
        {
          "output_type": "execute_result",
          "data": {
            "text/plain": [
              "'Male'"
            ],
            "application/vnd.google.colaboratory.intrinsic+json": {
              "type": "string"
            }
          },
          "metadata": {},
          "execution_count": 13
        }
      ]
    },
    {
      "cell_type": "markdown",
      "source": [
        "### Reference Variables\n",
        "\n",
        "- Reference variables hold the objects\n",
        "- We can create objects without reference variable as well\n",
        "- An object can have multiple reference variables\n",
        "- Assigning a new reference variable to an existing object does not create a new object"
      ],
      "metadata": {
        "id": "x8UOM2_PCxe5"
      }
    },
    {
      "cell_type": "code",
      "source": [
        "# Object without reference\n",
        "class Person:\n",
        "\n",
        "  def __init__(self):\n",
        "    self.name = 'Mehedi'\n",
        "    self.gender = 'Male'\n",
        "\n",
        "# Person()\n",
        "p = Person()   # here p is not a object. it is containg the memory address of the object. Actualy here 'Person()' is the object\n",
        "q = p          # now q is contain p. That means q is containg the same address of the object Person() as p.  "
      ],
      "metadata": {
        "id": "kwOO5JftACP1"
      },
      "execution_count": 35,
      "outputs": []
    },
    {
      "cell_type": "code",
      "source": [
        "# Multiple reference\n",
        "print(id(p))\n",
        "print(id(q))\n"
      ],
      "metadata": {
        "colab": {
          "base_uri": "https://localhost:8080/"
        },
        "id": "X0sg9HQJFC-D",
        "outputId": "2591b80b-0ecc-45ab-f27f-27654031e962"
      },
      "execution_count": 32,
      "outputs": [
        {
          "output_type": "stream",
          "name": "stdout",
          "text": [
            "140024272623984\n",
            "140024272623984\n"
          ]
        }
      ]
    },
    {
      "cell_type": "code",
      "source": [
        "# change attribute value with the help of 2nd object\n",
        "print(p.name)\n",
        "print(q.name)\n",
        "p.name = 'ankit' # or q.name = 'Ankit'\n",
        "print(q.name)\n",
        "print(p.name)"
      ],
      "metadata": {
        "colab": {
          "base_uri": "https://localhost:8080/"
        },
        "id": "BSjZY0J1FvF-",
        "outputId": "191bd778-4018-49d8-d179-ddc8b1d09f7d"
      },
      "execution_count": 36,
      "outputs": [
        {
          "output_type": "stream",
          "name": "stdout",
          "text": [
            "Mehedi\n",
            "Mehedi\n",
            "ankit\n",
            "ankit\n"
          ]
        }
      ]
    },
    {
      "cell_type": "markdown",
      "source": [
        "# Pass by Reference"
      ],
      "metadata": {
        "id": "i-IaJ-QdT5AZ"
      }
    },
    {
      "cell_type": "code",
      "source": [
        "class Person:\n",
        "\n",
        "  def __init__(self,name,gender):\n",
        "    self.name = name\n",
        "    self.gender = gender\n",
        "\n",
        "# outside the class -> function\n",
        "def greet(person):\n",
        "  print('Hi my name is',person.name,'and I am a',person.gender)\n",
        "  p1 = Person('Mehedi','male')\n",
        "  return p1\n",
        "\n",
        "p = Person('Evan','male')\n",
        "x = greet(p)\n",
        "print(x.name)\n",
        "print(x.gender)\n"
      ],
      "metadata": {
        "colab": {
          "base_uri": "https://localhost:8080/"
        },
        "id": "5HL28GITHoRD",
        "outputId": "b0377d78-1e5a-47e6-8a6d-f56adc30b894"
      },
      "execution_count": 3,
      "outputs": [
        {
          "output_type": "stream",
          "name": "stdout",
          "text": [
            "Hi my name is Evan and I am a male\n",
            "Mehedi\n",
            "male\n"
          ]
        }
      ]
    },
    {
      "cell_type": "code",
      "source": [],
      "metadata": {
        "id": "xzPd6DeoY43C"
      },
      "execution_count": null,
      "outputs": []
    }
  ]
}