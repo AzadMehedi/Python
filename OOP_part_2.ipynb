{
  "nbformat": 4,
  "nbformat_minor": 0,
  "metadata": {
    "colab": {
      "provenance": [],
      "authorship_tag": "ABX9TyMJoLGg5xFSeTuFpkwFWNsP",
      "include_colab_link": true
    },
    "kernelspec": {
      "name": "python3",
      "display_name": "Python 3"
    },
    "language_info": {
      "name": "python"
    }
  },
  "cells": [
    {
      "cell_type": "markdown",
      "metadata": {
        "id": "view-in-github",
        "colab_type": "text"
      },
      "source": [
        "<a href=\"https://colab.research.google.com/github/AzadMehedi/Python/blob/main/OOP_part_2.ipynb\" target=\"_parent\"><img src=\"https://colab.research.google.com/assets/colab-badge.svg\" alt=\"Open In Colab\"/></a>"
      ]
    },
    {
      "cell_type": "markdown",
      "source": [
        "# Write OOP classes to handle the following scenarios:\n",
        "- A user can create and view 2D coordinates\n",
        "- A user can find out the distance between 2 coordinates\n",
        "- A user can find out the distance of a coordinate from origin\n",
        "- A user can check if a point lies on a given line\n",
        "- A user can find the distance between a given 2D point and a given line"
      ],
      "metadata": {
        "id": "hIlU5WOnjORZ"
      }
    },
    {
      "cell_type": "code",
      "source": [
        "class Point:\n",
        "\n",
        "  def __init__(self,x,y):\n",
        "    self.x_cod = x\n",
        "    self.y_cod = y\n",
        "\n",
        "  def __str__(self):\n",
        "    return '{},{}'.format(self.x_cod, self.y_cod)\n",
        "\n",
        "  # the distance between 2 coordinates    ->   d=√((x2 – x1)² + (y2 – y1)²)\n",
        "  def euclidean_distance(self,other):\n",
        "    return ((self.x_cod - other.y_cod)**2 + (self.y_cod - other.x_cod)**2)**0.5\n",
        "\n",
        "  # the distance of a coordinate from origin\n",
        "  def distance_from_origin(self):\n",
        "    # return (self.x_cod**2 + self.y_cod**2)**0.5\n",
        "    return self.euclidean_distance(Point(0,0))\n",
        "\n",
        "\n",
        "class Line:\n",
        "\n",
        "  def __init__(self,A,B,c):\n",
        "    self.A = A\n",
        "    self.B = B\n",
        "    self.C = c\n",
        "\n",
        "  def __str__(self):\n",
        "    return '{}x + {}y + {}'.format(self.A, self.B, self.C)\n",
        "\n",
        "  # check if a point lies on a given line     ->   Ax + By + C = 0\n",
        "  def point_on_line(line, point):\n",
        "    if line.A*point.x_cod + line.B*point.y_cod + line.C == 0:\n",
        "      return 'Lies on the point'\n",
        "    else:\n",
        "      return 'does not lie on the line' \n",
        "\n",
        "  # find the distance between a given 2D point and a given line  ->   d = |Ax1 + By1 + C|]/ √(A2 + B2)\n",
        "  def shortest_distance(line, point):\n",
        "    return abs(line.A*point.x_cod + line.B*point.y_cod + line.C)/(line.A**2 + line.B**2)**0.5\n",
        "\n"
      ],
      "metadata": {
        "id": "R6XDG1ksjQgQ"
      },
      "execution_count": null,
      "outputs": []
    },
    {
      "cell_type": "code",
      "source": [
        "p1 = Point(0,0)\n",
        "p2 = Point(10,10)\n",
        "print(p1)\n",
        "print(p2)\n",
        "print(p1.euclidean_distance(p2))\n",
        "print(p1.distance_from_origin())"
      ],
      "metadata": {
        "colab": {
          "base_uri": "https://localhost:8080/"
        },
        "id": "zrIMcrous248",
        "outputId": "994e256e-d000-41b6-d3f0-7e60c42465ee"
      },
      "execution_count": null,
      "outputs": [
        {
          "output_type": "stream",
          "name": "stdout",
          "text": [
            "0,0\n",
            "10,10\n",
            "14.142135623730951\n",
            "0.0\n"
          ]
        }
      ]
    },
    {
      "cell_type": "code",
      "source": [
        "l1 = Line(1,1,-2)\n",
        "p1 = Point(1,1)\n",
        "print(l1)\n",
        "print(p1)\n",
        "l1.point_on_line(p1)\n",
        "l1.shortest_distance(p1)"
      ],
      "metadata": {
        "colab": {
          "base_uri": "https://localhost:8080/"
        },
        "id": "jBq8GD0Q2T-J",
        "outputId": "d9cf1ecb-51a3-486a-dbe6-49095ef80640"
      },
      "execution_count": null,
      "outputs": [
        {
          "output_type": "stream",
          "name": "stdout",
          "text": [
            "1x + 1y + -2\n",
            "1,1\n"
          ]
        },
        {
          "output_type": "execute_result",
          "data": {
            "text/plain": [
              "0.0"
            ]
          },
          "metadata": {},
          "execution_count": 38
        }
      ]
    },
    {
      "cell_type": "code",
      "source": [],
      "metadata": {
        "id": "MczePiRV9ddV"
      },
      "execution_count": null,
      "outputs": []
    }
  ]
}