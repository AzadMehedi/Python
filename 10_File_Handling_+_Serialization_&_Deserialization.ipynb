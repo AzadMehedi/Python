{
  "nbformat": 4,
  "nbformat_minor": 0,
  "metadata": {
    "colab": {
      "provenance": [],
      "authorship_tag": "ABX9TyOIGO/br5RgAbrmYyzcqUmn",
      "include_colab_link": true
    },
    "kernelspec": {
      "name": "python3",
      "display_name": "Python 3"
    },
    "language_info": {
      "name": "python"
    }
  },
  "cells": [
    {
      "cell_type": "markdown",
      "metadata": {
        "id": "view-in-github",
        "colab_type": "text"
      },
      "source": [
        "<a href=\"https://colab.research.google.com/github/AzadMehedi/Python/blob/main/10_File_Handling_%2B_Serialization_%26_Deserialization.ipynb\" target=\"_parent\"><img src=\"https://colab.research.google.com/assets/colab-badge.svg\" alt=\"Open In Colab\"/></a>"
      ]
    },
    {
      "cell_type": "code",
      "execution_count": null,
      "metadata": {
        "id": "8qypjqqWf4Dw"
      },
      "outputs": [],
      "source": []
    },
    {
      "cell_type": "markdown",
      "source": [
        "### Some Theory\n",
        "\n",
        "##### Types of data used for I/O:\n",
        "- Text - '12345' as a sequence of unicode chars\n",
        "- Binary - 12345 as a sequence of bytes of its binary equivalent\n",
        "\n",
        "##### Hence there are 2 file types to deal with\n",
        "- Text files - All program files are text files\n",
        "- Binary Files - Images,music,video,exe files"
      ],
      "metadata": {
        "id": "WzAGmXL45eIa"
      }
    },
    {
      "cell_type": "code",
      "source": [],
      "metadata": {
        "id": "7qheD-W85fSo"
      },
      "execution_count": null,
      "outputs": []
    },
    {
      "cell_type": "markdown",
      "source": [
        "### How File I/O is done in most programming languages\n",
        "\n",
        "- Open a file\n",
        "- Read/Write data\n",
        "- Close the file"
      ],
      "metadata": {
        "id": "8JDok8Nd5hs6"
      }
    },
    {
      "cell_type": "markdown",
      "source": [
        "### Writing to a file"
      ],
      "metadata": {
        "id": "_kC3muQc5n-1"
      }
    },
    {
      "cell_type": "code",
      "source": [
        "# case 1 - if the file is not present\n",
        "f = open('sample.txt','w')\n",
        "f.write('Hello World')\n",
        "f.close()\n",
        "# since file is closed this will not work\n",
        "f.write('hello')"
      ],
      "metadata": {
        "id": "MmsAU7Si5ilg",
        "outputId": "993799ba-e9f9-44f1-920e-5e2075fb2d9d",
        "colab": {
          "base_uri": "https://localhost:8080/",
          "height": 201
        }
      },
      "execution_count": 4,
      "outputs": [
        {
          "output_type": "error",
          "ename": "ValueError",
          "evalue": "ignored",
          "traceback": [
            "\u001b[0;31m---------------------------------------------------------------------------\u001b[0m",
            "\u001b[0;31mValueError\u001b[0m                                Traceback (most recent call last)",
            "\u001b[0;32m<ipython-input-4-7ce3765f340a>\u001b[0m in \u001b[0;36m<module>\u001b[0;34m\u001b[0m\n\u001b[1;32m      3\u001b[0m \u001b[0mf\u001b[0m\u001b[0;34m.\u001b[0m\u001b[0mwrite\u001b[0m\u001b[0;34m(\u001b[0m\u001b[0;34m'Hello World'\u001b[0m\u001b[0;34m)\u001b[0m\u001b[0;34m\u001b[0m\u001b[0;34m\u001b[0m\u001b[0m\n\u001b[1;32m      4\u001b[0m \u001b[0mf\u001b[0m\u001b[0;34m.\u001b[0m\u001b[0mclose\u001b[0m\u001b[0;34m(\u001b[0m\u001b[0;34m)\u001b[0m\u001b[0;34m\u001b[0m\u001b[0;34m\u001b[0m\u001b[0m\n\u001b[0;32m----> 5\u001b[0;31m \u001b[0mf\u001b[0m\u001b[0;34m.\u001b[0m\u001b[0mwrite\u001b[0m\u001b[0;34m(\u001b[0m\u001b[0;34m'hello'\u001b[0m\u001b[0;34m)\u001b[0m\u001b[0;34m\u001b[0m\u001b[0;34m\u001b[0m\u001b[0m\n\u001b[0m",
            "\u001b[0;31mValueError\u001b[0m: I/O operation on closed file."
          ]
        }
      ]
    },
    {
      "cell_type": "code",
      "source": [
        "# write multiple strings\n",
        "f = open('sample1.txt','w')\n",
        "f.write('Hello World')\n",
        "f.write('\\nHow are you?')\n",
        "f.close()"
      ],
      "metadata": {
        "id": "bgQKA2ga8ssx"
      },
      "execution_count": 5,
      "outputs": []
    },
    {
      "cell_type": "code",
      "source": [
        "# case 2 - if the file is already present\n",
        "f = open('sample.txt','w')\n",
        "f.write('Salman khan')\n",
        "f.close()"
      ],
      "metadata": {
        "id": "JC5o9Y1R-Mf8"
      },
      "execution_count": 6,
      "outputs": []
    },
    {
      "cell_type": "code",
      "source": [
        "# Problem with w mode\n",
        "# introducing append mode\n",
        "f = open('sample1.txt','a')\n",
        "f.write('\\nI am fine.')\n",
        "f.close()"
      ],
      "metadata": {
        "id": "_DNizt9Z-rTu"
      },
      "execution_count": 10,
      "outputs": []
    },
    {
      "cell_type": "code",
      "source": [
        "# write lines\n",
        "L = 'My name is Mehedi Hasan.','\\nI studied CSE','\\nI have a dream'\n",
        "f = open('/content/sample.txt','w')\n",
        "f.writelines(L)\n",
        "f.close()"
      ],
      "metadata": {
        "id": "aXgQl6tKBJsz"
      },
      "execution_count": 13,
      "outputs": []
    },
    {
      "cell_type": "code",
      "source": [],
      "metadata": {
        "id": "nXjA0iK8C_cQ"
      },
      "execution_count": null,
      "outputs": []
    }
  ]
}