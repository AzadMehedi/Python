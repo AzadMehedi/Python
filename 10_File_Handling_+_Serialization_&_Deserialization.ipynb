{
  "nbformat": 4,
  "nbformat_minor": 0,
  "metadata": {
    "colab": {
      "provenance": [],
      "authorship_tag": "ABX9TyM90dKdnz3rCUpEMfNSOBhA",
      "include_colab_link": true
    },
    "kernelspec": {
      "name": "python3",
      "display_name": "Python 3"
    },
    "language_info": {
      "name": "python"
    }
  },
  "cells": [
    {
      "cell_type": "markdown",
      "metadata": {
        "id": "view-in-github",
        "colab_type": "text"
      },
      "source": [
        "<a href=\"https://colab.research.google.com/github/AzadMehedi/Python/blob/main/10_File_Handling_%2B_Serialization_%26_Deserialization.ipynb\" target=\"_parent\"><img src=\"https://colab.research.google.com/assets/colab-badge.svg\" alt=\"Open In Colab\"/></a>"
      ]
    },
    {
      "cell_type": "code",
      "execution_count": null,
      "metadata": {
        "id": "8qypjqqWf4Dw"
      },
      "outputs": [],
      "source": []
    },
    {
      "cell_type": "markdown",
      "source": [
        "### Some Theory\n",
        "\n",
        "##### Types of data used for I/O:\n",
        "- Text - '12345' as a sequence of unicode chars\n",
        "- Binary - 12345 as a sequence of bytes of its binary equivalent\n",
        "\n",
        "##### Hence there are 2 file types to deal with\n",
        "- Text files - All program files are text files\n",
        "- Binary Files - Images,music,video,exe files"
      ],
      "metadata": {
        "id": "WzAGmXL45eIa"
      }
    },
    {
      "cell_type": "code",
      "source": [],
      "metadata": {
        "id": "7qheD-W85fSo"
      },
      "execution_count": null,
      "outputs": []
    },
    {
      "cell_type": "markdown",
      "source": [
        "### How File I/O is done in most programming languages\n",
        "\n",
        "- Open a file\n",
        "- Read/Write data\n",
        "- Close the file"
      ],
      "metadata": {
        "id": "8JDok8Nd5hs6"
      }
    },
    {
      "cell_type": "markdown",
      "source": [
        "### Writing to a file"
      ],
      "metadata": {
        "id": "_kC3muQc5n-1"
      }
    },
    {
      "cell_type": "code",
      "source": [
        "# case 1 - if the file is not present\n",
        "f = open('sample.txt','w')\n",
        "f.write('Hello World')\n",
        "f.close()\n",
        "# since file is closed this will not work\n",
        "f.write('hello')"
      ],
      "metadata": {
        "id": "MmsAU7Si5ilg",
        "outputId": "fd3f2262-0b54-48b0-8b4a-e6d400ff7b78",
        "colab": {
          "base_uri": "https://localhost:8080/",
          "height": 201
        }
      },
      "execution_count": 1,
      "outputs": [
        {
          "output_type": "error",
          "ename": "ValueError",
          "evalue": "ignored",
          "traceback": [
            "\u001b[0;31m---------------------------------------------------------------------------\u001b[0m",
            "\u001b[0;31mValueError\u001b[0m                                Traceback (most recent call last)",
            "\u001b[0;32m<ipython-input-1-79a9b31ee332>\u001b[0m in \u001b[0;36m<module>\u001b[0;34m\u001b[0m\n\u001b[1;32m      4\u001b[0m \u001b[0mf\u001b[0m\u001b[0;34m.\u001b[0m\u001b[0mclose\u001b[0m\u001b[0;34m(\u001b[0m\u001b[0;34m)\u001b[0m\u001b[0;34m\u001b[0m\u001b[0;34m\u001b[0m\u001b[0m\n\u001b[1;32m      5\u001b[0m \u001b[0;31m# since file is closed this will not work\u001b[0m\u001b[0;34m\u001b[0m\u001b[0;34m\u001b[0m\u001b[0;34m\u001b[0m\u001b[0m\n\u001b[0;32m----> 6\u001b[0;31m \u001b[0mf\u001b[0m\u001b[0;34m.\u001b[0m\u001b[0mwrite\u001b[0m\u001b[0;34m(\u001b[0m\u001b[0;34m'hello'\u001b[0m\u001b[0;34m)\u001b[0m\u001b[0;34m\u001b[0m\u001b[0;34m\u001b[0m\u001b[0m\n\u001b[0m",
            "\u001b[0;31mValueError\u001b[0m: I/O operation on closed file."
          ]
        }
      ]
    },
    {
      "cell_type": "code",
      "source": [
        "# write multiple strings\n",
        "f = open('sample1.txt','w')\n",
        "f.write('Hello World')\n",
        "f.write('\\nHow are you?')\n",
        "f.close()"
      ],
      "metadata": {
        "id": "bgQKA2ga8ssx"
      },
      "execution_count": 2,
      "outputs": []
    },
    {
      "cell_type": "code",
      "source": [
        "# case 2 - if the file is already present\n",
        "f = open('sample.txt','w')\n",
        "f.write('Salman khan')\n",
        "f.close()"
      ],
      "metadata": {
        "id": "JC5o9Y1R-Mf8"
      },
      "execution_count": 3,
      "outputs": []
    },
    {
      "cell_type": "code",
      "source": [
        "# Problem with w mode\n",
        "# introducing append mode\n",
        "f = open('sample1.txt','a')   # using 'a' is allow us to write new things without removing previous.\n",
        "f.write('\\nI am fine.')\n",
        "f.close()"
      ],
      "metadata": {
        "id": "_DNizt9Z-rTu"
      },
      "execution_count": 4,
      "outputs": []
    },
    {
      "cell_type": "code",
      "source": [
        "# write lines\n",
        "L = 'My name is Mehedi Hasan.','\\nI studied CSE','\\nI have a dream'\n",
        "f = open('/content/sample.txt','w')\n",
        "f.writelines(L)\n",
        "f.close()"
      ],
      "metadata": {
        "id": "aXgQl6tKBJsz"
      },
      "execution_count": 5,
      "outputs": []
    },
    {
      "cell_type": "code",
      "source": [
        "# reading from files\n",
        "# -> using read()\n",
        "f = open('/content/sample.txt', 'r')\n",
        "s = f.read()\n",
        "print(s)\n",
        "f.close( )"
      ],
      "metadata": {
        "id": "nXjA0iK8C_cQ",
        "outputId": "fdc0a094-f149-46ed-a2d8-fdd21e51abd3",
        "colab": {
          "base_uri": "https://localhost:8080/"
        }
      },
      "execution_count": 6,
      "outputs": [
        {
          "output_type": "stream",
          "name": "stdout",
          "text": [
            "My name is Mehedi Hasan.\n",
            "I studied CSE\n",
            "I have a dream\n"
          ]
        }
      ]
    },
    {
      "cell_type": "code",
      "source": [
        "# reading 10 characters\n",
        "# -> using read()\n",
        "f = open('/content/sample.txt', 'r')\n",
        "s = f.read(10)\n",
        "print(s)\n",
        "f.close( )"
      ],
      "metadata": {
        "id": "Wgf3aBb7IXi-",
        "outputId": "8fa7b294-4312-4aa1-bd6b-d32cf7f666e8",
        "colab": {
          "base_uri": "https://localhost:8080/"
        }
      },
      "execution_count": 7,
      "outputs": [
        {
          "output_type": "stream",
          "name": "stdout",
          "text": [
            "My name is\n"
          ]
        }
      ]
    },
    {
      "cell_type": "code",
      "source": [
        "# readline() -> to read line by line\n",
        "f = open('/content/sample.txt','r')\n",
        "print(f.readline(), end='')\n",
        "print(f.readline(),end='')\n",
        "f.close()"
      ],
      "metadata": {
        "id": "N05lZRZrIjB_",
        "outputId": "0207757a-5e63-4919-9a8f-ea565f545bbe",
        "colab": {
          "base_uri": "https://localhost:8080/"
        }
      },
      "execution_count": 10,
      "outputs": [
        {
          "output_type": "stream",
          "name": "stdout",
          "text": [
            "My name is Mehedi Hasan.\n",
            "I studied CSE\n"
          ]
        }
      ]
    },
    {
      "cell_type": "code",
      "source": [
        "# reading entire using readline\n",
        "f = open('/content/sample.txt','r')\n",
        "while True:\n",
        "\n",
        "  data = f.readline()\n",
        "  if data == '':\n",
        "    break\n",
        "  else:\n",
        "    print(data, end='')\n",
        "\n",
        "f.close()"
      ],
      "metadata": {
        "id": "e9ATH3YTIjJe",
        "outputId": "10555f90-e281-439d-caa8-e01835cb976d",
        "colab": {
          "base_uri": "https://localhost:8080/"
        }
      },
      "execution_count": 11,
      "outputs": [
        {
          "output_type": "stream",
          "name": "stdout",
          "text": [
            "My name is Mehedi Hasan.\n",
            "I studied CSE\n",
            "I have a dream"
          ]
        }
      ]
    },
    {
      "cell_type": "markdown",
      "source": [
        "### Using Context Manager (With)\n",
        "\n",
        "- It's a good idea to close a file after usage as it will free up the resources\n",
        "- If we dont close it, garbage collector would close it\n",
        "- with keyword closes the file as soon as the usage is over"
      ],
      "metadata": {
        "id": "grikRwDVMFB9"
      }
    },
    {
      "cell_type": "code",
      "source": [
        "# with\n",
        "with open('/content/sample1.txt','w') as f:\n",
        "  f.write('Selmon vai')\n",
        "\n"
      ],
      "metadata": {
        "id": "yJCCSkWVK5Gd"
      },
      "execution_count": 13,
      "outputs": []
    },
    {
      "cell_type": "code",
      "source": [
        "f.write('hello')  # not working because uses of 'with', it close the file after work is done"
      ],
      "metadata": {
        "id": "7m3wXBSca1NO",
        "outputId": "28ecd9d2-cf41-427d-bce6-7c0042107067",
        "colab": {
          "base_uri": "https://localhost:8080/",
          "height": 167
        }
      },
      "execution_count": 14,
      "outputs": [
        {
          "output_type": "error",
          "ename": "ValueError",
          "evalue": "ignored",
          "traceback": [
            "\u001b[0;31m---------------------------------------------------------------------------\u001b[0m",
            "\u001b[0;31mValueError\u001b[0m                                Traceback (most recent call last)",
            "\u001b[0;32m<ipython-input-14-00cba062fa3d>\u001b[0m in \u001b[0;36m<module>\u001b[0;34m\u001b[0m\n\u001b[0;32m----> 1\u001b[0;31m \u001b[0mf\u001b[0m\u001b[0;34m.\u001b[0m\u001b[0mwrite\u001b[0m\u001b[0;34m(\u001b[0m\u001b[0;34m'hello'\u001b[0m\u001b[0;34m)\u001b[0m\u001b[0;34m\u001b[0m\u001b[0;34m\u001b[0m\u001b[0m\n\u001b[0m",
            "\u001b[0;31mValueError\u001b[0m: I/O operation on closed file."
          ]
        }
      ]
    },
    {
      "cell_type": "code",
      "source": [],
      "metadata": {
        "id": "m0gX0Snua_Sz"
      },
      "execution_count": null,
      "outputs": []
    }
  ]
}