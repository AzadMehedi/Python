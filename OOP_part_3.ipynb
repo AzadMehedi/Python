{
  "nbformat": 4,
  "nbformat_minor": 0,
  "metadata": {
    "colab": {
      "provenance": [],
      "authorship_tag": "ABX9TyPvoIxRAU8+9zdWF0DIBzpT",
      "include_colab_link": true
    },
    "kernelspec": {
      "name": "python3",
      "display_name": "Python 3"
    },
    "language_info": {
      "name": "python"
    }
  },
  "cells": [
    {
      "cell_type": "markdown",
      "metadata": {
        "id": "view-in-github",
        "colab_type": "text"
      },
      "source": [
        "<a href=\"https://colab.research.google.com/github/AzadMehedi/Python/blob/main/OOP_part_3.ipynb\" target=\"_parent\"><img src=\"https://colab.research.google.com/assets/colab-badge.svg\" alt=\"Open In Colab\"/></a>"
      ]
    },
    {
      "cell_type": "code",
      "execution_count": null,
      "metadata": {
        "id": "uC3ICtdhvx5j"
      },
      "outputs": [],
      "source": []
    },
    {
      "cell_type": "markdown",
      "source": [
        "# Class Relationship\n",
        "- Aggregation\n",
        "- Inhertance"
      ],
      "metadata": {
        "id": "a0FbN0bwv8k2"
      }
    },
    {
      "cell_type": "markdown",
      "source": [
        "Aggregation ->(has arelationship)"
      ],
      "metadata": {
        "id": "8Yy_kOIAv7Qi"
      }
    },
    {
      "cell_type": "code",
      "source": [
        "# example\n",
        "class Customer:\n",
        "  \n",
        "  def __init__(self, name, gender, address):\n",
        "    self.name = name\n",
        "    self.gender = gender\n",
        "    self.address = address \n",
        "\n",
        "  def print_address(self):\n",
        "    print(self.address.get_city(), self.address.pin, self.address.state)\n",
        "\n",
        "\n",
        "  def edit_profile(self, new_name, new_city, new_pin, new_state):\n",
        "    self.name = new_name\n",
        "    self.address.edit_address(new_city, new_pin, new_state)\n",
        "    \n",
        "\n",
        "  \n",
        "\n",
        "class Address:\n",
        "\n",
        "  def __init__(self, city, pin, state):\n",
        "    self.__city = city\n",
        "    self.pin = pin\n",
        "    self.state = state\n",
        "\n",
        "  def get_city(self):\n",
        "    return self.__city\n",
        "\n",
        "  def edit_address(self, new_city, new_pin, new_state):\n",
        "    self.__city = new_city\n",
        "    self.pin = new_pin\n",
        "    self.state = new_state \n",
        "\n",
        "\n",
        "\n",
        "add1 = Address('Naricaltal', 1245, 'comilla')\n",
        "cust = Customer('Mehedi','male', add1)\n",
        "\n",
        "cust.print_address()\n",
        "cust.edit_profile('Evan', 'Chittagram', 111111, 'Araihazar')\n",
        "cust.print_address()"
      ],
      "metadata": {
        "id": "bJsM4wXLwRjo",
        "outputId": "6468cfcf-d1c7-464e-e541-68624c745047",
        "colab": {
          "base_uri": "https://localhost:8080/"
        }
      },
      "execution_count": null,
      "outputs": [
        {
          "output_type": "stream",
          "name": "stdout",
          "text": [
            "Naricaltal 1245 comilla\n",
            "Chittagram 111111 Araihazar\n"
          ]
        }
      ]
    },
    {
      "cell_type": "code",
      "source": [],
      "metadata": {
        "id": "wh5gICcvMVGA"
      },
      "execution_count": null,
      "outputs": []
    },
    {
      "cell_type": "markdown",
      "source": [
        "# Inheritance"
      ],
      "metadata": {
        "id": "bfGMv4DQSA54"
      }
    },
    {
      "cell_type": "code",
      "source": [
        "# Inheritance & it's benifits\n",
        "\n",
        "# parent class\n",
        "class User:\n",
        "\n",
        "  def __init__(self):\n",
        "    self.name = 'Mehedi'\n",
        "    self.gender = 'Male'\n",
        "\n",
        "  def login(self):\n",
        "    print('login')\n",
        "\n",
        "# child class\n",
        "class Student(User):\n",
        "\n",
        "  def enroll(self):\n",
        "    print('Enroll into the course')\n",
        "\n",
        "\n",
        "u = User()\n",
        "s = Student()\n",
        "print(s.name)\n",
        "s.login()\n",
        "s.enroll()\n"
      ],
      "metadata": {
        "id": "KEx5f-tMSFWu",
        "outputId": "489a3dec-ed8b-4a41-9ef3-9457a5300a2e",
        "colab": {
          "base_uri": "https://localhost:8080/"
        }
      },
      "execution_count": 12,
      "outputs": [
        {
          "output_type": "stream",
          "name": "stdout",
          "text": [
            "Mehedi\n",
            "login\n",
            "Enroll into the course\n"
          ]
        }
      ]
    },
    {
      "cell_type": "markdown",
      "source": [
        "# What gets inherited?\n",
        "- Constructor\n",
        "- Non Private Attributes\n",
        "- Non Private Methods"
      ],
      "metadata": {
        "id": "AbBaBkTWimjf"
      }
    },
    {
      "cell_type": "code",
      "source": [
        "# constructor example\n",
        "\n",
        "class Phone:\n",
        "    def __init__(self, price, brand, camera):\n",
        "        print (\"Inside phone constructor\")\n",
        "        self.price = price\n",
        "        self.brand = brand\n",
        "        self.camera = camera\n",
        "\n",
        "    def buy(self):\n",
        "        print (\"Buying a phone\")\n",
        "\n",
        "class SmartPhone(Phone):\n",
        "    pass\n",
        "\n",
        "s=SmartPhone(20000, \"Apple\", 13)\n",
        "s.buy()   # here buy() is non private method\n",
        "\n"
      ],
      "metadata": {
        "id": "cuoXX5MQTcb6",
        "colab": {
          "base_uri": "https://localhost:8080/"
        },
        "outputId": "312602a8-5a8b-48ec-cd00-d1c1e6ffe734"
      },
      "execution_count": 13,
      "outputs": [
        {
          "output_type": "stream",
          "name": "stdout",
          "text": [
            "Inside phone constructor\n",
            "Buying a phone\n"
          ]
        }
      ]
    },
    {
      "cell_type": "code",
      "source": [],
      "metadata": {
        "id": "NKG05RT4mbHc"
      },
      "execution_count": null,
      "outputs": []
    },
    {
      "cell_type": "code",
      "source": [
        "# constructor example 2\n",
        "\n",
        "class Phone:\n",
        "    def __init__(self, price, brand, camera):\n",
        "        print (\"Inside phone constructor\")\n",
        "        self.__price = price\n",
        "        self.brand = brand\n",
        "        self.camera = camera\n",
        "\n",
        "class SmartPhone(Phone):\n",
        "    def __init__(self, os, ram):\n",
        "        self.os = os\n",
        "        self.ram = ram\n",
        "        print (\"Inside SmartPhone constructor\")\n",
        "\n",
        "s=SmartPhone(\"Android\", 2)\n"
      ],
      "metadata": {
        "id": "PMjCWA3wP_s-",
        "colab": {
          "base_uri": "https://localhost:8080/"
        },
        "outputId": "1174ee80-e886-4b03-d1a2-6eed748939cb"
      },
      "execution_count": 15,
      "outputs": [
        {
          "output_type": "stream",
          "name": "stdout",
          "text": [
            "Inside SmartPhone constructor\n"
          ]
        }
      ]
    },
    {
      "cell_type": "code",
      "source": [],
      "metadata": {
        "id": "emrhYQdho-bs"
      },
      "execution_count": null,
      "outputs": []
    },
    {
      "cell_type": "code",
      "source": [
        "# child can't access private members of the class\n",
        "\n",
        "class Phone:\n",
        "    def __init__(self, price, brand, camera):\n",
        "        print (\"Inside phone constructor\")\n",
        "        self.__price = price\n",
        "        self.brand = brand\n",
        "        self.camera = camera\n",
        "\n",
        "    #getter\n",
        "    def __show(self):\n",
        "        print (self.__price)\n",
        "\n",
        "class SmartPhone(Phone):\n",
        "    def check(self):\n",
        "        print(self.__price)\n",
        "\n",
        "s=SmartPhone(20000, \"Apple\", 13)\n",
        "print(s.brand)\n",
        "s.show()\n"
      ],
      "metadata": {
        "colab": {
          "base_uri": "https://localhost:8080/",
          "height": 236
        },
        "outputId": "6fa47bdd-1ab0-4747-db55-6bb1174338d0",
        "id": "vf4FP1Z0pfim"
      },
      "execution_count": 25,
      "outputs": [
        {
          "output_type": "stream",
          "name": "stdout",
          "text": [
            "Inside phone constructor\n",
            "Apple\n"
          ]
        },
        {
          "output_type": "error",
          "ename": "AttributeError",
          "evalue": "ignored",
          "traceback": [
            "\u001b[0;31m---------------------------------------------------------------------------\u001b[0m",
            "\u001b[0;31mAttributeError\u001b[0m                            Traceback (most recent call last)",
            "\u001b[0;32m<ipython-input-25-cfbcfab1ee10>\u001b[0m in \u001b[0;36m<module>\u001b[0;34m\u001b[0m\n\u001b[1;32m     18\u001b[0m \u001b[0ms\u001b[0m\u001b[0;34m=\u001b[0m\u001b[0mSmartPhone\u001b[0m\u001b[0;34m(\u001b[0m\u001b[0;36m20000\u001b[0m\u001b[0;34m,\u001b[0m \u001b[0;34m\"Apple\"\u001b[0m\u001b[0;34m,\u001b[0m \u001b[0;36m13\u001b[0m\u001b[0;34m)\u001b[0m\u001b[0;34m\u001b[0m\u001b[0;34m\u001b[0m\u001b[0m\n\u001b[1;32m     19\u001b[0m \u001b[0mprint\u001b[0m\u001b[0;34m(\u001b[0m\u001b[0ms\u001b[0m\u001b[0;34m.\u001b[0m\u001b[0mbrand\u001b[0m\u001b[0;34m)\u001b[0m\u001b[0;34m\u001b[0m\u001b[0;34m\u001b[0m\u001b[0m\n\u001b[0;32m---> 20\u001b[0;31m \u001b[0ms\u001b[0m\u001b[0;34m.\u001b[0m\u001b[0m__show\u001b[0m\u001b[0;34m(\u001b[0m\u001b[0;34m)\u001b[0m\u001b[0;34m\u001b[0m\u001b[0;34m\u001b[0m\u001b[0m\n\u001b[0m",
            "\u001b[0;31mAttributeError\u001b[0m: 'SmartPhone' object has no attribute '__show'"
          ]
        }
      ]
    },
    {
      "cell_type": "code",
      "source": [
        "class Parent:\n",
        "\n",
        "    def __init__(self,num):\n",
        "        self.__num=num\n",
        "\n",
        "    def get_num(self):\n",
        "        return self.__num\n",
        "\n",
        "class Child(Parent):\n",
        "\n",
        "    def show(self):\n",
        "        print(\"This is in child class\")\n",
        "        \n",
        "son=Child(100)\n",
        "print(son.get_num())\n",
        "son.show()"
      ],
      "metadata": {
        "colab": {
          "base_uri": "https://localhost:8080/"
        },
        "id": "Fmc9n3tks3uL",
        "outputId": "2dcf3279-4768-4faa-c1b1-96b318529d1e"
      },
      "execution_count": 26,
      "outputs": [
        {
          "output_type": "stream",
          "name": "stdout",
          "text": [
            "100\n",
            "This is in child class\n"
          ]
        }
      ]
    },
    {
      "cell_type": "code",
      "source": [
        "class Parent:\n",
        "\n",
        "    def __init__(self,num):\n",
        "        self.__num=num\n",
        "\n",
        "    def get_num(self):\n",
        "        return self.__num\n",
        "\n",
        "class Child(Parent):\n",
        "\n",
        "    def __init__(self,val,num):\n",
        "        self.__val=val\n",
        "\n",
        "    def get_val(self):\n",
        "        return self.__val\n",
        "        \n",
        "son=Child(100,10)\n",
        "print(\"Parent: Num:\",son.get_num())\n",
        "print(\"Child: Val:\",son.get_val())"
      ],
      "metadata": {
        "colab": {
          "base_uri": "https://localhost:8080/",
          "height": 340
        },
        "id": "qqyrJAc-uxn-",
        "outputId": "7015ec30-ea1d-4945-8501-1ac16c332a97"
      },
      "execution_count": 29,
      "outputs": [
        {
          "output_type": "error",
          "ename": "AttributeError",
          "evalue": "ignored",
          "traceback": [
            "\u001b[0;31m---------------------------------------------------------------------------\u001b[0m",
            "\u001b[0;31mAttributeError\u001b[0m                            Traceback (most recent call last)",
            "\u001b[0;32m<ipython-input-29-5a17300f6fc7>\u001b[0m in \u001b[0;36m<module>\u001b[0;34m\u001b[0m\n\u001b[1;32m     16\u001b[0m \u001b[0;34m\u001b[0m\u001b[0m\n\u001b[1;32m     17\u001b[0m \u001b[0mson\u001b[0m\u001b[0;34m=\u001b[0m\u001b[0mChild\u001b[0m\u001b[0;34m(\u001b[0m\u001b[0;36m100\u001b[0m\u001b[0;34m,\u001b[0m\u001b[0;36m10\u001b[0m\u001b[0;34m)\u001b[0m\u001b[0;34m\u001b[0m\u001b[0;34m\u001b[0m\u001b[0m\n\u001b[0;32m---> 18\u001b[0;31m \u001b[0mprint\u001b[0m\u001b[0;34m(\u001b[0m\u001b[0;34m\"Parent: Num:\"\u001b[0m\u001b[0;34m,\u001b[0m\u001b[0mson\u001b[0m\u001b[0;34m.\u001b[0m\u001b[0mget_num\u001b[0m\u001b[0;34m(\u001b[0m\u001b[0;34m)\u001b[0m\u001b[0;34m)\u001b[0m\u001b[0;34m\u001b[0m\u001b[0;34m\u001b[0m\u001b[0m\n\u001b[0m\u001b[1;32m     19\u001b[0m \u001b[0mprint\u001b[0m\u001b[0;34m(\u001b[0m\u001b[0;34m\"Child: Val:\"\u001b[0m\u001b[0;34m,\u001b[0m\u001b[0mson\u001b[0m\u001b[0;34m.\u001b[0m\u001b[0mget_val\u001b[0m\u001b[0;34m(\u001b[0m\u001b[0;34m)\u001b[0m\u001b[0;34m)\u001b[0m\u001b[0;34m\u001b[0m\u001b[0;34m\u001b[0m\u001b[0m\n",
            "\u001b[0;32m<ipython-input-29-5a17300f6fc7>\u001b[0m in \u001b[0;36mget_num\u001b[0;34m(self)\u001b[0m\n\u001b[1;32m      5\u001b[0m \u001b[0;34m\u001b[0m\u001b[0m\n\u001b[1;32m      6\u001b[0m     \u001b[0;32mdef\u001b[0m \u001b[0mget_num\u001b[0m\u001b[0;34m(\u001b[0m\u001b[0mself\u001b[0m\u001b[0;34m)\u001b[0m\u001b[0;34m:\u001b[0m\u001b[0;34m\u001b[0m\u001b[0;34m\u001b[0m\u001b[0m\n\u001b[0;32m----> 7\u001b[0;31m         \u001b[0;32mreturn\u001b[0m \u001b[0mself\u001b[0m\u001b[0;34m.\u001b[0m\u001b[0m__num\u001b[0m\u001b[0;34m\u001b[0m\u001b[0;34m\u001b[0m\u001b[0m\n\u001b[0m\u001b[1;32m      8\u001b[0m \u001b[0;34m\u001b[0m\u001b[0m\n\u001b[1;32m      9\u001b[0m \u001b[0;32mclass\u001b[0m \u001b[0mChild\u001b[0m\u001b[0;34m(\u001b[0m\u001b[0mParent\u001b[0m\u001b[0;34m)\u001b[0m\u001b[0;34m:\u001b[0m\u001b[0;34m\u001b[0m\u001b[0;34m\u001b[0m\u001b[0m\n",
            "\u001b[0;31mAttributeError\u001b[0m: 'Child' object has no attribute '_Parent__num'"
          ]
        }
      ]
    },
    {
      "cell_type": "code",
      "source": [
        "class A:\n",
        "    def __init__(self):\n",
        "        self.var1=100\n",
        "\n",
        "    def display1(self,var1):\n",
        "        print(\"class A :\", self.var1)\n",
        "class B(A):\n",
        "  \n",
        "    def display2(self,var1):\n",
        "        print(\"class B :\", self.var1)\n",
        "\n",
        "obj=B()\n",
        "obj.display1(200)"
      ],
      "metadata": {
        "colab": {
          "base_uri": "https://localhost:8080/"
        },
        "id": "Lly_irA7vSGJ",
        "outputId": "355aa0b0-74f1-4f97-8bb0-005d97470cb1"
      },
      "execution_count": 32,
      "outputs": [
        {
          "output_type": "stream",
          "name": "stdout",
          "text": [
            "class A : 100\n"
          ]
        }
      ]
    },
    {
      "cell_type": "code",
      "source": [],
      "metadata": {
        "id": "h2_M3pTsw64_"
      },
      "execution_count": null,
      "outputs": []
    },
    {
      "cell_type": "code",
      "source": [
        "# Method Overriding\n",
        "class Phone:\n",
        "    def __init__(self, price, brand, camera):\n",
        "        print (\"Inside phone constructor\")\n",
        "        self.__price = price\n",
        "        self.brand = brand\n",
        "        self.camera = camera\n",
        "\n",
        "    def buy(self):\n",
        "        print (\"Buying a phone\")\n",
        "\n",
        "class SmartPhone(Phone):\n",
        "    def buy(self):\n",
        "        print (\"Buying a smartphone\")\n",
        "\n",
        "s=SmartPhone(20000, \"Apple\", 13)\n",
        "s.buy()"
      ],
      "metadata": {
        "id": "EgDguVtCTlsY",
        "colab": {
          "base_uri": "https://localhost:8080/"
        },
        "outputId": "a234ead1-21b5-4fad-f18f-f5a1949fd861"
      },
      "execution_count": 39,
      "outputs": [
        {
          "output_type": "stream",
          "name": "stdout",
          "text": [
            "Inside phone constructor\n",
            "Buying a smartphone\n"
          ]
        }
      ]
    },
    {
      "cell_type": "markdown",
      "source": [
        "# Super Keyword"
      ],
      "metadata": {
        "id": "LiRyvq9d3pma"
      }
    },
    {
      "cell_type": "code",
      "source": [
        "class Phone:\n",
        "  def __init__(self, price, brand, camera):\n",
        "    print('Inside the constructor')\n",
        "    self.__price = price\n",
        "    self.brand = brand\n",
        "    self.camera = camera\n",
        "\n",
        "  def buy(self):\n",
        "    print('Buying a phone')\n",
        "\n",
        "\n",
        "class SmartPhone(Phone):\n",
        "  def buy(self):\n",
        "    print('Buying a smartphone')\n",
        "    # syntax to call method of parent class \n",
        "    super().buy()\n",
        "\n",
        "s = SmartPhone(80000, 'Apple', 48)\n",
        "s.buy()"
      ],
      "metadata": {
        "id": "PPuD3q311tW_",
        "outputId": "e40ea4c4-aa57-42ca-f706-c5aa80a22381",
        "colab": {
          "base_uri": "https://localhost:8080/"
        }
      },
      "execution_count": 40,
      "outputs": [
        {
          "output_type": "stream",
          "name": "stdout",
          "text": [
            "Inside the constructor\n",
            "Buying a smartphone\n",
            "Buying a phone\n"
          ]
        }
      ]
    },
    {
      "cell_type": "code",
      "source": [],
      "metadata": {
        "id": "nyqeZB_V5NUC"
      },
      "execution_count": null,
      "outputs": []
    }
  ]
}