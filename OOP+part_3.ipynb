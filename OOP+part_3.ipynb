{
  "nbformat": 4,
  "nbformat_minor": 0,
  "metadata": {
    "colab": {
      "provenance": [],
      "authorship_tag": "ABX9TyP3BWK0lZxIvh6ghGPCvfbp",
      "include_colab_link": true
    },
    "kernelspec": {
      "name": "python3",
      "display_name": "Python 3"
    },
    "language_info": {
      "name": "python"
    }
  },
  "cells": [
    {
      "cell_type": "markdown",
      "metadata": {
        "id": "view-in-github",
        "colab_type": "text"
      },
      "source": [
        "<a href=\"https://colab.research.google.com/github/AzadMehedi/Python/blob/main/OOP%2Bpart_3.ipynb\" target=\"_parent\"><img src=\"https://colab.research.google.com/assets/colab-badge.svg\" alt=\"Open In Colab\"/></a>"
      ]
    },
    {
      "cell_type": "code",
      "execution_count": null,
      "metadata": {
        "id": "uC3ICtdhvx5j"
      },
      "outputs": [],
      "source": []
    },
    {
      "cell_type": "markdown",
      "source": [
        "# Class Relationship\n",
        "- Aggregation\n",
        "- Inhertance"
      ],
      "metadata": {
        "id": "a0FbN0bwv8k2"
      }
    },
    {
      "cell_type": "markdown",
      "source": [
        "Aggregation ->(has arelationship)"
      ],
      "metadata": {
        "id": "8Yy_kOIAv7Qi"
      }
    },
    {
      "cell_type": "code",
      "source": [
        "# example\n",
        "class Customer:\n",
        "  \n",
        "  def __init__(self, name, gender, address):\n",
        "    self.name = name\n",
        "    self.gender = gender\n",
        "    self.address = address\n",
        "\n",
        "class Address:\n",
        "\n",
        "  def __init__(self, city, pin, state):\n",
        "    self.city = city\n",
        "    self.pin = pin\n",
        "    self.state = state\n",
        "\n",
        "\n",
        "add1 = Address('Naricaltal', 1245, 'comilla')\n",
        "cust = Customer('Mehedi','male', add1)\n"
      ],
      "metadata": {
        "id": "bJsM4wXLwRjo"
      },
      "execution_count": null,
      "outputs": []
    }
  ]
}