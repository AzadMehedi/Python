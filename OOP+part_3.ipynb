{
  "nbformat": 4,
  "nbformat_minor": 0,
  "metadata": {
    "colab": {
      "provenance": [],
      "authorship_tag": "ABX9TyM9EONW7hJY+pOPSHKDvDvA",
      "include_colab_link": true
    },
    "kernelspec": {
      "name": "python3",
      "display_name": "Python 3"
    },
    "language_info": {
      "name": "python"
    }
  },
  "cells": [
    {
      "cell_type": "markdown",
      "metadata": {
        "id": "view-in-github",
        "colab_type": "text"
      },
      "source": [
        "<a href=\"https://colab.research.google.com/github/AzadMehedi/Python/blob/main/OOP%2Bpart_3.ipynb\" target=\"_parent\"><img src=\"https://colab.research.google.com/assets/colab-badge.svg\" alt=\"Open In Colab\"/></a>"
      ]
    },
    {
      "cell_type": "code",
      "execution_count": null,
      "metadata": {
        "id": "uC3ICtdhvx5j"
      },
      "outputs": [],
      "source": []
    },
    {
      "cell_type": "markdown",
      "source": [
        "# Class Relationship\n",
        "- Aggregation\n",
        "- Inhertance"
      ],
      "metadata": {
        "id": "a0FbN0bwv8k2"
      }
    },
    {
      "cell_type": "markdown",
      "source": [
        "Aggregation ->(has arelationship)"
      ],
      "metadata": {
        "id": "8Yy_kOIAv7Qi"
      }
    },
    {
      "cell_type": "code",
      "source": [
        "# example\n",
        "class Customer:\n",
        "  \n",
        "  def __init__(self, name, gender, address):\n",
        "    self.name = name\n",
        "    self.gender = gender\n",
        "    self.address = address \n",
        "\n",
        "  def print_address(self):\n",
        "    print(self.address.get_city(), self.address.pin, self.address.state)\n",
        "\n",
        "\n",
        "  def edit_profile(self, new_name, new_city, new_pin, new_state):\n",
        "    self.name = new_name\n",
        "    self.address.edit_address(new_city, new_pin, new_state)\n",
        "    \n",
        "\n",
        "  \n",
        "\n",
        "class Address:\n",
        "\n",
        "  def __init__(self, city, pin, state):\n",
        "    self.__city = city\n",
        "    self.pin = pin\n",
        "    self.state = state\n",
        "\n",
        "  def get_city(self):\n",
        "    return self.__city\n",
        "\n",
        "  def edit_address(self, new_city, new_pin, new_state):\n",
        "    self.__city = new_city\n",
        "    self.pin = new_pin\n",
        "    self.state = new_state \n",
        "\n",
        "\n",
        "\n",
        "add1 = Address('Naricaltal', 1245, 'comilla')\n",
        "cust = Customer('Mehedi','male', add1)\n",
        "\n",
        "cust.print_address()\n",
        "cust.edit_profile('Evan', 'Chittagram', 111111, 'Araihazar')\n",
        "cust.print_address()"
      ],
      "metadata": {
        "id": "bJsM4wXLwRjo",
        "outputId": "6468cfcf-d1c7-464e-e541-68624c745047",
        "colab": {
          "base_uri": "https://localhost:8080/"
        }
      },
      "execution_count": 11,
      "outputs": [
        {
          "output_type": "stream",
          "name": "stdout",
          "text": [
            "Naricaltal 1245 comilla\n",
            "Chittagram 111111 Araihazar\n"
          ]
        }
      ]
    },
    {
      "cell_type": "code",
      "source": [],
      "metadata": {
        "id": "wh5gICcvMVGA"
      },
      "execution_count": null,
      "outputs": []
    }
  ]
}